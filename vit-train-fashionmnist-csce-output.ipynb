{
 "cells": [
  {
   "cell_type": "markdown",
   "id": "ba8d5b61",
   "metadata": {
    "papermill": {
     "duration": 0.010056,
     "end_time": "2023-11-30T11:10:52.459173",
     "exception": false,
     "start_time": "2023-11-30T11:10:52.449117",
     "status": "completed"
    },
    "tags": []
   },
   "source": [
    "# ViT Fine-Tuning Demo\n",
    "\n",
    "*Based on: https://huggingface.co/blog/fine-tune-vit*\n",
    "\n",
    "Before running, download the [TrashNet dataset](https://github.com/garythung/trashnet/raw/master/data/dataset-resized.zip) and extract it to the 'dataset' folder."
   ]
  },
  {
   "cell_type": "code",
   "execution_count": 1,
   "id": "661717df",
   "metadata": {
    "execution": {
     "iopub.execute_input": "2023-11-30T11:10:52.473490Z",
     "iopub.status.busy": "2023-11-30T11:10:52.472633Z",
     "iopub.status.idle": "2023-11-30T11:11:13.063761Z",
     "shell.execute_reply": "2023-11-30T11:11:13.061200Z"
    },
    "papermill": {
     "duration": 20.603155,
     "end_time": "2023-11-30T11:11:13.068134",
     "exception": false,
     "start_time": "2023-11-30T11:10:52.464979",
     "status": "completed"
    },
    "tags": []
   },
   "outputs": [
    {
     "name": "stdout",
     "output_type": "stream",
     "text": [
      "Requirement already satisfied: huggingface in /home/schakkera/miniconda3/envs/ml/lib/python3.10/site-packages (0.0.1)\r\n"
     ]
    },
    {
     "name": "stdout",
     "output_type": "stream",
     "text": [
      "Note: you may need to restart the kernel to use updated packages.\n"
     ]
    },
    {
     "name": "stdout",
     "output_type": "stream",
     "text": [
      "Requirement already satisfied: datasets in /home/schakkera/miniconda3/envs/ml/lib/python3.10/site-packages (2.15.0)\r\n"
     ]
    },
    {
     "name": "stdout",
     "output_type": "stream",
     "text": [
      "Requirement already satisfied: numpy>=1.17 in /home/schakkera/miniconda3/envs/ml/lib/python3.10/site-packages (from datasets) (1.26.0)\r\n",
      "Requirement already satisfied: pyarrow>=8.0.0 in /home/schakkera/miniconda3/envs/ml/lib/python3.10/site-packages (from datasets) (14.0.1)\r\n",
      "Requirement already satisfied: pyarrow-hotfix in /home/schakkera/miniconda3/envs/ml/lib/python3.10/site-packages (from datasets) (0.6)\r\n",
      "Requirement already satisfied: dill<0.3.8,>=0.3.0 in /home/schakkera/miniconda3/envs/ml/lib/python3.10/site-packages (from datasets) (0.3.7)\r\n",
      "Requirement already satisfied: pandas in /home/schakkera/miniconda3/envs/ml/lib/python3.10/site-packages (from datasets) (2.1.3)\r\n",
      "Requirement already satisfied: requests>=2.19.0 in /home/schakkera/miniconda3/envs/ml/lib/python3.10/site-packages (from datasets) (2.31.0)\r\n",
      "Requirement already satisfied: tqdm>=4.62.1 in /home/schakkera/miniconda3/envs/ml/lib/python3.10/site-packages (from datasets) (4.66.1)\r\n",
      "Requirement already satisfied: xxhash in /home/schakkera/miniconda3/envs/ml/lib/python3.10/site-packages (from datasets) (3.4.1)\r\n",
      "Requirement already satisfied: multiprocess in /home/schakkera/miniconda3/envs/ml/lib/python3.10/site-packages (from datasets) (0.70.15)\r\n",
      "Requirement already satisfied: fsspec<=2023.10.0,>=2023.1.0 in /home/schakkera/miniconda3/envs/ml/lib/python3.10/site-packages (from fsspec[http]<=2023.10.0,>=2023.1.0->datasets) (2023.10.0)\r\n",
      "Requirement already satisfied: aiohttp in /home/schakkera/miniconda3/envs/ml/lib/python3.10/site-packages (from datasets) (3.9.1)\r\n",
      "Requirement already satisfied: huggingface-hub>=0.18.0 in /home/schakkera/miniconda3/envs/ml/lib/python3.10/site-packages (from datasets) (0.19.4)\r\n",
      "Requirement already satisfied: packaging in /home/schakkera/miniconda3/envs/ml/lib/python3.10/site-packages (from datasets) (23.2)\r\n",
      "Requirement already satisfied: pyyaml>=5.1 in /home/schakkera/miniconda3/envs/ml/lib/python3.10/site-packages (from datasets) (6.0.1)\r\n"
     ]
    },
    {
     "name": "stdout",
     "output_type": "stream",
     "text": [
      "Requirement already satisfied: attrs>=17.3.0 in /home/schakkera/miniconda3/envs/ml/lib/python3.10/site-packages (from aiohttp->datasets) (23.1.0)\r\n",
      "Requirement already satisfied: multidict<7.0,>=4.5 in /home/schakkera/miniconda3/envs/ml/lib/python3.10/site-packages (from aiohttp->datasets) (6.0.4)\r\n",
      "Requirement already satisfied: yarl<2.0,>=1.0 in /home/schakkera/miniconda3/envs/ml/lib/python3.10/site-packages (from aiohttp->datasets) (1.9.3)\r\n",
      "Requirement already satisfied: frozenlist>=1.1.1 in /home/schakkera/miniconda3/envs/ml/lib/python3.10/site-packages (from aiohttp->datasets) (1.4.0)\r\n",
      "Requirement already satisfied: aiosignal>=1.1.2 in /home/schakkera/miniconda3/envs/ml/lib/python3.10/site-packages (from aiohttp->datasets) (1.3.1)\r\n",
      "Requirement already satisfied: async-timeout<5.0,>=4.0 in /home/schakkera/miniconda3/envs/ml/lib/python3.10/site-packages (from aiohttp->datasets) (4.0.3)\r\n"
     ]
    },
    {
     "name": "stdout",
     "output_type": "stream",
     "text": [
      "Requirement already satisfied: filelock in /home/schakkera/miniconda3/envs/ml/lib/python3.10/site-packages (from huggingface-hub>=0.18.0->datasets) (3.13.1)\r\n",
      "Requirement already satisfied: typing-extensions>=3.7.4.3 in /home/schakkera/miniconda3/envs/ml/lib/python3.10/site-packages (from huggingface-hub>=0.18.0->datasets) (4.7.1)\r\n"
     ]
    },
    {
     "name": "stdout",
     "output_type": "stream",
     "text": [
      "Requirement already satisfied: charset-normalizer<4,>=2 in /home/schakkera/miniconda3/envs/ml/lib/python3.10/site-packages (from requests>=2.19.0->datasets) (2.0.4)\r\n",
      "Requirement already satisfied: idna<4,>=2.5 in /home/schakkera/miniconda3/envs/ml/lib/python3.10/site-packages (from requests>=2.19.0->datasets) (3.4)\r\n",
      "Requirement already satisfied: urllib3<3,>=1.21.1 in /home/schakkera/miniconda3/envs/ml/lib/python3.10/site-packages (from requests>=2.19.0->datasets) (1.26.18)\r\n",
      "Requirement already satisfied: certifi>=2017.4.17 in /home/schakkera/miniconda3/envs/ml/lib/python3.10/site-packages (from requests>=2.19.0->datasets) (2023.11.17)\r\n"
     ]
    },
    {
     "name": "stdout",
     "output_type": "stream",
     "text": [
      "Requirement already satisfied: python-dateutil>=2.8.2 in /home/schakkera/miniconda3/envs/ml/lib/python3.10/site-packages (from pandas->datasets) (2.8.2)\r\n",
      "Requirement already satisfied: pytz>=2020.1 in /home/schakkera/miniconda3/envs/ml/lib/python3.10/site-packages (from pandas->datasets) (2023.3.post1)\r\n",
      "Requirement already satisfied: tzdata>=2022.1 in /home/schakkera/miniconda3/envs/ml/lib/python3.10/site-packages (from pandas->datasets) (2023.3)\r\n"
     ]
    },
    {
     "name": "stdout",
     "output_type": "stream",
     "text": [
      "Requirement already satisfied: six>=1.5 in /home/schakkera/miniconda3/envs/ml/lib/python3.10/site-packages (from python-dateutil>=2.8.2->pandas->datasets) (1.16.0)\r\n"
     ]
    },
    {
     "name": "stdout",
     "output_type": "stream",
     "text": [
      "Note: you may need to restart the kernel to use updated packages.\n"
     ]
    },
    {
     "name": "stdout",
     "output_type": "stream",
     "text": [
      "Requirement already satisfied: pillow in /home/schakkera/miniconda3/envs/ml/lib/python3.10/site-packages (10.0.1)\r\n"
     ]
    },
    {
     "name": "stdout",
     "output_type": "stream",
     "text": [
      "Note: you may need to restart the kernel to use updated packages.\n"
     ]
    },
    {
     "name": "stdout",
     "output_type": "stream",
     "text": [
      "Requirement already satisfied: transformers in /home/schakkera/miniconda3/envs/ml/lib/python3.10/site-packages (4.35.2)\r\n"
     ]
    },
    {
     "name": "stdout",
     "output_type": "stream",
     "text": [
      "Requirement already satisfied: filelock in /home/schakkera/miniconda3/envs/ml/lib/python3.10/site-packages (from transformers) (3.13.1)\r\n",
      "Requirement already satisfied: huggingface-hub<1.0,>=0.16.4 in /home/schakkera/miniconda3/envs/ml/lib/python3.10/site-packages (from transformers) (0.19.4)\r\n",
      "Requirement already satisfied: numpy>=1.17 in /home/schakkera/miniconda3/envs/ml/lib/python3.10/site-packages (from transformers) (1.26.0)\r\n",
      "Requirement already satisfied: packaging>=20.0 in /home/schakkera/miniconda3/envs/ml/lib/python3.10/site-packages (from transformers) (23.2)\r\n",
      "Requirement already satisfied: pyyaml>=5.1 in /home/schakkera/miniconda3/envs/ml/lib/python3.10/site-packages (from transformers) (6.0.1)\r\n",
      "Requirement already satisfied: regex!=2019.12.17 in /home/schakkera/miniconda3/envs/ml/lib/python3.10/site-packages (from transformers) (2023.10.3)\r\n",
      "Requirement already satisfied: requests in /home/schakkera/miniconda3/envs/ml/lib/python3.10/site-packages (from transformers) (2.31.0)\r\n",
      "Requirement already satisfied: tokenizers<0.19,>=0.14 in /home/schakkera/miniconda3/envs/ml/lib/python3.10/site-packages (from transformers) (0.15.0)\r\n",
      "Requirement already satisfied: safetensors>=0.3.1 in /home/schakkera/miniconda3/envs/ml/lib/python3.10/site-packages (from transformers) (0.4.1)\r\n",
      "Requirement already satisfied: tqdm>=4.27 in /home/schakkera/miniconda3/envs/ml/lib/python3.10/site-packages (from transformers) (4.66.1)\r\n"
     ]
    },
    {
     "name": "stdout",
     "output_type": "stream",
     "text": [
      "Requirement already satisfied: fsspec>=2023.5.0 in /home/schakkera/miniconda3/envs/ml/lib/python3.10/site-packages (from huggingface-hub<1.0,>=0.16.4->transformers) (2023.10.0)\r\n",
      "Requirement already satisfied: typing-extensions>=3.7.4.3 in /home/schakkera/miniconda3/envs/ml/lib/python3.10/site-packages (from huggingface-hub<1.0,>=0.16.4->transformers) (4.7.1)\r\n"
     ]
    },
    {
     "name": "stdout",
     "output_type": "stream",
     "text": [
      "Requirement already satisfied: charset-normalizer<4,>=2 in /home/schakkera/miniconda3/envs/ml/lib/python3.10/site-packages (from requests->transformers) (2.0.4)\r\n",
      "Requirement already satisfied: idna<4,>=2.5 in /home/schakkera/miniconda3/envs/ml/lib/python3.10/site-packages (from requests->transformers) (3.4)\r\n",
      "Requirement already satisfied: urllib3<3,>=1.21.1 in /home/schakkera/miniconda3/envs/ml/lib/python3.10/site-packages (from requests->transformers) (1.26.18)\r\n",
      "Requirement already satisfied: certifi>=2017.4.17 in /home/schakkera/miniconda3/envs/ml/lib/python3.10/site-packages (from requests->transformers) (2023.11.17)\r\n"
     ]
    },
    {
     "name": "stdout",
     "output_type": "stream",
     "text": [
      "Note: you may need to restart the kernel to use updated packages.\n"
     ]
    },
    {
     "name": "stdout",
     "output_type": "stream",
     "text": [
      "Requirement already satisfied: scikit-learn in /home/schakkera/miniconda3/envs/ml/lib/python3.10/site-packages (1.3.2)\r\n"
     ]
    },
    {
     "name": "stdout",
     "output_type": "stream",
     "text": [
      "Requirement already satisfied: numpy<2.0,>=1.17.3 in /home/schakkera/miniconda3/envs/ml/lib/python3.10/site-packages (from scikit-learn) (1.26.0)\r\n",
      "Requirement already satisfied: scipy>=1.5.0 in /home/schakkera/miniconda3/envs/ml/lib/python3.10/site-packages (from scikit-learn) (1.11.4)\r\n",
      "Requirement already satisfied: joblib>=1.1.1 in /home/schakkera/miniconda3/envs/ml/lib/python3.10/site-packages (from scikit-learn) (1.3.2)\r\n",
      "Requirement already satisfied: threadpoolctl>=2.0.0 in /home/schakkera/miniconda3/envs/ml/lib/python3.10/site-packages (from scikit-learn) (3.2.0)\r\n"
     ]
    },
    {
     "name": "stdout",
     "output_type": "stream",
     "text": [
      "Note: you may need to restart the kernel to use updated packages.\n"
     ]
    },
    {
     "name": "stdout",
     "output_type": "stream",
     "text": [
      "Requirement already satisfied: transformers[torch] in /home/schakkera/miniconda3/envs/ml/lib/python3.10/site-packages (4.35.2)\r\n"
     ]
    },
    {
     "name": "stdout",
     "output_type": "stream",
     "text": [
      "Requirement already satisfied: filelock in /home/schakkera/miniconda3/envs/ml/lib/python3.10/site-packages (from transformers[torch]) (3.13.1)\r\n",
      "Requirement already satisfied: huggingface-hub<1.0,>=0.16.4 in /home/schakkera/miniconda3/envs/ml/lib/python3.10/site-packages (from transformers[torch]) (0.19.4)\r\n",
      "Requirement already satisfied: numpy>=1.17 in /home/schakkera/miniconda3/envs/ml/lib/python3.10/site-packages (from transformers[torch]) (1.26.0)\r\n",
      "Requirement already satisfied: packaging>=20.0 in /home/schakkera/miniconda3/envs/ml/lib/python3.10/site-packages (from transformers[torch]) (23.2)\r\n",
      "Requirement already satisfied: pyyaml>=5.1 in /home/schakkera/miniconda3/envs/ml/lib/python3.10/site-packages (from transformers[torch]) (6.0.1)\r\n"
     ]
    },
    {
     "name": "stdout",
     "output_type": "stream",
     "text": [
      "Requirement already satisfied: regex!=2019.12.17 in /home/schakkera/miniconda3/envs/ml/lib/python3.10/site-packages (from transformers[torch]) (2023.10.3)\r\n",
      "Requirement already satisfied: requests in /home/schakkera/miniconda3/envs/ml/lib/python3.10/site-packages (from transformers[torch]) (2.31.0)\r\n",
      "Requirement already satisfied: tokenizers<0.19,>=0.14 in /home/schakkera/miniconda3/envs/ml/lib/python3.10/site-packages (from transformers[torch]) (0.15.0)\r\n",
      "Requirement already satisfied: safetensors>=0.3.1 in /home/schakkera/miniconda3/envs/ml/lib/python3.10/site-packages (from transformers[torch]) (0.4.1)\r\n",
      "Requirement already satisfied: tqdm>=4.27 in /home/schakkera/miniconda3/envs/ml/lib/python3.10/site-packages (from transformers[torch]) (4.66.1)\r\n",
      "Requirement already satisfied: torch!=1.12.0,>=1.10 in /home/schakkera/miniconda3/envs/ml/lib/python3.10/site-packages (from transformers[torch]) (2.1.1)\r\n",
      "Requirement already satisfied: accelerate>=0.20.3 in /home/schakkera/miniconda3/envs/ml/lib/python3.10/site-packages (from transformers[torch]) (0.24.1)\r\n"
     ]
    },
    {
     "name": "stdout",
     "output_type": "stream",
     "text": [
      "Requirement already satisfied: psutil in /home/schakkera/miniconda3/envs/ml/lib/python3.10/site-packages (from accelerate>=0.20.3->transformers[torch]) (5.9.6)\r\n"
     ]
    },
    {
     "name": "stdout",
     "output_type": "stream",
     "text": [
      "Requirement already satisfied: fsspec>=2023.5.0 in /home/schakkera/miniconda3/envs/ml/lib/python3.10/site-packages (from huggingface-hub<1.0,>=0.16.4->transformers[torch]) (2023.10.0)\r\n",
      "Requirement already satisfied: typing-extensions>=3.7.4.3 in /home/schakkera/miniconda3/envs/ml/lib/python3.10/site-packages (from huggingface-hub<1.0,>=0.16.4->transformers[torch]) (4.7.1)\r\n"
     ]
    },
    {
     "name": "stdout",
     "output_type": "stream",
     "text": [
      "Requirement already satisfied: sympy in /home/schakkera/miniconda3/envs/ml/lib/python3.10/site-packages (from torch!=1.12.0,>=1.10->transformers[torch]) (1.11.1)\r\n",
      "Requirement already satisfied: networkx in /home/schakkera/miniconda3/envs/ml/lib/python3.10/site-packages (from torch!=1.12.0,>=1.10->transformers[torch]) (3.1)\r\n",
      "Requirement already satisfied: jinja2 in /home/schakkera/miniconda3/envs/ml/lib/python3.10/site-packages (from torch!=1.12.0,>=1.10->transformers[torch]) (3.1.2)\r\n",
      "Requirement already satisfied: charset-normalizer<4,>=2 in /home/schakkera/miniconda3/envs/ml/lib/python3.10/site-packages (from requests->transformers[torch]) (2.0.4)\r\n",
      "Requirement already satisfied: idna<4,>=2.5 in /home/schakkera/miniconda3/envs/ml/lib/python3.10/site-packages (from requests->transformers[torch]) (3.4)\r\n",
      "Requirement already satisfied: urllib3<3,>=1.21.1 in /home/schakkera/miniconda3/envs/ml/lib/python3.10/site-packages (from requests->transformers[torch]) (1.26.18)\r\n",
      "Requirement already satisfied: certifi>=2017.4.17 in /home/schakkera/miniconda3/envs/ml/lib/python3.10/site-packages (from requests->transformers[torch]) (2023.11.17)\r\n"
     ]
    },
    {
     "name": "stdout",
     "output_type": "stream",
     "text": [
      "Requirement already satisfied: MarkupSafe>=2.0 in /home/schakkera/miniconda3/envs/ml/lib/python3.10/site-packages (from jinja2->torch!=1.12.0,>=1.10->transformers[torch]) (2.1.1)\r\n",
      "Requirement already satisfied: mpmath>=0.19 in /home/schakkera/miniconda3/envs/ml/lib/python3.10/site-packages (from sympy->torch!=1.12.0,>=1.10->transformers[torch]) (1.3.0)\r\n"
     ]
    },
    {
     "name": "stdout",
     "output_type": "stream",
     "text": [
      "Note: you may need to restart the kernel to use updated packages.\n"
     ]
    },
    {
     "name": "stdout",
     "output_type": "stream",
     "text": [
      "Requirement already satisfied: tensorboardX in /home/schakkera/miniconda3/envs/ml/lib/python3.10/site-packages (2.6.2.2)\r\n"
     ]
    },
    {
     "name": "stdout",
     "output_type": "stream",
     "text": [
      "Requirement already satisfied: numpy in /home/schakkera/miniconda3/envs/ml/lib/python3.10/site-packages (from tensorboardX) (1.26.0)\r\n",
      "Requirement already satisfied: packaging in /home/schakkera/miniconda3/envs/ml/lib/python3.10/site-packages (from tensorboardX) (23.2)\r\n",
      "Requirement already satisfied: protobuf>=3.20 in /home/schakkera/miniconda3/envs/ml/lib/python3.10/site-packages (from tensorboardX) (4.25.1)\r\n"
     ]
    },
    {
     "name": "stdout",
     "output_type": "stream",
     "text": [
      "Note: you may need to restart the kernel to use updated packages.\n"
     ]
    }
   ],
   "source": [
    "%pip install huggingface\n",
    "%pip install datasets\n",
    "%pip install pillow\n",
    "%pip install transformers\n",
    "%pip install scikit-learn\n",
    "%pip install transformers[torch]\n",
    "%pip install tensorboardX\n",
    "# PyTorch + CUDA should be installed manually"
   ]
  },
  {
   "cell_type": "markdown",
   "id": "e7b5f849",
   "metadata": {
    "papermill": {
     "duration": 0.009219,
     "end_time": "2023-11-30T11:11:13.085792",
     "exception": false,
     "start_time": "2023-11-30T11:11:13.076573",
     "status": "completed"
    },
    "tags": []
   },
   "source": [
    "## Dataset Processing"
   ]
  },
  {
   "cell_type": "code",
   "execution_count": 2,
   "id": "b6a40e0c",
   "metadata": {
    "execution": {
     "iopub.execute_input": "2023-11-30T11:11:13.102857Z",
     "iopub.status.busy": "2023-11-30T11:11:13.102361Z",
     "iopub.status.idle": "2023-11-30T11:12:09.914120Z",
     "shell.execute_reply": "2023-11-30T11:12:09.913354Z"
    },
    "papermill": {
     "duration": 56.823454,
     "end_time": "2023-11-30T11:12:09.916911",
     "exception": false,
     "start_time": "2023-11-30T11:11:13.093457",
     "status": "completed"
    },
    "tags": []
   },
   "outputs": [
    {
     "data": {
      "application/vnd.jupyter.widget-view+json": {
       "model_id": "7721f0ec64494c8d8959c68ace7fc7cd",
       "version_major": 2,
       "version_minor": 0
      },
      "text/plain": [
       "Resolving data files:   0%|          | 0/40800 [00:00<?, ?it/s]"
      ]
     },
     "metadata": {},
     "output_type": "display_data"
    },
    {
     "data": {
      "application/vnd.jupyter.widget-view+json": {
       "model_id": "0647abbd2f4044dcb3288d13f311ad46",
       "version_major": 2,
       "version_minor": 0
      },
      "text/plain": [
       "Resolving data files:   0%|          | 0/10000 [00:00<?, ?it/s]"
      ]
     },
     "metadata": {},
     "output_type": "display_data"
    }
   ],
   "source": [
    "from datasets import load_dataset\n",
    "ds = load_dataset(\"imagefolder\", data_dir=\"/home/schakkera/CSE512/cse512-project/data\")\n",
    "# ds = load_dataset(\"imagefolder\", data_dir=\"/home/starc/SBU/Sem-3/ML/Project/cse512-project/data\")"
   ]
  },
  {
   "cell_type": "code",
   "execution_count": 3,
   "id": "60d1af3f",
   "metadata": {
    "execution": {
     "iopub.execute_input": "2023-11-30T11:12:09.937869Z",
     "iopub.status.busy": "2023-11-30T11:12:09.937295Z",
     "iopub.status.idle": "2023-11-30T11:12:14.149956Z",
     "shell.execute_reply": "2023-11-30T11:12:14.148890Z"
    },
    "papermill": {
     "duration": 4.226268,
     "end_time": "2023-11-30T11:12:14.154333",
     "exception": false,
     "start_time": "2023-11-30T11:12:09.928065",
     "status": "completed"
    },
    "tags": []
   },
   "outputs": [],
   "source": [
    "from transformers import ViTImageProcessor, ViTConfig\n",
    "from torchvision.transforms import Compose, RandomResizedCrop, RandomHorizontalFlip, ToTensor, Normalize, Resize, CenterCrop, ConvertImageDtype, InterpolationMode, ColorJitter\n",
    "import torch\n",
    "\n",
    "model_name_or_path = 'google/vit-base-patch16-224'\n",
    "config = ViTConfig.from_pretrained(model_name_or_path)\n",
    "processor = ViTImageProcessor.from_pretrained(model_name_or_path)\n",
    "\n",
    "_train_transform = Compose([\n",
    "    RandomResizedCrop(config.image_size, interpolation=InterpolationMode.BICUBIC, antialias=None),\n",
    "    RandomHorizontalFlip(),\n",
    "    ColorJitter(brightness=0.4, contrast=0.4, saturation=0.4, hue=0.1),\n",
    "    ToTensor(),\n",
    "    ConvertImageDtype(torch.float),\n",
    "    Normalize(\n",
    "        mean=processor.image_mean,\n",
    "        std=processor.image_std\n",
    "    )\n",
    "])\n",
    "\n",
    "_val_transform = Compose([\n",
    "    Resize(config.image_size, interpolation=InterpolationMode.BICUBIC, antialias=None),\n",
    "    CenterCrop(config.image_size),\n",
    "    ToTensor(),\n",
    "    ConvertImageDtype(torch.float),\n",
    "    Normalize(\n",
    "        mean=processor.image_mean,\n",
    "        std=processor.image_std\n",
    "    )\n",
    "])\n",
    "\n",
    "def train_transform(example_batch):\n",
    "    example_batch['pixel_values'] = [\n",
    "        _train_transform(img.convert('RGB')) for img in example_batch['image']\n",
    "    ]\n",
    "    return example_batch\n",
    "\n",
    "def val_transform(example_batch):\n",
    "    example_batch['pixel_values'] = [\n",
    "        _val_transform(img.convert('RGB')) for img in example_batch['image']\n",
    "    ]\n",
    "    return example_batch\n",
    "\n",
    "ds['train'].set_transform(train_transform)\n",
    "ds['test'].set_transform(val_transform)"
   ]
  },
  {
   "cell_type": "markdown",
   "id": "2d095c79",
   "metadata": {
    "papermill": {
     "duration": 0.007861,
     "end_time": "2023-11-30T11:12:14.179121",
     "exception": false,
     "start_time": "2023-11-30T11:12:14.171260",
     "status": "completed"
    },
    "tags": []
   },
   "source": [
    "## Training"
   ]
  },
  {
   "cell_type": "code",
   "execution_count": 4,
   "id": "9b9973b5",
   "metadata": {
    "execution": {
     "iopub.execute_input": "2023-11-30T11:12:14.197529Z",
     "iopub.status.busy": "2023-11-30T11:12:14.196562Z",
     "iopub.status.idle": "2023-11-30T11:12:14.205063Z",
     "shell.execute_reply": "2023-11-30T11:12:14.203999Z"
    },
    "papermill": {
     "duration": 0.020186,
     "end_time": "2023-11-30T11:12:14.207121",
     "exception": false,
     "start_time": "2023-11-30T11:12:14.186935",
     "status": "completed"
    },
    "tags": []
   },
   "outputs": [],
   "source": [
    "import torch\n",
    "\n",
    "def collate_fn(batch):\n",
    "    return {\n",
    "        'pixel_values': torch.stack([x['pixel_values'] for x in batch]),\n",
    "        'labels': torch.tensor([x['label'] for x in batch])\n",
    "    }"
   ]
  },
  {
   "cell_type": "code",
   "execution_count": 5,
   "id": "49d89178",
   "metadata": {
    "execution": {
     "iopub.execute_input": "2023-11-30T11:12:14.224352Z",
     "iopub.status.busy": "2023-11-30T11:12:14.223995Z",
     "iopub.status.idle": "2023-11-30T11:12:15.333116Z",
     "shell.execute_reply": "2023-11-30T11:12:15.331993Z"
    },
    "papermill": {
     "duration": 1.122314,
     "end_time": "2023-11-30T11:12:15.337715",
     "exception": false,
     "start_time": "2023-11-30T11:12:14.215401",
     "status": "completed"
    },
    "tags": []
   },
   "outputs": [
    {
     "name": "stderr",
     "output_type": "stream",
     "text": [
      "/tmp/ipykernel_4484/596433834.py:4: FutureWarning: load_metric is deprecated and will be removed in the next major version of datasets. Use 'evaluate.load' instead, from the new library 🤗 Evaluate: https://huggingface.co/docs/evaluate\n",
      "  metric = load_metric(\"accuracy\")\n"
     ]
    }
   ],
   "source": [
    "import numpy as np\n",
    "from datasets import load_metric\n",
    "\n",
    "metric = load_metric(\"accuracy\")\n",
    "def compute_metrics(p):\n",
    "    return metric.compute(predictions=np.argmax(p.predictions, axis=1), references=p.label_ids)\n",
    "\n",
    "def ova_compute_metrics(p):\n",
    "    return metric.compute(predictions=np.argmin(p.predictions, axis=1), references=p.label_ids)"
   ]
  },
  {
   "cell_type": "code",
   "execution_count": 6,
   "id": "f9dbe4b3",
   "metadata": {
    "execution": {
     "iopub.execute_input": "2023-11-30T11:12:15.360922Z",
     "iopub.status.busy": "2023-11-30T11:12:15.360059Z",
     "iopub.status.idle": "2023-11-30T11:12:16.600993Z",
     "shell.execute_reply": "2023-11-30T11:12:16.600166Z"
    },
    "papermill": {
     "duration": 1.253176,
     "end_time": "2023-11-30T11:12:16.603192",
     "exception": false,
     "start_time": "2023-11-30T11:12:15.350016",
     "status": "completed"
    },
    "tags": []
   },
   "outputs": [
    {
     "name": "stderr",
     "output_type": "stream",
     "text": [
      "Some weights of ViTForImageClassification were not initialized from the model checkpoint at google/vit-base-patch16-224 and are newly initialized because the shapes did not match:\n",
      "- classifier.bias: found shape torch.Size([1000]) in the checkpoint and torch.Size([10]) in the model instantiated\n",
      "- classifier.weight: found shape torch.Size([1000, 768]) in the checkpoint and torch.Size([10, 768]) in the model instantiated\n",
      "You should probably TRAIN this model on a down-stream task to be able to use it for predictions and inference.\n"
     ]
    }
   ],
   "source": [
    "from transformers import ViTForImageClassification\n",
    "\n",
    "labels = ds['train'].features['label'].names\n",
    "\n",
    "model = ViTForImageClassification.from_pretrained(\n",
    "    model_name_or_path,\n",
    "    ignore_mismatched_sizes=True,\n",
    "    num_labels=len(labels),\n",
    "    id2label={str(i): c for i, c in enumerate(labels)},\n",
    "    label2id={c: str(i) for i, c in enumerate(labels)}\n",
    ")"
   ]
  },
  {
   "cell_type": "code",
   "execution_count": 7,
   "id": "7d651abc",
   "metadata": {
    "execution": {
     "iopub.execute_input": "2023-11-30T11:12:16.628819Z",
     "iopub.status.busy": "2023-11-30T11:12:16.628334Z",
     "iopub.status.idle": "2023-11-30T11:12:16.741694Z",
     "shell.execute_reply": "2023-11-30T11:12:16.740911Z"
    },
    "papermill": {
     "duration": 0.128095,
     "end_time": "2023-11-30T11:12:16.743513",
     "exception": false,
     "start_time": "2023-11-30T11:12:16.615418",
     "status": "completed"
    },
    "tags": []
   },
   "outputs": [],
   "source": [
    "from transformers import TrainingArguments\n",
    "from transformers.trainer_utils import get_last_checkpoint\n",
    "import os\n",
    "\n",
    "# if os.path.exists('./vit-base-fmnist'):\n",
    "#     last_checkpoint = get_last_checkpoint(\"./vit-base-fmnist\")\n",
    "# else:\n",
    "#     last_checkpoint = None\n",
    "\n",
    "# training_args = TrainingArguments(\n",
    "#   output_dir=\"./vit-base-fmnist\",\n",
    "#   per_device_train_batch_size=256,\n",
    "#   evaluation_strategy=\"steps\",\n",
    "#   num_train_epochs=32,\n",
    "#   fp16=True,\n",
    "#   save_steps=100,\n",
    "#   eval_steps=100,\n",
    "#   logging_steps=20,\n",
    "#   learning_rate=3e-5, #3e-5\n",
    "#   save_total_limit=1,\n",
    "#   remove_unused_columns=False,\n",
    "#   push_to_hub=False,\n",
    "#   report_to='tensorboard',\n",
    "#   load_best_model_at_end=True,\n",
    "#   resume_from_checkpoint=last_checkpoint\n",
    "# )\n",
    "\n",
    "# if os.path.exists('./vit-base-fmnist-ovareg'):\n",
    "#     last_checkpoint = get_last_checkpoint(\"./vit-base-fmnist-ovareg\")\n",
    "# else:\n",
    "#     last_checkpoint = None\n",
    "\n",
    "# training_args = TrainingArguments(\n",
    "#   output_dir=\"./vit-base-fmnist-ovareg\",\n",
    "#   per_device_train_batch_size=256,\n",
    "#   evaluation_strategy=\"steps\",\n",
    "#   num_train_epochs=32,\n",
    "#   fp16=True,\n",
    "#   save_steps=100,\n",
    "#   eval_steps=100,\n",
    "#   logging_steps=20,\n",
    "#   learning_rate=3e-5, #3e-5\n",
    "#   save_total_limit=1,\n",
    "#   remove_unused_columns=False,\n",
    "#   push_to_hub=False,\n",
    "#   report_to='tensorboard',\n",
    "#   load_best_model_at_end=True,\n",
    "#   resume_from_checkpoint=last_checkpoint\n",
    "# )\n",
    "\n",
    "if os.path.exists('./vit-base-fmnist-csce'):\n",
    "    last_checkpoint = get_last_checkpoint(\"./vit-base-fmnist-csce\")\n",
    "else:\n",
    "    last_checkpoint = None\n",
    "\n",
    "training_args = TrainingArguments(\n",
    "  output_dir=\"./vit-base-fmnist-csce\",\n",
    "  per_device_train_batch_size=256,\n",
    "  evaluation_strategy=\"steps\",\n",
    "  num_train_epochs=32,\n",
    "  fp16=True,\n",
    "  save_steps=100,\n",
    "  eval_steps=100,\n",
    "  logging_steps=20,\n",
    "  learning_rate=3e-5, #3e-5\n",
    "  save_total_limit=1,\n",
    "  remove_unused_columns=False,\n",
    "  push_to_hub=False,\n",
    "  report_to='tensorboard',\n",
    "  load_best_model_at_end=True,\n",
    "  resume_from_checkpoint=last_checkpoint\n",
    ")"
   ]
  },
  {
   "cell_type": "code",
   "execution_count": 8,
   "id": "dd8dd7ba",
   "metadata": {
    "execution": {
     "iopub.execute_input": "2023-11-30T11:12:16.764637Z",
     "iopub.status.busy": "2023-11-30T11:12:16.764299Z",
     "iopub.status.idle": "2023-11-30T11:12:16.816530Z",
     "shell.execute_reply": "2023-11-30T11:12:16.815860Z"
    },
    "papermill": {
     "duration": 0.065473,
     "end_time": "2023-11-30T11:12:16.818939",
     "exception": false,
     "start_time": "2023-11-30T11:12:16.753466",
     "status": "completed"
    },
    "tags": []
   },
   "outputs": [],
   "source": [
    "from transformers import Trainer\n",
    "import torch.nn as nn\n",
    "import torch.nn.functional as F\n",
    "device = torch.device(\"cuda\" if torch.cuda.is_available() else \"cpu\")\n",
    "class WeightedCrossEntropyTrainer(Trainer):\n",
    "    def __init__(self, *args, **kwargs):\n",
    "        super().__init__(*args, **kwargs)\n",
    "        self.cost_matrix = torch.tensor([[1., 1., 1., 1., 0.3, 1., 1., 1., 1., 0.3], \n",
    "                                        [0.33, 1., 0.93, 1., 0.1, 1., 1., 1., 1., 0.1], \n",
    "                                        [0.36, 1., 1., 1., 0.1, 1., 1., 1., 1., 0.1], \n",
    "                                        [0.33, 1., 0.93, 1., 0.1, 1., 1., 1., 1., 0.1], \n",
    "                                        [1., 1., 1., 1., 1., 1., 1., 1., 1., 1.], \n",
    "                                        [0.33, 1., 0.93, 1., 0.1, 1., 1., 1., 1., 0.1], \n",
    "                                        [0.33, 1., 0.93, 1., 0.1, 1., 1., 1., 1., 0.1], \n",
    "                                        [0.33, 1., 0.93, 1., 0.1, 1., 1., 1., 1., 0.1], \n",
    "                                        [0.33, 1., 0.93, 1., 0.1, 1., 1., 1., 1., 0.1], \n",
    "                                        [1., 1., 1., 1., 1., 1., 1., 1., 1., 1.]]).to(device)\n",
    "    def compute_loss(self, model, inputs, return_outputs=False):\n",
    "        labels = inputs.pop(\"labels\")\n",
    "        # print(labels.size(), labels)\n",
    "        # forward pass\n",
    "        outputs = model(**inputs)\n",
    "        logits = outputs.get(\"logits\")\n",
    "        exp_logits = torch.exp(logits)\n",
    "        batch_spec_weights = self.cost_matrix[labels, :]\n",
    "        weighted_exp = exp_logits * batch_spec_weights\n",
    "        weighted_softmax = weighted_exp/torch.sum(weighted_exp, axis=1).reshape(weighted_exp.size(0), -1)\n",
    "        log_weighted = torch.log(weighted_softmax)\n",
    "        onehot = F.one_hot(labels, self.cost_matrix.size(0))\n",
    "        ind_cross_entropy = -log_weighted*onehot\n",
    "        \n",
    "        # compute custom loss (suppose one has 3 labels with different weights)\n",
    "        loss = torch.mean(torch.sum(ind_cross_entropy, axis=1))\n",
    "        return (loss, outputs) if return_outputs else loss\n",
    "\n",
    "class OVARegressionTrainer(Trainer):\n",
    "    def __init__(self, *args, **kwargs):\n",
    "        super().__init__(*args, **kwargs)\n",
    "        self.cost_matrix = 10*torch.tensor([[0., 3., 2.8, 3., 0.3, 3., 3., 3., 3., 0.3], \n",
    "                                        [0.33, 0., 0.93, 1., 0.1, 1., 1., 1., 1., 0.1], \n",
    "                                        [0.36, 1.07, 0., 1.07, 0.1, 1.07, 1.07, 1.07, 1.07, 0.1], \n",
    "                                        [0.33, 1., 0.93, 0., 0.1, 1., 1., 1., 1., 0.1], \n",
    "                                        [1.33, 4., 3, 4., 0., 4., 4., 4., 4., 1.], \n",
    "                                        [0.33, 1., 0.93, 1., 0.1, 0., 1., 1., 1., 0.1], \n",
    "                                        [0.33, 1., 0.93, 1., 0.1, 1., 0., 1., 1., 0.1], \n",
    "                                        [0.33, 1., 0.93, 1., 0.1, 1., 1., 0., 1., 0.1], \n",
    "                                        [0.33, 1., 0.93, 1., 0.1, 1., 1., 1., 0., 0.1], \n",
    "                                        [1.33, 4., 3, 4., 1., 4., 4., 4., 4., 0.]]).to(device)\n",
    "    \n",
    "    \n",
    "    def compute_loss(self, model, inputs, return_outputs=False):\n",
    "        labels = inputs.pop(\"labels\")\n",
    "        # print(labels.size(), labels)\n",
    "        # forward pass\n",
    "        outputs = model(**inputs)\n",
    "        logits = outputs.get(\"logits\")\n",
    "        onehot = F.one_hot(labels, self.cost_matrix.size(0))\n",
    "        zval = (onehot*2)-1\n",
    "        batch_spec_weights = self.cost_matrix[labels, :]\n",
    "        regress = logits-batch_spec_weights\n",
    "        # print(np.argmin(regress.detach().numpy(), axis=1), labels)\n",
    "        zprod = zval*regress\n",
    "        \n",
    "        # compute custom loss (suppose one has 3 labels with different weights)\n",
    "        loss=torch.mean(torch.sum(torch.log(torch.exp(zprod)+1), axis=1))\n",
    "        # print(loss)\n",
    "        return (loss, outputs) if return_outputs else loss"
   ]
  },
  {
   "cell_type": "code",
   "execution_count": 9,
   "id": "ae0da4ca",
   "metadata": {
    "execution": {
     "iopub.execute_input": "2023-11-30T11:12:16.837763Z",
     "iopub.status.busy": "2023-11-30T11:12:16.837293Z",
     "iopub.status.idle": "2023-11-30T11:12:18.832532Z",
     "shell.execute_reply": "2023-11-30T11:12:18.831201Z"
    },
    "papermill": {
     "duration": 2.008037,
     "end_time": "2023-11-30T11:12:18.837234",
     "exception": false,
     "start_time": "2023-11-30T11:12:16.829197",
     "status": "completed"
    },
    "tags": []
   },
   "outputs": [
    {
     "name": "stderr",
     "output_type": "stream",
     "text": [
      "Detected kernel version 4.18.0, which is below the recommended minimum of 5.5.0; this can cause the process to hang. It is recommended to upgrade the kernel to the minimum version or higher.\n"
     ]
    }
   ],
   "source": [
    "from transformers import Trainer\n",
    "\n",
    "# trainer = Trainer(\n",
    "#     model=model,\n",
    "#     args=training_args,\n",
    "#     data_collator=collate_fn,\n",
    "#     compute_metrics=compute_metrics,\n",
    "#     train_dataset=ds[\"train\"],\n",
    "#     eval_dataset=ds[\"test\"],\n",
    "#     tokenizer=processor,\n",
    "# )\n",
    "# trainer = OVARegressionTrainer(\n",
    "#     model=model,\n",
    "#     args=training_args,\n",
    "#     data_collator=collate_fn,\n",
    "#     compute_metrics=ova_compute_metrics,\n",
    "#     train_dataset=ds[\"train\"],\n",
    "#     eval_dataset=ds[\"test\"],\n",
    "#     tokenizer=processor,\n",
    "# )\n",
    "trainer = WeightedCrossEntropyTrainer(\n",
    "    model=model,\n",
    "    args=training_args,\n",
    "    data_collator=collate_fn,\n",
    "    compute_metrics=compute_metrics,\n",
    "    train_dataset=ds[\"train\"],\n",
    "    eval_dataset=ds[\"test\"],\n",
    "    tokenizer=processor,\n",
    ")"
   ]
  },
  {
   "cell_type": "code",
   "execution_count": 10,
   "id": "3c9af594",
   "metadata": {
    "execution": {
     "iopub.execute_input": "2023-11-30T11:12:18.861679Z",
     "iopub.status.busy": "2023-11-30T11:12:18.860671Z",
     "iopub.status.idle": "2023-11-30T15:10:37.371121Z",
     "shell.execute_reply": "2023-11-30T15:10:37.369592Z"
    },
    "papermill": {
     "duration": 14298.521147,
     "end_time": "2023-11-30T15:10:37.373075",
     "exception": false,
     "start_time": "2023-11-30T11:12:18.851928",
     "status": "completed"
    },
    "tags": []
   },
   "outputs": [
    {
     "data": {
      "text/html": [
       "\n",
       "    <div>\n",
       "      \n",
       "      <progress value='5120' max='5120' style='width:300px; height:20px; vertical-align: middle;'></progress>\n",
       "      [5120/5120 3:58:12, Epoch 32/32]\n",
       "    </div>\n",
       "    <table border=\"1\" class=\"dataframe\">\n",
       "  <thead>\n",
       " <tr style=\"text-align: left;\">\n",
       "      <th>Step</th>\n",
       "      <th>Training Loss</th>\n",
       "      <th>Validation Loss</th>\n",
       "      <th>Accuracy</th>\n",
       "    </tr>\n",
       "  </thead>\n",
       "  <tbody>\n",
       "    <tr>\n",
       "      <td>100</td>\n",
       "      <td>0.444100</td>\n",
       "      <td>0.330745</td>\n",
       "      <td>0.857800</td>\n",
       "    </tr>\n",
       "    <tr>\n",
       "      <td>200</td>\n",
       "      <td>0.359400</td>\n",
       "      <td>0.281933</td>\n",
       "      <td>0.880000</td>\n",
       "    </tr>\n",
       "    <tr>\n",
       "      <td>300</td>\n",
       "      <td>0.358400</td>\n",
       "      <td>0.255652</td>\n",
       "      <td>0.889400</td>\n",
       "    </tr>\n",
       "    <tr>\n",
       "      <td>400</td>\n",
       "      <td>0.328400</td>\n",
       "      <td>0.197834</td>\n",
       "      <td>0.907700</td>\n",
       "    </tr>\n",
       "    <tr>\n",
       "      <td>500</td>\n",
       "      <td>0.300800</td>\n",
       "      <td>0.210609</td>\n",
       "      <td>0.909400</td>\n",
       "    </tr>\n",
       "    <tr>\n",
       "      <td>600</td>\n",
       "      <td>0.312300</td>\n",
       "      <td>0.204487</td>\n",
       "      <td>0.910600</td>\n",
       "    </tr>\n",
       "    <tr>\n",
       "      <td>700</td>\n",
       "      <td>0.273800</td>\n",
       "      <td>0.171818</td>\n",
       "      <td>0.921200</td>\n",
       "    </tr>\n",
       "    <tr>\n",
       "      <td>800</td>\n",
       "      <td>0.272700</td>\n",
       "      <td>0.171696</td>\n",
       "      <td>0.921300</td>\n",
       "    </tr>\n",
       "    <tr>\n",
       "      <td>900</td>\n",
       "      <td>0.258000</td>\n",
       "      <td>0.189559</td>\n",
       "      <td>0.917000</td>\n",
       "    </tr>\n",
       "    <tr>\n",
       "      <td>1000</td>\n",
       "      <td>0.255500</td>\n",
       "      <td>0.190832</td>\n",
       "      <td>0.918500</td>\n",
       "    </tr>\n",
       "    <tr>\n",
       "      <td>1100</td>\n",
       "      <td>0.245600</td>\n",
       "      <td>0.184868</td>\n",
       "      <td>0.923100</td>\n",
       "    </tr>\n",
       "    <tr>\n",
       "      <td>1200</td>\n",
       "      <td>0.248500</td>\n",
       "      <td>0.182408</td>\n",
       "      <td>0.921700</td>\n",
       "    </tr>\n",
       "    <tr>\n",
       "      <td>1300</td>\n",
       "      <td>0.241400</td>\n",
       "      <td>0.183060</td>\n",
       "      <td>0.923700</td>\n",
       "    </tr>\n",
       "    <tr>\n",
       "      <td>1400</td>\n",
       "      <td>0.245300</td>\n",
       "      <td>0.167693</td>\n",
       "      <td>0.928900</td>\n",
       "    </tr>\n",
       "    <tr>\n",
       "      <td>1500</td>\n",
       "      <td>0.244800</td>\n",
       "      <td>0.166741</td>\n",
       "      <td>0.924600</td>\n",
       "    </tr>\n",
       "    <tr>\n",
       "      <td>1600</td>\n",
       "      <td>0.220900</td>\n",
       "      <td>0.155897</td>\n",
       "      <td>0.933000</td>\n",
       "    </tr>\n",
       "    <tr>\n",
       "      <td>1700</td>\n",
       "      <td>0.217100</td>\n",
       "      <td>0.165212</td>\n",
       "      <td>0.930300</td>\n",
       "    </tr>\n",
       "    <tr>\n",
       "      <td>1800</td>\n",
       "      <td>0.224400</td>\n",
       "      <td>0.166946</td>\n",
       "      <td>0.929800</td>\n",
       "    </tr>\n",
       "    <tr>\n",
       "      <td>1900</td>\n",
       "      <td>0.221900</td>\n",
       "      <td>0.156168</td>\n",
       "      <td>0.934900</td>\n",
       "    </tr>\n",
       "    <tr>\n",
       "      <td>2000</td>\n",
       "      <td>0.208300</td>\n",
       "      <td>0.171088</td>\n",
       "      <td>0.929800</td>\n",
       "    </tr>\n",
       "    <tr>\n",
       "      <td>2100</td>\n",
       "      <td>0.224500</td>\n",
       "      <td>0.165042</td>\n",
       "      <td>0.930900</td>\n",
       "    </tr>\n",
       "    <tr>\n",
       "      <td>2200</td>\n",
       "      <td>0.210100</td>\n",
       "      <td>0.162786</td>\n",
       "      <td>0.926800</td>\n",
       "    </tr>\n",
       "    <tr>\n",
       "      <td>2300</td>\n",
       "      <td>0.193300</td>\n",
       "      <td>0.160259</td>\n",
       "      <td>0.934600</td>\n",
       "    </tr>\n",
       "    <tr>\n",
       "      <td>2400</td>\n",
       "      <td>0.211900</td>\n",
       "      <td>0.163813</td>\n",
       "      <td>0.933800</td>\n",
       "    </tr>\n",
       "    <tr>\n",
       "      <td>2500</td>\n",
       "      <td>0.204600</td>\n",
       "      <td>0.163100</td>\n",
       "      <td>0.934100</td>\n",
       "    </tr>\n",
       "    <tr>\n",
       "      <td>2600</td>\n",
       "      <td>0.198000</td>\n",
       "      <td>0.152162</td>\n",
       "      <td>0.936700</td>\n",
       "    </tr>\n",
       "    <tr>\n",
       "      <td>2700</td>\n",
       "      <td>0.190400</td>\n",
       "      <td>0.163213</td>\n",
       "      <td>0.933300</td>\n",
       "    </tr>\n",
       "    <tr>\n",
       "      <td>2800</td>\n",
       "      <td>0.192200</td>\n",
       "      <td>0.148446</td>\n",
       "      <td>0.936500</td>\n",
       "    </tr>\n",
       "    <tr>\n",
       "      <td>2900</td>\n",
       "      <td>0.197500</td>\n",
       "      <td>0.155565</td>\n",
       "      <td>0.936700</td>\n",
       "    </tr>\n",
       "    <tr>\n",
       "      <td>3000</td>\n",
       "      <td>0.205700</td>\n",
       "      <td>0.166585</td>\n",
       "      <td>0.933600</td>\n",
       "    </tr>\n",
       "    <tr>\n",
       "      <td>3100</td>\n",
       "      <td>0.186800</td>\n",
       "      <td>0.144808</td>\n",
       "      <td>0.936900</td>\n",
       "    </tr>\n",
       "    <tr>\n",
       "      <td>3200</td>\n",
       "      <td>0.188400</td>\n",
       "      <td>0.170372</td>\n",
       "      <td>0.934000</td>\n",
       "    </tr>\n",
       "    <tr>\n",
       "      <td>3300</td>\n",
       "      <td>0.172400</td>\n",
       "      <td>0.155744</td>\n",
       "      <td>0.935200</td>\n",
       "    </tr>\n",
       "    <tr>\n",
       "      <td>3400</td>\n",
       "      <td>0.193200</td>\n",
       "      <td>0.161243</td>\n",
       "      <td>0.934700</td>\n",
       "    </tr>\n",
       "    <tr>\n",
       "      <td>3500</td>\n",
       "      <td>0.173400</td>\n",
       "      <td>0.154808</td>\n",
       "      <td>0.935400</td>\n",
       "    </tr>\n",
       "    <tr>\n",
       "      <td>3600</td>\n",
       "      <td>0.178400</td>\n",
       "      <td>0.165561</td>\n",
       "      <td>0.934700</td>\n",
       "    </tr>\n",
       "    <tr>\n",
       "      <td>3700</td>\n",
       "      <td>0.185000</td>\n",
       "      <td>0.161815</td>\n",
       "      <td>0.935900</td>\n",
       "    </tr>\n",
       "    <tr>\n",
       "      <td>3800</td>\n",
       "      <td>0.191700</td>\n",
       "      <td>0.156711</td>\n",
       "      <td>0.937300</td>\n",
       "    </tr>\n",
       "    <tr>\n",
       "      <td>3900</td>\n",
       "      <td>0.178000</td>\n",
       "      <td>0.164568</td>\n",
       "      <td>0.934300</td>\n",
       "    </tr>\n",
       "    <tr>\n",
       "      <td>4000</td>\n",
       "      <td>0.170200</td>\n",
       "      <td>0.153498</td>\n",
       "      <td>0.938100</td>\n",
       "    </tr>\n",
       "    <tr>\n",
       "      <td>4100</td>\n",
       "      <td>0.170800</td>\n",
       "      <td>0.156647</td>\n",
       "      <td>0.935100</td>\n",
       "    </tr>\n",
       "    <tr>\n",
       "      <td>4200</td>\n",
       "      <td>0.150300</td>\n",
       "      <td>0.161245</td>\n",
       "      <td>0.936700</td>\n",
       "    </tr>\n",
       "    <tr>\n",
       "      <td>4300</td>\n",
       "      <td>0.156900</td>\n",
       "      <td>0.165720</td>\n",
       "      <td>0.934200</td>\n",
       "    </tr>\n",
       "    <tr>\n",
       "      <td>4400</td>\n",
       "      <td>0.176600</td>\n",
       "      <td>0.162501</td>\n",
       "      <td>0.934300</td>\n",
       "    </tr>\n",
       "    <tr>\n",
       "      <td>4500</td>\n",
       "      <td>0.165000</td>\n",
       "      <td>0.157488</td>\n",
       "      <td>0.936900</td>\n",
       "    </tr>\n",
       "    <tr>\n",
       "      <td>4600</td>\n",
       "      <td>0.161000</td>\n",
       "      <td>0.158165</td>\n",
       "      <td>0.935700</td>\n",
       "    </tr>\n",
       "    <tr>\n",
       "      <td>4700</td>\n",
       "      <td>0.161400</td>\n",
       "      <td>0.161923</td>\n",
       "      <td>0.935200</td>\n",
       "    </tr>\n",
       "    <tr>\n",
       "      <td>4800</td>\n",
       "      <td>0.176400</td>\n",
       "      <td>0.159966</td>\n",
       "      <td>0.936100</td>\n",
       "    </tr>\n",
       "    <tr>\n",
       "      <td>4900</td>\n",
       "      <td>0.171100</td>\n",
       "      <td>0.163817</td>\n",
       "      <td>0.935000</td>\n",
       "    </tr>\n",
       "    <tr>\n",
       "      <td>5000</td>\n",
       "      <td>0.167000</td>\n",
       "      <td>0.163176</td>\n",
       "      <td>0.935900</td>\n",
       "    </tr>\n",
       "    <tr>\n",
       "      <td>5100</td>\n",
       "      <td>0.167600</td>\n",
       "      <td>0.160167</td>\n",
       "      <td>0.936300</td>\n",
       "    </tr>\n",
       "  </tbody>\n",
       "</table><p>"
      ],
      "text/plain": [
       "<IPython.core.display.HTML object>"
      ]
     },
     "metadata": {},
     "output_type": "display_data"
    },
    {
     "name": "stdout",
     "output_type": "stream",
     "text": [
      "***** train metrics *****\n",
      "  epoch                    =          32.0\n",
      "  total_flos               = 94231959369GF\n",
      "  train_loss               =        0.2251\n",
      "  train_runtime            =    3:58:17.29\n",
      "  train_samples_per_second =        91.318\n",
      "  train_steps_per_second   =         0.358\n"
     ]
    }
   ],
   "source": [
    "train_results = trainer.train(resume_from_checkpoint=last_checkpoint)\n",
    "trainer.save_model()\n",
    "trainer.log_metrics(\"train\", train_results.metrics)\n",
    "trainer.save_metrics(\"train\", train_results.metrics)\n",
    "trainer.save_state()"
   ]
  },
  {
   "cell_type": "code",
   "execution_count": 11,
   "id": "e39620be",
   "metadata": {
    "execution": {
     "iopub.execute_input": "2023-11-30T15:10:37.390373Z",
     "iopub.status.busy": "2023-11-30T15:10:37.389917Z",
     "iopub.status.idle": "2023-11-30T15:11:31.132054Z",
     "shell.execute_reply": "2023-11-30T15:11:31.131265Z"
    },
    "papermill": {
     "duration": 53.753053,
     "end_time": "2023-11-30T15:11:31.133893",
     "exception": false,
     "start_time": "2023-11-30T15:10:37.380840",
     "status": "completed"
    },
    "tags": []
   },
   "outputs": [
    {
     "data": {
      "text/html": [
       "\n",
       "    <div>\n",
       "      \n",
       "      <progress value='1250' max='1250' style='width:300px; height:20px; vertical-align: middle;'></progress>\n",
       "      [1250/1250 00:53]\n",
       "    </div>\n",
       "    "
      ],
      "text/plain": [
       "<IPython.core.display.HTML object>"
      ]
     },
     "metadata": {},
     "output_type": "display_data"
    },
    {
     "name": "stdout",
     "output_type": "stream",
     "text": [
      "***** eval metrics *****\n",
      "  epoch                   =       32.0\n",
      "  eval_accuracy           =     0.9369\n",
      "  eval_loss               =     0.1448\n",
      "  eval_runtime            = 0:00:53.72\n",
      "  eval_samples_per_second =    186.132\n",
      "  eval_steps_per_second   =     23.267\n"
     ]
    }
   ],
   "source": [
    "metrics = trainer.evaluate(ds['test'])\n",
    "trainer.log_metrics(\"eval\", metrics)\n",
    "trainer.save_metrics(\"eval\", metrics)"
   ]
  }
 ],
 "metadata": {
  "kernelspec": {
   "display_name": "Python 3 (ipykernel)",
   "language": "python",
   "name": "python3"
  },
  "language_info": {
   "codemirror_mode": {
    "name": "ipython",
    "version": 3
   },
   "file_extension": ".py",
   "mimetype": "text/x-python",
   "name": "python",
   "nbconvert_exporter": "python",
   "pygments_lexer": "ipython3",
   "version": "3.8.17"
  },
  "papermill": {
   "default_parameters": {},
   "duration": 14443.769146,
   "end_time": "2023-11-30T15:11:34.120976",
   "environment_variables": {},
   "exception": null,
   "input_path": "vit-train-fashionmnist-csce.ipynb",
   "output_path": "vit-train-fashionmnist-csce-output.ipynb",
   "parameters": {},
   "start_time": "2023-11-30T11:10:50.351830",
   "version": "2.5.0"
  },
  "widgets": {
   "application/vnd.jupyter.widget-state+json": {
    "state": {
     "0647abbd2f4044dcb3288d13f311ad46": {
      "model_module": "@jupyter-widgets/controls",
      "model_module_version": "2.0.0",
      "model_name": "HBoxModel",
      "state": {
       "_dom_classes": [],
       "_model_module": "@jupyter-widgets/controls",
       "_model_module_version": "2.0.0",
       "_model_name": "HBoxModel",
       "_view_count": null,
       "_view_module": "@jupyter-widgets/controls",
       "_view_module_version": "2.0.0",
       "_view_name": "HBoxView",
       "box_style": "",
       "children": [
        "IPY_MODEL_135750732597429d8cfa5acc9de0de64",
        "IPY_MODEL_600be4078b614b39a6b753fd4aa8bd7a",
        "IPY_MODEL_1d73f669c61a4f1689607468d2ce3369"
       ],
       "layout": "IPY_MODEL_cd3152275f2846aeabedd0d593e47756",
       "tabbable": null,
       "tooltip": null
      }
     },
     "12e65737283c4c5699acbbb63ae20434": {
      "model_module": "@jupyter-widgets/controls",
      "model_module_version": "2.0.0",
      "model_name": "FloatProgressModel",
      "state": {
       "_dom_classes": [],
       "_model_module": "@jupyter-widgets/controls",
       "_model_module_version": "2.0.0",
       "_model_name": "FloatProgressModel",
       "_view_count": null,
       "_view_module": "@jupyter-widgets/controls",
       "_view_module_version": "2.0.0",
       "_view_name": "ProgressView",
       "bar_style": "success",
       "description": "",
       "description_allow_html": false,
       "layout": "IPY_MODEL_ae7fbc1df9a545c996948e704b73df3c",
       "max": 40800,
       "min": 0,
       "orientation": "horizontal",
       "style": "IPY_MODEL_c71ae3cbf4db4a988d1766867894208d",
       "tabbable": null,
       "tooltip": null,
       "value": 40800
      }
     },
     "135750732597429d8cfa5acc9de0de64": {
      "model_module": "@jupyter-widgets/controls",
      "model_module_version": "2.0.0",
      "model_name": "HTMLModel",
      "state": {
       "_dom_classes": [],
       "_model_module": "@jupyter-widgets/controls",
       "_model_module_version": "2.0.0",
       "_model_name": "HTMLModel",
       "_view_count": null,
       "_view_module": "@jupyter-widgets/controls",
       "_view_module_version": "2.0.0",
       "_view_name": "HTMLView",
       "description": "",
       "description_allow_html": false,
       "layout": "IPY_MODEL_ba9d84b564c94dd3b8ea8f443f3fb982",
       "placeholder": "​",
       "style": "IPY_MODEL_2bfe23ba2ad44904bf569dbcfe18d290",
       "tabbable": null,
       "tooltip": null,
       "value": "Resolving data files: 100%"
      }
     },
     "1d73f669c61a4f1689607468d2ce3369": {
      "model_module": "@jupyter-widgets/controls",
      "model_module_version": "2.0.0",
      "model_name": "HTMLModel",
      "state": {
       "_dom_classes": [],
       "_model_module": "@jupyter-widgets/controls",
       "_model_module_version": "2.0.0",
       "_model_name": "HTMLModel",
       "_view_count": null,
       "_view_module": "@jupyter-widgets/controls",
       "_view_module_version": "2.0.0",
       "_view_name": "HTMLView",
       "description": "",
       "description_allow_html": false,
       "layout": "IPY_MODEL_331d9f73f3724183af192cf297c2bcd0",
       "placeholder": "​",
       "style": "IPY_MODEL_8900506615064245a1ad4c32f2bcdcb3",
       "tabbable": null,
       "tooltip": null,
       "value": " 10000/10000 [00:01&lt;00:00, 4922.89it/s]"
      }
     },
     "2bfe23ba2ad44904bf569dbcfe18d290": {
      "model_module": "@jupyter-widgets/controls",
      "model_module_version": "2.0.0",
      "model_name": "HTMLStyleModel",
      "state": {
       "_model_module": "@jupyter-widgets/controls",
       "_model_module_version": "2.0.0",
       "_model_name": "HTMLStyleModel",
       "_view_count": null,
       "_view_module": "@jupyter-widgets/base",
       "_view_module_version": "2.0.0",
       "_view_name": "StyleView",
       "background": null,
       "description_width": "",
       "font_size": null,
       "text_color": null
      }
     },
     "331d9f73f3724183af192cf297c2bcd0": {
      "model_module": "@jupyter-widgets/base",
      "model_module_version": "2.0.0",
      "model_name": "LayoutModel",
      "state": {
       "_model_module": "@jupyter-widgets/base",
       "_model_module_version": "2.0.0",
       "_model_name": "LayoutModel",
       "_view_count": null,
       "_view_module": "@jupyter-widgets/base",
       "_view_module_version": "2.0.0",
       "_view_name": "LayoutView",
       "align_content": null,
       "align_items": null,
       "align_self": null,
       "border_bottom": null,
       "border_left": null,
       "border_right": null,
       "border_top": null,
       "bottom": null,
       "display": null,
       "flex": null,
       "flex_flow": null,
       "grid_area": null,
       "grid_auto_columns": null,
       "grid_auto_flow": null,
       "grid_auto_rows": null,
       "grid_column": null,
       "grid_gap": null,
       "grid_row": null,
       "grid_template_areas": null,
       "grid_template_columns": null,
       "grid_template_rows": null,
       "height": null,
       "justify_content": null,
       "justify_items": null,
       "left": null,
       "margin": null,
       "max_height": null,
       "max_width": null,
       "min_height": null,
       "min_width": null,
       "object_fit": null,
       "object_position": null,
       "order": null,
       "overflow": null,
       "padding": null,
       "right": null,
       "top": null,
       "visibility": null,
       "width": null
      }
     },
     "40144339c86d49a39bb3f67fa7a83d14": {
      "model_module": "@jupyter-widgets/base",
      "model_module_version": "2.0.0",
      "model_name": "LayoutModel",
      "state": {
       "_model_module": "@jupyter-widgets/base",
       "_model_module_version": "2.0.0",
       "_model_name": "LayoutModel",
       "_view_count": null,
       "_view_module": "@jupyter-widgets/base",
       "_view_module_version": "2.0.0",
       "_view_name": "LayoutView",
       "align_content": null,
       "align_items": null,
       "align_self": null,
       "border_bottom": null,
       "border_left": null,
       "border_right": null,
       "border_top": null,
       "bottom": null,
       "display": null,
       "flex": null,
       "flex_flow": null,
       "grid_area": null,
       "grid_auto_columns": null,
       "grid_auto_flow": null,
       "grid_auto_rows": null,
       "grid_column": null,
       "grid_gap": null,
       "grid_row": null,
       "grid_template_areas": null,
       "grid_template_columns": null,
       "grid_template_rows": null,
       "height": null,
       "justify_content": null,
       "justify_items": null,
       "left": null,
       "margin": null,
       "max_height": null,
       "max_width": null,
       "min_height": null,
       "min_width": null,
       "object_fit": null,
       "object_position": null,
       "order": null,
       "overflow": null,
       "padding": null,
       "right": null,
       "top": null,
       "visibility": null,
       "width": null
      }
     },
     "48c2ea7788f14245853401c08e3b7de5": {
      "model_module": "@jupyter-widgets/controls",
      "model_module_version": "2.0.0",
      "model_name": "HTMLStyleModel",
      "state": {
       "_model_module": "@jupyter-widgets/controls",
       "_model_module_version": "2.0.0",
       "_model_name": "HTMLStyleModel",
       "_view_count": null,
       "_view_module": "@jupyter-widgets/base",
       "_view_module_version": "2.0.0",
       "_view_name": "StyleView",
       "background": null,
       "description_width": "",
       "font_size": null,
       "text_color": null
      }
     },
     "4ae95200867c4567b9fb60f29fa1f0f3": {
      "model_module": "@jupyter-widgets/base",
      "model_module_version": "2.0.0",
      "model_name": "LayoutModel",
      "state": {
       "_model_module": "@jupyter-widgets/base",
       "_model_module_version": "2.0.0",
       "_model_name": "LayoutModel",
       "_view_count": null,
       "_view_module": "@jupyter-widgets/base",
       "_view_module_version": "2.0.0",
       "_view_name": "LayoutView",
       "align_content": null,
       "align_items": null,
       "align_self": null,
       "border_bottom": null,
       "border_left": null,
       "border_right": null,
       "border_top": null,
       "bottom": null,
       "display": null,
       "flex": null,
       "flex_flow": null,
       "grid_area": null,
       "grid_auto_columns": null,
       "grid_auto_flow": null,
       "grid_auto_rows": null,
       "grid_column": null,
       "grid_gap": null,
       "grid_row": null,
       "grid_template_areas": null,
       "grid_template_columns": null,
       "grid_template_rows": null,
       "height": null,
       "justify_content": null,
       "justify_items": null,
       "left": null,
       "margin": null,
       "max_height": null,
       "max_width": null,
       "min_height": null,
       "min_width": null,
       "object_fit": null,
       "object_position": null,
       "order": null,
       "overflow": null,
       "padding": null,
       "right": null,
       "top": null,
       "visibility": null,
       "width": null
      }
     },
     "600be4078b614b39a6b753fd4aa8bd7a": {
      "model_module": "@jupyter-widgets/controls",
      "model_module_version": "2.0.0",
      "model_name": "FloatProgressModel",
      "state": {
       "_dom_classes": [],
       "_model_module": "@jupyter-widgets/controls",
       "_model_module_version": "2.0.0",
       "_model_name": "FloatProgressModel",
       "_view_count": null,
       "_view_module": "@jupyter-widgets/controls",
       "_view_module_version": "2.0.0",
       "_view_name": "ProgressView",
       "bar_style": "success",
       "description": "",
       "description_allow_html": false,
       "layout": "IPY_MODEL_40144339c86d49a39bb3f67fa7a83d14",
       "max": 10000,
       "min": 0,
       "orientation": "horizontal",
       "style": "IPY_MODEL_73c97d4910874626bde380dbf54ea814",
       "tabbable": null,
       "tooltip": null,
       "value": 10000
      }
     },
     "64a6737a1e94443d898970852e5ff335": {
      "model_module": "@jupyter-widgets/controls",
      "model_module_version": "2.0.0",
      "model_name": "HTMLModel",
      "state": {
       "_dom_classes": [],
       "_model_module": "@jupyter-widgets/controls",
       "_model_module_version": "2.0.0",
       "_model_name": "HTMLModel",
       "_view_count": null,
       "_view_module": "@jupyter-widgets/controls",
       "_view_module_version": "2.0.0",
       "_view_name": "HTMLView",
       "description": "",
       "description_allow_html": false,
       "layout": "IPY_MODEL_77da26011b754c70b2923421ddc950c6",
       "placeholder": "​",
       "style": "IPY_MODEL_c066ba03d34943d997ba01d819b09799",
       "tabbable": null,
       "tooltip": null,
       "value": "Resolving data files: 100%"
      }
     },
     "73c97d4910874626bde380dbf54ea814": {
      "model_module": "@jupyter-widgets/controls",
      "model_module_version": "2.0.0",
      "model_name": "ProgressStyleModel",
      "state": {
       "_model_module": "@jupyter-widgets/controls",
       "_model_module_version": "2.0.0",
       "_model_name": "ProgressStyleModel",
       "_view_count": null,
       "_view_module": "@jupyter-widgets/base",
       "_view_module_version": "2.0.0",
       "_view_name": "StyleView",
       "bar_color": null,
       "description_width": ""
      }
     },
     "7721f0ec64494c8d8959c68ace7fc7cd": {
      "model_module": "@jupyter-widgets/controls",
      "model_module_version": "2.0.0",
      "model_name": "HBoxModel",
      "state": {
       "_dom_classes": [],
       "_model_module": "@jupyter-widgets/controls",
       "_model_module_version": "2.0.0",
       "_model_name": "HBoxModel",
       "_view_count": null,
       "_view_module": "@jupyter-widgets/controls",
       "_view_module_version": "2.0.0",
       "_view_name": "HBoxView",
       "box_style": "",
       "children": [
        "IPY_MODEL_64a6737a1e94443d898970852e5ff335",
        "IPY_MODEL_12e65737283c4c5699acbbb63ae20434",
        "IPY_MODEL_dbd29971bdc24896af7280130b59bbc9"
       ],
       "layout": "IPY_MODEL_816dfd5014ef4570b0e32317edf989b9",
       "tabbable": null,
       "tooltip": null
      }
     },
     "77da26011b754c70b2923421ddc950c6": {
      "model_module": "@jupyter-widgets/base",
      "model_module_version": "2.0.0",
      "model_name": "LayoutModel",
      "state": {
       "_model_module": "@jupyter-widgets/base",
       "_model_module_version": "2.0.0",
       "_model_name": "LayoutModel",
       "_view_count": null,
       "_view_module": "@jupyter-widgets/base",
       "_view_module_version": "2.0.0",
       "_view_name": "LayoutView",
       "align_content": null,
       "align_items": null,
       "align_self": null,
       "border_bottom": null,
       "border_left": null,
       "border_right": null,
       "border_top": null,
       "bottom": null,
       "display": null,
       "flex": null,
       "flex_flow": null,
       "grid_area": null,
       "grid_auto_columns": null,
       "grid_auto_flow": null,
       "grid_auto_rows": null,
       "grid_column": null,
       "grid_gap": null,
       "grid_row": null,
       "grid_template_areas": null,
       "grid_template_columns": null,
       "grid_template_rows": null,
       "height": null,
       "justify_content": null,
       "justify_items": null,
       "left": null,
       "margin": null,
       "max_height": null,
       "max_width": null,
       "min_height": null,
       "min_width": null,
       "object_fit": null,
       "object_position": null,
       "order": null,
       "overflow": null,
       "padding": null,
       "right": null,
       "top": null,
       "visibility": null,
       "width": null
      }
     },
     "816dfd5014ef4570b0e32317edf989b9": {
      "model_module": "@jupyter-widgets/base",
      "model_module_version": "2.0.0",
      "model_name": "LayoutModel",
      "state": {
       "_model_module": "@jupyter-widgets/base",
       "_model_module_version": "2.0.0",
       "_model_name": "LayoutModel",
       "_view_count": null,
       "_view_module": "@jupyter-widgets/base",
       "_view_module_version": "2.0.0",
       "_view_name": "LayoutView",
       "align_content": null,
       "align_items": null,
       "align_self": null,
       "border_bottom": null,
       "border_left": null,
       "border_right": null,
       "border_top": null,
       "bottom": null,
       "display": null,
       "flex": null,
       "flex_flow": null,
       "grid_area": null,
       "grid_auto_columns": null,
       "grid_auto_flow": null,
       "grid_auto_rows": null,
       "grid_column": null,
       "grid_gap": null,
       "grid_row": null,
       "grid_template_areas": null,
       "grid_template_columns": null,
       "grid_template_rows": null,
       "height": null,
       "justify_content": null,
       "justify_items": null,
       "left": null,
       "margin": null,
       "max_height": null,
       "max_width": null,
       "min_height": null,
       "min_width": null,
       "object_fit": null,
       "object_position": null,
       "order": null,
       "overflow": null,
       "padding": null,
       "right": null,
       "top": null,
       "visibility": null,
       "width": null
      }
     },
     "8900506615064245a1ad4c32f2bcdcb3": {
      "model_module": "@jupyter-widgets/controls",
      "model_module_version": "2.0.0",
      "model_name": "HTMLStyleModel",
      "state": {
       "_model_module": "@jupyter-widgets/controls",
       "_model_module_version": "2.0.0",
       "_model_name": "HTMLStyleModel",
       "_view_count": null,
       "_view_module": "@jupyter-widgets/base",
       "_view_module_version": "2.0.0",
       "_view_name": "StyleView",
       "background": null,
       "description_width": "",
       "font_size": null,
       "text_color": null
      }
     },
     "ae7fbc1df9a545c996948e704b73df3c": {
      "model_module": "@jupyter-widgets/base",
      "model_module_version": "2.0.0",
      "model_name": "LayoutModel",
      "state": {
       "_model_module": "@jupyter-widgets/base",
       "_model_module_version": "2.0.0",
       "_model_name": "LayoutModel",
       "_view_count": null,
       "_view_module": "@jupyter-widgets/base",
       "_view_module_version": "2.0.0",
       "_view_name": "LayoutView",
       "align_content": null,
       "align_items": null,
       "align_self": null,
       "border_bottom": null,
       "border_left": null,
       "border_right": null,
       "border_top": null,
       "bottom": null,
       "display": null,
       "flex": null,
       "flex_flow": null,
       "grid_area": null,
       "grid_auto_columns": null,
       "grid_auto_flow": null,
       "grid_auto_rows": null,
       "grid_column": null,
       "grid_gap": null,
       "grid_row": null,
       "grid_template_areas": null,
       "grid_template_columns": null,
       "grid_template_rows": null,
       "height": null,
       "justify_content": null,
       "justify_items": null,
       "left": null,
       "margin": null,
       "max_height": null,
       "max_width": null,
       "min_height": null,
       "min_width": null,
       "object_fit": null,
       "object_position": null,
       "order": null,
       "overflow": null,
       "padding": null,
       "right": null,
       "top": null,
       "visibility": null,
       "width": null
      }
     },
     "ba9d84b564c94dd3b8ea8f443f3fb982": {
      "model_module": "@jupyter-widgets/base",
      "model_module_version": "2.0.0",
      "model_name": "LayoutModel",
      "state": {
       "_model_module": "@jupyter-widgets/base",
       "_model_module_version": "2.0.0",
       "_model_name": "LayoutModel",
       "_view_count": null,
       "_view_module": "@jupyter-widgets/base",
       "_view_module_version": "2.0.0",
       "_view_name": "LayoutView",
       "align_content": null,
       "align_items": null,
       "align_self": null,
       "border_bottom": null,
       "border_left": null,
       "border_right": null,
       "border_top": null,
       "bottom": null,
       "display": null,
       "flex": null,
       "flex_flow": null,
       "grid_area": null,
       "grid_auto_columns": null,
       "grid_auto_flow": null,
       "grid_auto_rows": null,
       "grid_column": null,
       "grid_gap": null,
       "grid_row": null,
       "grid_template_areas": null,
       "grid_template_columns": null,
       "grid_template_rows": null,
       "height": null,
       "justify_content": null,
       "justify_items": null,
       "left": null,
       "margin": null,
       "max_height": null,
       "max_width": null,
       "min_height": null,
       "min_width": null,
       "object_fit": null,
       "object_position": null,
       "order": null,
       "overflow": null,
       "padding": null,
       "right": null,
       "top": null,
       "visibility": null,
       "width": null
      }
     },
     "c066ba03d34943d997ba01d819b09799": {
      "model_module": "@jupyter-widgets/controls",
      "model_module_version": "2.0.0",
      "model_name": "HTMLStyleModel",
      "state": {
       "_model_module": "@jupyter-widgets/controls",
       "_model_module_version": "2.0.0",
       "_model_name": "HTMLStyleModel",
       "_view_count": null,
       "_view_module": "@jupyter-widgets/base",
       "_view_module_version": "2.0.0",
       "_view_name": "StyleView",
       "background": null,
       "description_width": "",
       "font_size": null,
       "text_color": null
      }
     },
     "c71ae3cbf4db4a988d1766867894208d": {
      "model_module": "@jupyter-widgets/controls",
      "model_module_version": "2.0.0",
      "model_name": "ProgressStyleModel",
      "state": {
       "_model_module": "@jupyter-widgets/controls",
       "_model_module_version": "2.0.0",
       "_model_name": "ProgressStyleModel",
       "_view_count": null,
       "_view_module": "@jupyter-widgets/base",
       "_view_module_version": "2.0.0",
       "_view_name": "StyleView",
       "bar_color": null,
       "description_width": ""
      }
     },
     "cd3152275f2846aeabedd0d593e47756": {
      "model_module": "@jupyter-widgets/base",
      "model_module_version": "2.0.0",
      "model_name": "LayoutModel",
      "state": {
       "_model_module": "@jupyter-widgets/base",
       "_model_module_version": "2.0.0",
       "_model_name": "LayoutModel",
       "_view_count": null,
       "_view_module": "@jupyter-widgets/base",
       "_view_module_version": "2.0.0",
       "_view_name": "LayoutView",
       "align_content": null,
       "align_items": null,
       "align_self": null,
       "border_bottom": null,
       "border_left": null,
       "border_right": null,
       "border_top": null,
       "bottom": null,
       "display": null,
       "flex": null,
       "flex_flow": null,
       "grid_area": null,
       "grid_auto_columns": null,
       "grid_auto_flow": null,
       "grid_auto_rows": null,
       "grid_column": null,
       "grid_gap": null,
       "grid_row": null,
       "grid_template_areas": null,
       "grid_template_columns": null,
       "grid_template_rows": null,
       "height": null,
       "justify_content": null,
       "justify_items": null,
       "left": null,
       "margin": null,
       "max_height": null,
       "max_width": null,
       "min_height": null,
       "min_width": null,
       "object_fit": null,
       "object_position": null,
       "order": null,
       "overflow": null,
       "padding": null,
       "right": null,
       "top": null,
       "visibility": null,
       "width": null
      }
     },
     "dbd29971bdc24896af7280130b59bbc9": {
      "model_module": "@jupyter-widgets/controls",
      "model_module_version": "2.0.0",
      "model_name": "HTMLModel",
      "state": {
       "_dom_classes": [],
       "_model_module": "@jupyter-widgets/controls",
       "_model_module_version": "2.0.0",
       "_model_name": "HTMLModel",
       "_view_count": null,
       "_view_module": "@jupyter-widgets/controls",
       "_view_module_version": "2.0.0",
       "_view_name": "HTMLView",
       "description": "",
       "description_allow_html": false,
       "layout": "IPY_MODEL_4ae95200867c4567b9fb60f29fa1f0f3",
       "placeholder": "​",
       "style": "IPY_MODEL_48c2ea7788f14245853401c08e3b7de5",
       "tabbable": null,
       "tooltip": null,
       "value": " 40800/40800 [00:01&lt;00:00, 56940.94it/s]"
      }
     }
    },
    "version_major": 2,
    "version_minor": 0
   }
  }
 },
 "nbformat": 4,
 "nbformat_minor": 5
}
