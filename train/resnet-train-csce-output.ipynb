{
 "cells": [
  {
   "cell_type": "markdown",
   "id": "706aa6cb",
   "metadata": {
    "papermill": {
     "duration": 0.011517,
     "end_time": "2023-11-29T23:38:23.835665",
     "exception": false,
     "start_time": "2023-11-29T23:38:23.824148",
     "status": "completed"
    },
    "tags": []
   },
   "source": [
    "# ResNet Fine-Tuning Demo\n",
    "\n",
    "*Based on: https://huggingface.co/blog/fine-tune-vit*\n",
    "\n",
    "Before running, download the [TrashNet dataset](https://github.com/garythung/trashnet/raw/master/data/dataset-resized.zip) and extract it to the 'dataset' folder."
   ]
  },
  {
   "cell_type": "code",
   "execution_count": 1,
   "id": "2c1d12eb",
   "metadata": {
    "execution": {
     "iopub.execute_input": "2023-11-29T23:38:23.850326Z",
     "iopub.status.busy": "2023-11-29T23:38:23.849638Z",
     "iopub.status.idle": "2023-11-29T23:38:43.838948Z",
     "shell.execute_reply": "2023-11-29T23:38:43.836751Z"
    },
    "papermill": {
     "duration": 20.000994,
     "end_time": "2023-11-29T23:38:43.842570",
     "exception": false,
     "start_time": "2023-11-29T23:38:23.841576",
     "status": "completed"
    },
    "tags": []
   },
   "outputs": [
    {
     "name": "stdout",
     "output_type": "stream",
     "text": [
      "Requirement already satisfied: huggingface in /home/schakkera/miniconda3/envs/ml/lib/python3.10/site-packages (0.0.1)\r\n"
     ]
    },
    {
     "name": "stdout",
     "output_type": "stream",
     "text": [
      "Note: you may need to restart the kernel to use updated packages.\n"
     ]
    },
    {
     "name": "stdout",
     "output_type": "stream",
     "text": [
      "Requirement already satisfied: datasets in /home/schakkera/miniconda3/envs/ml/lib/python3.10/site-packages (2.15.0)\r\n"
     ]
    },
    {
     "name": "stdout",
     "output_type": "stream",
     "text": [
      "Requirement already satisfied: numpy>=1.17 in /home/schakkera/miniconda3/envs/ml/lib/python3.10/site-packages (from datasets) (1.26.0)\r\n",
      "Requirement already satisfied: pyarrow>=8.0.0 in /home/schakkera/miniconda3/envs/ml/lib/python3.10/site-packages (from datasets) (14.0.1)\r\n",
      "Requirement already satisfied: pyarrow-hotfix in /home/schakkera/miniconda3/envs/ml/lib/python3.10/site-packages (from datasets) (0.6)\r\n",
      "Requirement already satisfied: dill<0.3.8,>=0.3.0 in /home/schakkera/miniconda3/envs/ml/lib/python3.10/site-packages (from datasets) (0.3.7)\r\n",
      "Requirement already satisfied: pandas in /home/schakkera/miniconda3/envs/ml/lib/python3.10/site-packages (from datasets) (2.1.3)\r\n",
      "Requirement already satisfied: requests>=2.19.0 in /home/schakkera/miniconda3/envs/ml/lib/python3.10/site-packages (from datasets) (2.31.0)\r\n",
      "Requirement already satisfied: tqdm>=4.62.1 in /home/schakkera/miniconda3/envs/ml/lib/python3.10/site-packages (from datasets) (4.66.1)\r\n",
      "Requirement already satisfied: xxhash in /home/schakkera/miniconda3/envs/ml/lib/python3.10/site-packages (from datasets) (3.4.1)\r\n",
      "Requirement already satisfied: multiprocess in /home/schakkera/miniconda3/envs/ml/lib/python3.10/site-packages (from datasets) (0.70.15)\r\n",
      "Requirement already satisfied: fsspec<=2023.10.0,>=2023.1.0 in /home/schakkera/miniconda3/envs/ml/lib/python3.10/site-packages (from fsspec[http]<=2023.10.0,>=2023.1.0->datasets) (2023.10.0)\r\n",
      "Requirement already satisfied: aiohttp in /home/schakkera/miniconda3/envs/ml/lib/python3.10/site-packages (from datasets) (3.9.1)\r\n",
      "Requirement already satisfied: huggingface-hub>=0.18.0 in /home/schakkera/miniconda3/envs/ml/lib/python3.10/site-packages (from datasets) (0.19.4)\r\n",
      "Requirement already satisfied: packaging in /home/schakkera/miniconda3/envs/ml/lib/python3.10/site-packages (from datasets) (23.2)\r\n",
      "Requirement already satisfied: pyyaml>=5.1 in /home/schakkera/miniconda3/envs/ml/lib/python3.10/site-packages (from datasets) (6.0.1)\r\n"
     ]
    },
    {
     "name": "stdout",
     "output_type": "stream",
     "text": [
      "Requirement already satisfied: attrs>=17.3.0 in /home/schakkera/miniconda3/envs/ml/lib/python3.10/site-packages (from aiohttp->datasets) (23.1.0)\r\n",
      "Requirement already satisfied: multidict<7.0,>=4.5 in /home/schakkera/miniconda3/envs/ml/lib/python3.10/site-packages (from aiohttp->datasets) (6.0.4)\r\n",
      "Requirement already satisfied: yarl<2.0,>=1.0 in /home/schakkera/miniconda3/envs/ml/lib/python3.10/site-packages (from aiohttp->datasets) (1.9.3)\r\n",
      "Requirement already satisfied: frozenlist>=1.1.1 in /home/schakkera/miniconda3/envs/ml/lib/python3.10/site-packages (from aiohttp->datasets) (1.4.0)\r\n",
      "Requirement already satisfied: aiosignal>=1.1.2 in /home/schakkera/miniconda3/envs/ml/lib/python3.10/site-packages (from aiohttp->datasets) (1.3.1)\r\n",
      "Requirement already satisfied: async-timeout<5.0,>=4.0 in /home/schakkera/miniconda3/envs/ml/lib/python3.10/site-packages (from aiohttp->datasets) (4.0.3)\r\n"
     ]
    },
    {
     "name": "stdout",
     "output_type": "stream",
     "text": [
      "Requirement already satisfied: filelock in /home/schakkera/miniconda3/envs/ml/lib/python3.10/site-packages (from huggingface-hub>=0.18.0->datasets) (3.13.1)\r\n",
      "Requirement already satisfied: typing-extensions>=3.7.4.3 in /home/schakkera/miniconda3/envs/ml/lib/python3.10/site-packages (from huggingface-hub>=0.18.0->datasets) (4.7.1)\r\n"
     ]
    },
    {
     "name": "stdout",
     "output_type": "stream",
     "text": [
      "Requirement already satisfied: charset-normalizer<4,>=2 in /home/schakkera/miniconda3/envs/ml/lib/python3.10/site-packages (from requests>=2.19.0->datasets) (2.0.4)\r\n",
      "Requirement already satisfied: idna<4,>=2.5 in /home/schakkera/miniconda3/envs/ml/lib/python3.10/site-packages (from requests>=2.19.0->datasets) (3.4)\r\n",
      "Requirement already satisfied: urllib3<3,>=1.21.1 in /home/schakkera/miniconda3/envs/ml/lib/python3.10/site-packages (from requests>=2.19.0->datasets) (1.26.18)\r\n",
      "Requirement already satisfied: certifi>=2017.4.17 in /home/schakkera/miniconda3/envs/ml/lib/python3.10/site-packages (from requests>=2.19.0->datasets) (2023.11.17)\r\n"
     ]
    },
    {
     "name": "stdout",
     "output_type": "stream",
     "text": [
      "Requirement already satisfied: python-dateutil>=2.8.2 in /home/schakkera/miniconda3/envs/ml/lib/python3.10/site-packages (from pandas->datasets) (2.8.2)\r\n",
      "Requirement already satisfied: pytz>=2020.1 in /home/schakkera/miniconda3/envs/ml/lib/python3.10/site-packages (from pandas->datasets) (2023.3.post1)\r\n",
      "Requirement already satisfied: tzdata>=2022.1 in /home/schakkera/miniconda3/envs/ml/lib/python3.10/site-packages (from pandas->datasets) (2023.3)\r\n"
     ]
    },
    {
     "name": "stdout",
     "output_type": "stream",
     "text": [
      "Requirement already satisfied: six>=1.5 in /home/schakkera/miniconda3/envs/ml/lib/python3.10/site-packages (from python-dateutil>=2.8.2->pandas->datasets) (1.16.0)\r\n"
     ]
    },
    {
     "name": "stdout",
     "output_type": "stream",
     "text": [
      "Note: you may need to restart the kernel to use updated packages.\n"
     ]
    },
    {
     "name": "stdout",
     "output_type": "stream",
     "text": [
      "Requirement already satisfied: pillow in /home/schakkera/miniconda3/envs/ml/lib/python3.10/site-packages (10.0.1)\r\n"
     ]
    },
    {
     "name": "stdout",
     "output_type": "stream",
     "text": [
      "Note: you may need to restart the kernel to use updated packages.\n"
     ]
    },
    {
     "name": "stdout",
     "output_type": "stream",
     "text": [
      "Requirement already satisfied: transformers in /home/schakkera/miniconda3/envs/ml/lib/python3.10/site-packages (4.35.2)\r\n"
     ]
    },
    {
     "name": "stdout",
     "output_type": "stream",
     "text": [
      "Requirement already satisfied: filelock in /home/schakkera/miniconda3/envs/ml/lib/python3.10/site-packages (from transformers) (3.13.1)\r\n",
      "Requirement already satisfied: huggingface-hub<1.0,>=0.16.4 in /home/schakkera/miniconda3/envs/ml/lib/python3.10/site-packages (from transformers) (0.19.4)\r\n",
      "Requirement already satisfied: numpy>=1.17 in /home/schakkera/miniconda3/envs/ml/lib/python3.10/site-packages (from transformers) (1.26.0)\r\n",
      "Requirement already satisfied: packaging>=20.0 in /home/schakkera/miniconda3/envs/ml/lib/python3.10/site-packages (from transformers) (23.2)\r\n",
      "Requirement already satisfied: pyyaml>=5.1 in /home/schakkera/miniconda3/envs/ml/lib/python3.10/site-packages (from transformers) (6.0.1)\r\n",
      "Requirement already satisfied: regex!=2019.12.17 in /home/schakkera/miniconda3/envs/ml/lib/python3.10/site-packages (from transformers) (2023.10.3)\r\n",
      "Requirement already satisfied: requests in /home/schakkera/miniconda3/envs/ml/lib/python3.10/site-packages (from transformers) (2.31.0)\r\n",
      "Requirement already satisfied: tokenizers<0.19,>=0.14 in /home/schakkera/miniconda3/envs/ml/lib/python3.10/site-packages (from transformers) (0.15.0)\r\n",
      "Requirement already satisfied: safetensors>=0.3.1 in /home/schakkera/miniconda3/envs/ml/lib/python3.10/site-packages (from transformers) (0.4.1)\r\n",
      "Requirement already satisfied: tqdm>=4.27 in /home/schakkera/miniconda3/envs/ml/lib/python3.10/site-packages (from transformers) (4.66.1)\r\n"
     ]
    },
    {
     "name": "stdout",
     "output_type": "stream",
     "text": [
      "Requirement already satisfied: fsspec>=2023.5.0 in /home/schakkera/miniconda3/envs/ml/lib/python3.10/site-packages (from huggingface-hub<1.0,>=0.16.4->transformers) (2023.10.0)\r\n",
      "Requirement already satisfied: typing-extensions>=3.7.4.3 in /home/schakkera/miniconda3/envs/ml/lib/python3.10/site-packages (from huggingface-hub<1.0,>=0.16.4->transformers) (4.7.1)\r\n"
     ]
    },
    {
     "name": "stdout",
     "output_type": "stream",
     "text": [
      "Requirement already satisfied: charset-normalizer<4,>=2 in /home/schakkera/miniconda3/envs/ml/lib/python3.10/site-packages (from requests->transformers) (2.0.4)\r\n",
      "Requirement already satisfied: idna<4,>=2.5 in /home/schakkera/miniconda3/envs/ml/lib/python3.10/site-packages (from requests->transformers) (3.4)\r\n",
      "Requirement already satisfied: urllib3<3,>=1.21.1 in /home/schakkera/miniconda3/envs/ml/lib/python3.10/site-packages (from requests->transformers) (1.26.18)\r\n",
      "Requirement already satisfied: certifi>=2017.4.17 in /home/schakkera/miniconda3/envs/ml/lib/python3.10/site-packages (from requests->transformers) (2023.11.17)\r\n"
     ]
    },
    {
     "name": "stdout",
     "output_type": "stream",
     "text": [
      "Note: you may need to restart the kernel to use updated packages.\n"
     ]
    },
    {
     "name": "stdout",
     "output_type": "stream",
     "text": [
      "Requirement already satisfied: scikit-learn in /home/schakkera/miniconda3/envs/ml/lib/python3.10/site-packages (1.3.2)\r\n",
      "Requirement already satisfied: numpy<2.0,>=1.17.3 in /home/schakkera/miniconda3/envs/ml/lib/python3.10/site-packages (from scikit-learn) (1.26.0)\r\n",
      "Requirement already satisfied: scipy>=1.5.0 in /home/schakkera/miniconda3/envs/ml/lib/python3.10/site-packages (from scikit-learn) (1.11.4)\r\n",
      "Requirement already satisfied: joblib>=1.1.1 in /home/schakkera/miniconda3/envs/ml/lib/python3.10/site-packages (from scikit-learn) (1.3.2)\r\n",
      "Requirement already satisfied: threadpoolctl>=2.0.0 in /home/schakkera/miniconda3/envs/ml/lib/python3.10/site-packages (from scikit-learn) (3.2.0)\r\n"
     ]
    },
    {
     "name": "stdout",
     "output_type": "stream",
     "text": [
      "Note: you may need to restart the kernel to use updated packages.\n"
     ]
    },
    {
     "name": "stdout",
     "output_type": "stream",
     "text": [
      "Requirement already satisfied: transformers[torch] in /home/schakkera/miniconda3/envs/ml/lib/python3.10/site-packages (4.35.2)\r\n"
     ]
    },
    {
     "name": "stdout",
     "output_type": "stream",
     "text": [
      "Requirement already satisfied: filelock in /home/schakkera/miniconda3/envs/ml/lib/python3.10/site-packages (from transformers[torch]) (3.13.1)\r\n",
      "Requirement already satisfied: huggingface-hub<1.0,>=0.16.4 in /home/schakkera/miniconda3/envs/ml/lib/python3.10/site-packages (from transformers[torch]) (0.19.4)\r\n",
      "Requirement already satisfied: numpy>=1.17 in /home/schakkera/miniconda3/envs/ml/lib/python3.10/site-packages (from transformers[torch]) (1.26.0)\r\n",
      "Requirement already satisfied: packaging>=20.0 in /home/schakkera/miniconda3/envs/ml/lib/python3.10/site-packages (from transformers[torch]) (23.2)\r\n",
      "Requirement already satisfied: pyyaml>=5.1 in /home/schakkera/miniconda3/envs/ml/lib/python3.10/site-packages (from transformers[torch]) (6.0.1)\r\n",
      "Requirement already satisfied: regex!=2019.12.17 in /home/schakkera/miniconda3/envs/ml/lib/python3.10/site-packages (from transformers[torch]) (2023.10.3)\r\n",
      "Requirement already satisfied: requests in /home/schakkera/miniconda3/envs/ml/lib/python3.10/site-packages (from transformers[torch]) (2.31.0)\r\n",
      "Requirement already satisfied: tokenizers<0.19,>=0.14 in /home/schakkera/miniconda3/envs/ml/lib/python3.10/site-packages (from transformers[torch]) (0.15.0)\r\n",
      "Requirement already satisfied: safetensors>=0.3.1 in /home/schakkera/miniconda3/envs/ml/lib/python3.10/site-packages (from transformers[torch]) (0.4.1)\r\n",
      "Requirement already satisfied: tqdm>=4.27 in /home/schakkera/miniconda3/envs/ml/lib/python3.10/site-packages (from transformers[torch]) (4.66.1)\r\n",
      "Requirement already satisfied: torch!=1.12.0,>=1.10 in /home/schakkera/miniconda3/envs/ml/lib/python3.10/site-packages (from transformers[torch]) (2.1.1)\r\n",
      "Requirement already satisfied: accelerate>=0.20.3 in /home/schakkera/miniconda3/envs/ml/lib/python3.10/site-packages (from transformers[torch]) (0.24.1)\r\n"
     ]
    },
    {
     "name": "stdout",
     "output_type": "stream",
     "text": [
      "Requirement already satisfied: psutil in /home/schakkera/miniconda3/envs/ml/lib/python3.10/site-packages (from accelerate>=0.20.3->transformers[torch]) (5.9.6)\r\n"
     ]
    },
    {
     "name": "stdout",
     "output_type": "stream",
     "text": [
      "Requirement already satisfied: fsspec>=2023.5.0 in /home/schakkera/miniconda3/envs/ml/lib/python3.10/site-packages (from huggingface-hub<1.0,>=0.16.4->transformers[torch]) (2023.10.0)\r\n",
      "Requirement already satisfied: typing-extensions>=3.7.4.3 in /home/schakkera/miniconda3/envs/ml/lib/python3.10/site-packages (from huggingface-hub<1.0,>=0.16.4->transformers[torch]) (4.7.1)\r\n"
     ]
    },
    {
     "name": "stdout",
     "output_type": "stream",
     "text": [
      "Requirement already satisfied: sympy in /home/schakkera/miniconda3/envs/ml/lib/python3.10/site-packages (from torch!=1.12.0,>=1.10->transformers[torch]) (1.11.1)\r\n",
      "Requirement already satisfied: networkx in /home/schakkera/miniconda3/envs/ml/lib/python3.10/site-packages (from torch!=1.12.0,>=1.10->transformers[torch]) (3.1)\r\n",
      "Requirement already satisfied: jinja2 in /home/schakkera/miniconda3/envs/ml/lib/python3.10/site-packages (from torch!=1.12.0,>=1.10->transformers[torch]) (3.1.2)\r\n",
      "Requirement already satisfied: charset-normalizer<4,>=2 in /home/schakkera/miniconda3/envs/ml/lib/python3.10/site-packages (from requests->transformers[torch]) (2.0.4)\r\n",
      "Requirement already satisfied: idna<4,>=2.5 in /home/schakkera/miniconda3/envs/ml/lib/python3.10/site-packages (from requests->transformers[torch]) (3.4)\r\n",
      "Requirement already satisfied: urllib3<3,>=1.21.1 in /home/schakkera/miniconda3/envs/ml/lib/python3.10/site-packages (from requests->transformers[torch]) (1.26.18)\r\n"
     ]
    },
    {
     "name": "stdout",
     "output_type": "stream",
     "text": [
      "Requirement already satisfied: certifi>=2017.4.17 in /home/schakkera/miniconda3/envs/ml/lib/python3.10/site-packages (from requests->transformers[torch]) (2023.11.17)\r\n"
     ]
    },
    {
     "name": "stdout",
     "output_type": "stream",
     "text": [
      "Requirement already satisfied: MarkupSafe>=2.0 in /home/schakkera/miniconda3/envs/ml/lib/python3.10/site-packages (from jinja2->torch!=1.12.0,>=1.10->transformers[torch]) (2.1.1)\r\n",
      "Requirement already satisfied: mpmath>=0.19 in /home/schakkera/miniconda3/envs/ml/lib/python3.10/site-packages (from sympy->torch!=1.12.0,>=1.10->transformers[torch]) (1.3.0)\r\n"
     ]
    },
    {
     "name": "stdout",
     "output_type": "stream",
     "text": [
      "Note: you may need to restart the kernel to use updated packages.\n"
     ]
    },
    {
     "name": "stdout",
     "output_type": "stream",
     "text": [
      "Requirement already satisfied: tensorboardX in /home/schakkera/miniconda3/envs/ml/lib/python3.10/site-packages (2.6.2.2)\r\n",
      "Requirement already satisfied: numpy in /home/schakkera/miniconda3/envs/ml/lib/python3.10/site-packages (from tensorboardX) (1.26.0)\r\n",
      "Requirement already satisfied: packaging in /home/schakkera/miniconda3/envs/ml/lib/python3.10/site-packages (from tensorboardX) (23.2)\r\n",
      "Requirement already satisfied: protobuf>=3.20 in /home/schakkera/miniconda3/envs/ml/lib/python3.10/site-packages (from tensorboardX) (4.25.1)\r\n"
     ]
    },
    {
     "name": "stdout",
     "output_type": "stream",
     "text": [
      "Note: you may need to restart the kernel to use updated packages.\n"
     ]
    }
   ],
   "source": [
    "%pip install huggingface\n",
    "%pip install datasets\n",
    "%pip install pillow\n",
    "%pip install transformers\n",
    "%pip install scikit-learn\n",
    "%pip install transformers[torch]\n",
    "%pip install tensorboardX\n",
    "# PyTorch + CUDA should be installed manually"
   ]
  },
  {
   "cell_type": "markdown",
   "id": "d3b539db",
   "metadata": {
    "papermill": {
     "duration": 0.0088,
     "end_time": "2023-11-29T23:38:43.860276",
     "exception": false,
     "start_time": "2023-11-29T23:38:43.851476",
     "status": "completed"
    },
    "tags": []
   },
   "source": [
    "## Dataset Processing"
   ]
  },
  {
   "cell_type": "code",
   "execution_count": 2,
   "id": "3848ae15",
   "metadata": {
    "execution": {
     "iopub.execute_input": "2023-11-29T23:38:43.876636Z",
     "iopub.status.busy": "2023-11-29T23:38:43.876142Z",
     "iopub.status.idle": "2023-11-29T23:38:48.122758Z",
     "shell.execute_reply": "2023-11-29T23:38:48.122048Z"
    },
    "papermill": {
     "duration": 4.257315,
     "end_time": "2023-11-29T23:38:48.124731",
     "exception": false,
     "start_time": "2023-11-29T23:38:43.867416",
     "status": "completed"
    },
    "tags": []
   },
   "outputs": [
    {
     "data": {
      "application/vnd.jupyter.widget-view+json": {
       "model_id": "710bca8aa0c440b48bdbe021fdf3f518",
       "version_major": 2,
       "version_minor": 0
      },
      "text/plain": [
       "Resolving data files:   0%|          | 0/2527 [00:00<?, ?it/s]"
      ]
     },
     "metadata": {},
     "output_type": "display_data"
    }
   ],
   "source": [
    "from datasets import load_dataset\n",
    "\n",
    "ds = load_dataset(\"imagefolder\", data_dir=\"/home/schakkera/CSE512/dataset-resized\", split=\"train\")\n",
    "# ds = load_dataset(\"imagefolder\", data_dir=\"/home/starc/SBU/Sem-3/ML/Project/dataset-resized/dataset-resized\", split=\"train\")\n",
    "ds = ds.train_test_split(test_size=0.2, seed=512)"
   ]
  },
  {
   "cell_type": "code",
   "execution_count": 3,
   "id": "a4a12740",
   "metadata": {
    "execution": {
     "iopub.execute_input": "2023-11-29T23:38:48.140333Z",
     "iopub.status.busy": "2023-11-29T23:38:48.139764Z",
     "iopub.status.idle": "2023-11-29T23:38:52.188282Z",
     "shell.execute_reply": "2023-11-29T23:38:52.187232Z"
    },
    "papermill": {
     "duration": 4.060268,
     "end_time": "2023-11-29T23:38:52.192533",
     "exception": false,
     "start_time": "2023-11-29T23:38:48.132265",
     "status": "completed"
    },
    "tags": []
   },
   "outputs": [
    {
     "name": "stderr",
     "output_type": "stream",
     "text": [
      "Could not find image processor class in the image processor config or the model config. Loading based on pattern matching with the model's feature extractor configuration.\n"
     ]
    }
   ],
   "source": [
    "from transformers import AutoImageProcessor\n",
    "from torchvision.transforms import Compose, RandomResizedCrop, RandomHorizontalFlip, ToTensor, Normalize, Resize, CenterCrop, ConvertImageDtype, InterpolationMode, ColorJitter\n",
    "import torch\n",
    "\n",
    "model_name_or_path = 'microsoft/resnet-50'\n",
    "processor = AutoImageProcessor.from_pretrained(model_name_or_path)\n",
    "\n",
    "\n",
    "_train_transform = Compose([\n",
    "    RandomResizedCrop(processor.size['shortest_edge'], interpolation=InterpolationMode.BICUBIC, antialias=None),\n",
    "    RandomHorizontalFlip(),\n",
    "    ColorJitter(brightness=0.4, contrast=0.4, saturation=0.4, hue=0.1),\n",
    "    ToTensor(),\n",
    "    ConvertImageDtype(torch.float),\n",
    "    Normalize(\n",
    "        mean=processor.image_mean,\n",
    "        std=processor.image_std\n",
    "    )\n",
    "])\n",
    "\n",
    "_val_transform = Compose([\n",
    "    Resize(processor.size['shortest_edge'], interpolation=InterpolationMode.BICUBIC, antialias=None),\n",
    "    CenterCrop(processor.size['shortest_edge']),\n",
    "    ToTensor(),\n",
    "    ConvertImageDtype(torch.float),\n",
    "    Normalize(\n",
    "        mean=processor.image_mean,\n",
    "        std=processor.image_std\n",
    "    )\n",
    "])\n",
    "\n",
    "def train_transform(example_batch):\n",
    "    example_batch['pixel_values'] = [\n",
    "        _train_transform(img.convert('RGB')) for img in example_batch['image']\n",
    "    ]\n",
    "    return example_batch\n",
    "\n",
    "def val_transform(example_batch):\n",
    "    example_batch['pixel_values'] = [\n",
    "        _val_transform(img.convert('RGB')) for img in example_batch['image']\n",
    "    ]\n",
    "    return example_batch\n",
    "\n",
    "ds['train'].set_transform(train_transform)\n",
    "ds['test'].set_transform(val_transform)"
   ]
  },
  {
   "cell_type": "markdown",
   "id": "555a13df",
   "metadata": {
    "papermill": {
     "duration": 0.007639,
     "end_time": "2023-11-29T23:38:52.215098",
     "exception": false,
     "start_time": "2023-11-29T23:38:52.207459",
     "status": "completed"
    },
    "tags": []
   },
   "source": [
    "## Training"
   ]
  },
  {
   "cell_type": "code",
   "execution_count": 4,
   "id": "e1cee37c",
   "metadata": {
    "execution": {
     "iopub.execute_input": "2023-11-29T23:38:52.232595Z",
     "iopub.status.busy": "2023-11-29T23:38:52.231720Z",
     "iopub.status.idle": "2023-11-29T23:38:52.238844Z",
     "shell.execute_reply": "2023-11-29T23:38:52.237926Z"
    },
    "papermill": {
     "duration": 0.018245,
     "end_time": "2023-11-29T23:38:52.240765",
     "exception": false,
     "start_time": "2023-11-29T23:38:52.222520",
     "status": "completed"
    },
    "tags": []
   },
   "outputs": [],
   "source": [
    "import torch\n",
    "\n",
    "def collate_fn(batch):\n",
    "    return {\n",
    "        'pixel_values': torch.stack([x['pixel_values'] for x in batch]),\n",
    "        'labels': torch.tensor([x['label'] for x in batch])\n",
    "    }"
   ]
  },
  {
   "cell_type": "code",
   "execution_count": 5,
   "id": "3f1a33c1",
   "metadata": {
    "execution": {
     "iopub.execute_input": "2023-11-29T23:38:52.257818Z",
     "iopub.status.busy": "2023-11-29T23:38:52.257319Z",
     "iopub.status.idle": "2023-11-29T23:38:53.197442Z",
     "shell.execute_reply": "2023-11-29T23:38:53.196329Z"
    },
    "papermill": {
     "duration": 0.953276,
     "end_time": "2023-11-29T23:38:53.201813",
     "exception": false,
     "start_time": "2023-11-29T23:38:52.248537",
     "status": "completed"
    },
    "tags": []
   },
   "outputs": [
    {
     "name": "stderr",
     "output_type": "stream",
     "text": [
      "/tmp/ipykernel_56370/596433834.py:4: FutureWarning: load_metric is deprecated and will be removed in the next major version of datasets. Use 'evaluate.load' instead, from the new library 🤗 Evaluate: https://huggingface.co/docs/evaluate\n",
      "  metric = load_metric(\"accuracy\")\n"
     ]
    }
   ],
   "source": [
    "import numpy as np\n",
    "from datasets import load_metric\n",
    "\n",
    "metric = load_metric(\"accuracy\")\n",
    "def compute_metrics(p):\n",
    "    return metric.compute(predictions=np.argmax(p.predictions, axis=1), references=p.label_ids)\n",
    "\n",
    "def ova_compute_metrics(p):\n",
    "    return metric.compute(predictions=np.argmin(p.predictions, axis=1), references=p.label_ids)"
   ]
  },
  {
   "cell_type": "code",
   "execution_count": 6,
   "id": "77eff6dc",
   "metadata": {
    "execution": {
     "iopub.execute_input": "2023-11-29T23:38:53.226064Z",
     "iopub.status.busy": "2023-11-29T23:38:53.225393Z",
     "iopub.status.idle": "2023-11-29T23:38:54.274385Z",
     "shell.execute_reply": "2023-11-29T23:38:54.273674Z"
    },
    "papermill": {
     "duration": 1.060642,
     "end_time": "2023-11-29T23:38:54.276475",
     "exception": false,
     "start_time": "2023-11-29T23:38:53.215833",
     "status": "completed"
    },
    "tags": []
   },
   "outputs": [
    {
     "name": "stderr",
     "output_type": "stream",
     "text": [
      "Some weights of ResNetForImageClassification were not initialized from the model checkpoint at microsoft/resnet-50 and are newly initialized because the shapes did not match:\n",
      "- classifier.1.weight: found shape torch.Size([1000, 2048]) in the checkpoint and torch.Size([6, 2048]) in the model instantiated\n",
      "- classifier.1.bias: found shape torch.Size([1000]) in the checkpoint and torch.Size([6]) in the model instantiated\n",
      "You should probably TRAIN this model on a down-stream task to be able to use it for predictions and inference.\n"
     ]
    }
   ],
   "source": [
    "from transformers import ResNetForImageClassification\n",
    "\n",
    "labels = ds['train'].features['label'].names\n",
    "\n",
    "model = ResNetForImageClassification.from_pretrained(\n",
    "    model_name_or_path,\n",
    "    ignore_mismatched_sizes=True,\n",
    "    num_labels=len(labels),\n",
    "    id2label={str(i): c for i, c in enumerate(labels)},\n",
    "    label2id={c: str(i) for i, c in enumerate(labels)}\n",
    ")"
   ]
  },
  {
   "cell_type": "code",
   "execution_count": 7,
   "id": "7aa7280a",
   "metadata": {
    "execution": {
     "iopub.execute_input": "2023-11-29T23:38:54.300681Z",
     "iopub.status.busy": "2023-11-29T23:38:54.300240Z",
     "iopub.status.idle": "2023-11-29T23:38:54.427944Z",
     "shell.execute_reply": "2023-11-29T23:38:54.427102Z"
    },
    "papermill": {
     "duration": 0.141739,
     "end_time": "2023-11-29T23:38:54.429754",
     "exception": false,
     "start_time": "2023-11-29T23:38:54.288015",
     "status": "completed"
    },
    "tags": []
   },
   "outputs": [],
   "source": [
    "from transformers import TrainingArguments\n",
    "from transformers.trainer_utils import get_last_checkpoint\n",
    "import os\n",
    "\n",
    "# if os.path.exists('./resnet-50-trash-ovareg'):\n",
    "#     last_checkpoint = get_last_checkpoint(\"./resnet-50-trash-ovareg\")\n",
    "# else:\n",
    "#     last_checkpoint = None\n",
    "\n",
    "# training_args = TrainingArguments(\n",
    "#   output_dir=\"./resnet-50-trash-ovareg\",\n",
    "#   per_device_train_batch_size=16,\n",
    "#   evaluation_strategy=\"steps\",\n",
    "#   num_train_epochs=32,\n",
    "#   fp16=True, # make it true\n",
    "#   save_steps=100,\n",
    "#   eval_steps=100,\n",
    "#   logging_steps=20,\n",
    "#   learning_rate=1e-4,\n",
    "#   save_total_limit=1,\n",
    "#   remove_unused_columns=False,\n",
    "#   push_to_hub=False,\n",
    "#   report_to='tensorboard',\n",
    "#   load_best_model_at_end=True,\n",
    "#   resume_from_checkpoint=last_checkpoint\n",
    "# )\n",
    "\n",
    "if os.path.exists('./resnet-50-trash-csce'):\n",
    "    last_checkpoint = get_last_checkpoint(\"./resnet-50-trash-csce\")\n",
    "else:\n",
    "    last_checkpoint = None\n",
    "\n",
    "training_args = TrainingArguments(\n",
    "  output_dir=\"./resnet-50-trash-csce\",\n",
    "  per_device_train_batch_size=16,\n",
    "  evaluation_strategy=\"steps\",\n",
    "  num_train_epochs=32,\n",
    "  fp16=True, # make it true\n",
    "  save_steps=100,\n",
    "  eval_steps=100,\n",
    "  logging_steps=20,\n",
    "  learning_rate=1e-4,\n",
    "  save_total_limit=1,\n",
    "  remove_unused_columns=False,\n",
    "  push_to_hub=False,\n",
    "  report_to='tensorboard',\n",
    "  load_best_model_at_end=True,\n",
    "  resume_from_checkpoint=last_checkpoint\n",
    ")"
   ]
  },
  {
   "cell_type": "code",
   "execution_count": 8,
   "id": "b89a7dcf",
   "metadata": {
    "execution": {
     "iopub.execute_input": "2023-11-29T23:38:54.449790Z",
     "iopub.status.busy": "2023-11-29T23:38:54.449402Z",
     "iopub.status.idle": "2023-11-29T23:38:54.495461Z",
     "shell.execute_reply": "2023-11-29T23:38:54.494789Z"
    },
    "papermill": {
     "duration": 0.058547,
     "end_time": "2023-11-29T23:38:54.497669",
     "exception": false,
     "start_time": "2023-11-29T23:38:54.439122",
     "status": "completed"
    },
    "tags": []
   },
   "outputs": [],
   "source": [
    "from transformers import Trainer\n",
    "import torch.nn as nn\n",
    "import torch.nn.functional as F\n",
    "device = torch.device(\"cuda\" if torch.cuda.is_available() else \"cpu\")\n",
    "class WeightedCrossEntropyTrainer(Trainer):\n",
    "    def __init__(self, *args, **kwargs):\n",
    "        super().__init__(*args, **kwargs)\n",
    "        self.cost_matrix = torch.tensor([[0.1, 0.1, 0.1, 0.1, 0.1, 0.1], \n",
    "                                       [0.1, 0.1, 0.4, 0.1, 0.3, 0.1], \n",
    "                                       [0.1, 0.4, 0.1, 0.1, 0.1, 0.2], \n",
    "                                       [0.1, 0.1, 0.1, 0.1, 0.1, 0.1], \n",
    "                                       [0.1, 0.4, 0.5, 0.1, 0.1, 0.2], \n",
    "                                       [0.4, 0.1, 0.2, 0.4, 0.1, 0.1]]).to(device)\n",
    "    def compute_loss(self, model, inputs, return_outputs=False):\n",
    "        labels = inputs.pop(\"labels\")\n",
    "        # print(labels.size(), labels)\n",
    "        # forward pass\n",
    "        outputs = model(**inputs)\n",
    "        logits = outputs.get(\"logits\")\n",
    "        exp_logits = torch.exp(logits)\n",
    "        batch_spec_weights = self.cost_matrix[labels, :]\n",
    "        weighted_exp = exp_logits * batch_spec_weights\n",
    "        weighted_softmax = weighted_exp/torch.sum(weighted_exp, axis=1).reshape(weighted_exp.size(0), -1)\n",
    "        log_weighted = torch.log(weighted_softmax)\n",
    "        onehot = F.one_hot(labels, self.cost_matrix.size(0))\n",
    "        ind_cross_entropy = -log_weighted*onehot\n",
    "        \n",
    "        # compute custom loss (suppose one has 3 labels with different weights)\n",
    "        loss = torch.mean(torch.sum(ind_cross_entropy, axis=1))\n",
    "        return (loss, outputs) if return_outputs else loss\n",
    "\n",
    "class OVARegressionTrainer(Trainer):\n",
    "    def __init__(self, *args, **kwargs):\n",
    "        super().__init__(*args, **kwargs)\n",
    "        self.cost_matrix = torch.tensor([[0.0, 5., 5., 5., 5., 5.], \n",
    "                                       [5., 0.0, 20., 5., 15., 5.], \n",
    "                                       [5., 20., 0.0, 5., 5., 10.], \n",
    "                                       [5., 5., 5., 0.0, 5., 5.], \n",
    "                                       [5., 5., 25., 5., 0.0, 10.], \n",
    "                                       [20., 5., 10., 20., 5., 0.0]]).to(device)\n",
    "    \n",
    "    \n",
    "    def compute_loss(self, model, inputs, return_outputs=False):\n",
    "        labels = inputs.pop(\"labels\")\n",
    "        # print(labels.size(), labels)\n",
    "        # forward pass\n",
    "        outputs = model(**inputs)\n",
    "        logits = outputs.get(\"logits\")\n",
    "        onehot = F.one_hot(labels, self.cost_matrix.size(0))\n",
    "        zval = (onehot*2)-1\n",
    "        batch_spec_weights = self.cost_matrix[labels, :]\n",
    "        regress = logits-batch_spec_weights\n",
    "        # print(np.argmin(regress.detach().numpy(), axis=1), labels)\n",
    "        zprod = zval*regress\n",
    "        \n",
    "        # compute custom loss (suppose one has 3 labels with different weights)\n",
    "        loss=torch.mean(torch.sum(torch.log(torch.exp(zprod)+1), axis=1))\n",
    "        # print(loss)\n",
    "        return (loss, outputs) if return_outputs else loss"
   ]
  },
  {
   "cell_type": "code",
   "execution_count": 9,
   "id": "98c389e1",
   "metadata": {
    "execution": {
     "iopub.execute_input": "2023-11-29T23:38:54.515177Z",
     "iopub.status.busy": "2023-11-29T23:38:54.514811Z",
     "iopub.status.idle": "2023-11-29T23:38:56.455761Z",
     "shell.execute_reply": "2023-11-29T23:38:56.454072Z"
    },
    "papermill": {
     "duration": 1.95219,
     "end_time": "2023-11-29T23:38:56.459561",
     "exception": false,
     "start_time": "2023-11-29T23:38:54.507371",
     "status": "completed"
    },
    "tags": []
   },
   "outputs": [
    {
     "name": "stderr",
     "output_type": "stream",
     "text": [
      "Detected kernel version 4.18.0, which is below the recommended minimum of 5.5.0; this can cause the process to hang. It is recommended to upgrade the kernel to the minimum version or higher.\n"
     ]
    }
   ],
   "source": [
    "# trainer = Trainer(\n",
    "#     model=model,\n",
    "#     args=training_args,\n",
    "#     data_collator=collate_fn,\n",
    "#     compute_metrics=compute_metrics,\n",
    "#     train_dataset=ds[\"train\"],\n",
    "#     eval_dataset=ds[\"test\"],\n",
    "#     tokenizer=processor,\n",
    "# )\n",
    "\n",
    "# trainer = OVARegressionTrainer(\n",
    "#     model=model,\n",
    "#     args=training_args,\n",
    "#     data_collator=collate_fn,\n",
    "#     compute_metrics=ova_compute_metrics,\n",
    "#     train_dataset=ds[\"train\"],\n",
    "#     eval_dataset=ds[\"test\"],\n",
    "#     tokenizer=processor,\n",
    "# )\n",
    "trainer = WeightedCrossEntropyTrainer(\n",
    "    model=model,\n",
    "    args=training_args,\n",
    "    data_collator=collate_fn,\n",
    "    compute_metrics=compute_metrics,\n",
    "    train_dataset=ds[\"train\"],\n",
    "    eval_dataset=ds[\"test\"],\n",
    "    tokenizer=processor,\n",
    ")"
   ]
  },
  {
   "cell_type": "code",
   "execution_count": 10,
   "id": "cb72e16e",
   "metadata": {
    "execution": {
     "iopub.execute_input": "2023-11-29T23:38:56.485068Z",
     "iopub.status.busy": "2023-11-29T23:38:56.484079Z",
     "iopub.status.idle": "2023-11-30T00:05:01.763810Z",
     "shell.execute_reply": "2023-11-30T00:05:01.762866Z"
    },
    "papermill": {
     "duration": 1565.291071,
     "end_time": "2023-11-30T00:05:01.766436",
     "exception": false,
     "start_time": "2023-11-29T23:38:56.475365",
     "status": "completed"
    },
    "tags": []
   },
   "outputs": [
    {
     "data": {
      "text/html": [
       "\n",
       "    <div>\n",
       "      \n",
       "      <progress value='4064' max='4064' style='width:300px; height:20px; vertical-align: middle;'></progress>\n",
       "      [4064/4064 26:02, Epoch 32/32]\n",
       "    </div>\n",
       "    <table border=\"1\" class=\"dataframe\">\n",
       "  <thead>\n",
       " <tr style=\"text-align: left;\">\n",
       "      <th>Step</th>\n",
       "      <th>Training Loss</th>\n",
       "      <th>Validation Loss</th>\n",
       "      <th>Accuracy</th>\n",
       "    </tr>\n",
       "  </thead>\n",
       "  <tbody>\n",
       "    <tr>\n",
       "      <td>100</td>\n",
       "      <td>2.021700</td>\n",
       "      <td>1.986423</td>\n",
       "      <td>0.250988</td>\n",
       "    </tr>\n",
       "    <tr>\n",
       "      <td>200</td>\n",
       "      <td>1.751100</td>\n",
       "      <td>1.741476</td>\n",
       "      <td>0.519763</td>\n",
       "    </tr>\n",
       "    <tr>\n",
       "      <td>300</td>\n",
       "      <td>1.591300</td>\n",
       "      <td>1.471198</td>\n",
       "      <td>0.675889</td>\n",
       "    </tr>\n",
       "    <tr>\n",
       "      <td>400</td>\n",
       "      <td>1.360300</td>\n",
       "      <td>1.134849</td>\n",
       "      <td>0.756917</td>\n",
       "    </tr>\n",
       "    <tr>\n",
       "      <td>500</td>\n",
       "      <td>1.107400</td>\n",
       "      <td>0.902174</td>\n",
       "      <td>0.792490</td>\n",
       "    </tr>\n",
       "    <tr>\n",
       "      <td>600</td>\n",
       "      <td>1.035500</td>\n",
       "      <td>0.779835</td>\n",
       "      <td>0.816206</td>\n",
       "    </tr>\n",
       "    <tr>\n",
       "      <td>700</td>\n",
       "      <td>0.853700</td>\n",
       "      <td>0.695599</td>\n",
       "      <td>0.832016</td>\n",
       "    </tr>\n",
       "    <tr>\n",
       "      <td>800</td>\n",
       "      <td>0.838800</td>\n",
       "      <td>0.651389</td>\n",
       "      <td>0.847826</td>\n",
       "    </tr>\n",
       "    <tr>\n",
       "      <td>900</td>\n",
       "      <td>0.939400</td>\n",
       "      <td>0.620722</td>\n",
       "      <td>0.857708</td>\n",
       "    </tr>\n",
       "    <tr>\n",
       "      <td>1000</td>\n",
       "      <td>0.818500</td>\n",
       "      <td>0.571208</td>\n",
       "      <td>0.861660</td>\n",
       "    </tr>\n",
       "    <tr>\n",
       "      <td>1100</td>\n",
       "      <td>0.631600</td>\n",
       "      <td>0.545907</td>\n",
       "      <td>0.879447</td>\n",
       "    </tr>\n",
       "    <tr>\n",
       "      <td>1200</td>\n",
       "      <td>0.777700</td>\n",
       "      <td>0.521030</td>\n",
       "      <td>0.883399</td>\n",
       "    </tr>\n",
       "    <tr>\n",
       "      <td>1300</td>\n",
       "      <td>0.638200</td>\n",
       "      <td>0.500607</td>\n",
       "      <td>0.885375</td>\n",
       "    </tr>\n",
       "    <tr>\n",
       "      <td>1400</td>\n",
       "      <td>0.700300</td>\n",
       "      <td>0.499202</td>\n",
       "      <td>0.901186</td>\n",
       "    </tr>\n",
       "    <tr>\n",
       "      <td>1500</td>\n",
       "      <td>0.628200</td>\n",
       "      <td>0.476389</td>\n",
       "      <td>0.903162</td>\n",
       "    </tr>\n",
       "    <tr>\n",
       "      <td>1600</td>\n",
       "      <td>0.657900</td>\n",
       "      <td>0.467115</td>\n",
       "      <td>0.899209</td>\n",
       "    </tr>\n",
       "    <tr>\n",
       "      <td>1700</td>\n",
       "      <td>0.541600</td>\n",
       "      <td>0.452422</td>\n",
       "      <td>0.907115</td>\n",
       "    </tr>\n",
       "    <tr>\n",
       "      <td>1800</td>\n",
       "      <td>0.591800</td>\n",
       "      <td>0.446458</td>\n",
       "      <td>0.899209</td>\n",
       "    </tr>\n",
       "    <tr>\n",
       "      <td>1900</td>\n",
       "      <td>0.636700</td>\n",
       "      <td>0.442814</td>\n",
       "      <td>0.893281</td>\n",
       "    </tr>\n",
       "    <tr>\n",
       "      <td>2000</td>\n",
       "      <td>0.459600</td>\n",
       "      <td>0.441924</td>\n",
       "      <td>0.901186</td>\n",
       "    </tr>\n",
       "    <tr>\n",
       "      <td>2100</td>\n",
       "      <td>0.542200</td>\n",
       "      <td>0.445608</td>\n",
       "      <td>0.909091</td>\n",
       "    </tr>\n",
       "    <tr>\n",
       "      <td>2200</td>\n",
       "      <td>0.490200</td>\n",
       "      <td>0.407962</td>\n",
       "      <td>0.909091</td>\n",
       "    </tr>\n",
       "    <tr>\n",
       "      <td>2300</td>\n",
       "      <td>0.396700</td>\n",
       "      <td>0.429096</td>\n",
       "      <td>0.893281</td>\n",
       "    </tr>\n",
       "    <tr>\n",
       "      <td>2400</td>\n",
       "      <td>0.559700</td>\n",
       "      <td>0.431043</td>\n",
       "      <td>0.899209</td>\n",
       "    </tr>\n",
       "    <tr>\n",
       "      <td>2500</td>\n",
       "      <td>0.493300</td>\n",
       "      <td>0.420280</td>\n",
       "      <td>0.897233</td>\n",
       "    </tr>\n",
       "    <tr>\n",
       "      <td>2600</td>\n",
       "      <td>0.455200</td>\n",
       "      <td>0.431159</td>\n",
       "      <td>0.893281</td>\n",
       "    </tr>\n",
       "    <tr>\n",
       "      <td>2700</td>\n",
       "      <td>0.545500</td>\n",
       "      <td>0.433790</td>\n",
       "      <td>0.897233</td>\n",
       "    </tr>\n",
       "    <tr>\n",
       "      <td>2800</td>\n",
       "      <td>0.493400</td>\n",
       "      <td>0.423900</td>\n",
       "      <td>0.903162</td>\n",
       "    </tr>\n",
       "    <tr>\n",
       "      <td>2900</td>\n",
       "      <td>0.512700</td>\n",
       "      <td>0.427610</td>\n",
       "      <td>0.901186</td>\n",
       "    </tr>\n",
       "    <tr>\n",
       "      <td>3000</td>\n",
       "      <td>0.383700</td>\n",
       "      <td>0.428600</td>\n",
       "      <td>0.899209</td>\n",
       "    </tr>\n",
       "    <tr>\n",
       "      <td>3100</td>\n",
       "      <td>0.552100</td>\n",
       "      <td>0.416387</td>\n",
       "      <td>0.911067</td>\n",
       "    </tr>\n",
       "    <tr>\n",
       "      <td>3200</td>\n",
       "      <td>0.522000</td>\n",
       "      <td>0.432190</td>\n",
       "      <td>0.909091</td>\n",
       "    </tr>\n",
       "    <tr>\n",
       "      <td>3300</td>\n",
       "      <td>0.427200</td>\n",
       "      <td>0.445359</td>\n",
       "      <td>0.905138</td>\n",
       "    </tr>\n",
       "    <tr>\n",
       "      <td>3400</td>\n",
       "      <td>0.412100</td>\n",
       "      <td>0.423271</td>\n",
       "      <td>0.905138</td>\n",
       "    </tr>\n",
       "    <tr>\n",
       "      <td>3500</td>\n",
       "      <td>0.423300</td>\n",
       "      <td>0.433259</td>\n",
       "      <td>0.901186</td>\n",
       "    </tr>\n",
       "    <tr>\n",
       "      <td>3600</td>\n",
       "      <td>0.406700</td>\n",
       "      <td>0.420479</td>\n",
       "      <td>0.907115</td>\n",
       "    </tr>\n",
       "    <tr>\n",
       "      <td>3700</td>\n",
       "      <td>0.446500</td>\n",
       "      <td>0.418911</td>\n",
       "      <td>0.907115</td>\n",
       "    </tr>\n",
       "    <tr>\n",
       "      <td>3800</td>\n",
       "      <td>0.372300</td>\n",
       "      <td>0.411320</td>\n",
       "      <td>0.907115</td>\n",
       "    </tr>\n",
       "    <tr>\n",
       "      <td>3900</td>\n",
       "      <td>0.394100</td>\n",
       "      <td>0.420741</td>\n",
       "      <td>0.909091</td>\n",
       "    </tr>\n",
       "    <tr>\n",
       "      <td>4000</td>\n",
       "      <td>0.420100</td>\n",
       "      <td>0.427058</td>\n",
       "      <td>0.903162</td>\n",
       "    </tr>\n",
       "  </tbody>\n",
       "</table><p>"
      ],
      "text/plain": [
       "<IPython.core.display.HTML object>"
      ]
     },
     "metadata": {},
     "output_type": "display_data"
    },
    {
     "name": "stdout",
     "output_type": "stream",
     "text": [
      "***** train metrics *****\n",
      "  epoch                    =         32.0\n",
      "  total_flos               = 1279464677GF\n",
      "  train_loss               =       0.7103\n",
      "  train_runtime            =   0:26:04.68\n",
      "  train_samples_per_second =       41.332\n",
      "  train_steps_per_second   =        2.597\n"
     ]
    }
   ],
   "source": [
    "train_results = trainer.train(resume_from_checkpoint=last_checkpoint)\n",
    "trainer.save_model()\n",
    "trainer.log_metrics(\"train\", train_results.metrics)\n",
    "trainer.save_metrics(\"train\", train_results.metrics)\n",
    "trainer.save_state()"
   ]
  },
  {
   "cell_type": "code",
   "execution_count": 11,
   "id": "0b9000ff",
   "metadata": {
    "execution": {
     "iopub.execute_input": "2023-11-30T00:05:01.787555Z",
     "iopub.status.busy": "2023-11-30T00:05:01.786928Z",
     "iopub.status.idle": "2023-11-30T00:05:08.320887Z",
     "shell.execute_reply": "2023-11-30T00:05:08.320209Z"
    },
    "papermill": {
     "duration": 6.545377,
     "end_time": "2023-11-30T00:05:08.322546",
     "exception": false,
     "start_time": "2023-11-30T00:05:01.777169",
     "status": "completed"
    },
    "tags": []
   },
   "outputs": [
    {
     "data": {
      "text/html": [
       "\n",
       "    <div>\n",
       "      \n",
       "      <progress value='64' max='64' style='width:300px; height:20px; vertical-align: middle;'></progress>\n",
       "      [64/64 00:06]\n",
       "    </div>\n",
       "    "
      ],
      "text/plain": [
       "<IPython.core.display.HTML object>"
      ]
     },
     "metadata": {},
     "output_type": "display_data"
    },
    {
     "name": "stdout",
     "output_type": "stream",
     "text": [
      "***** eval metrics *****\n",
      "  epoch                   =       32.0\n",
      "  eval_accuracy           =     0.9091\n",
      "  eval_loss               =      0.408\n",
      "  eval_runtime            = 0:00:06.51\n",
      "  eval_samples_per_second =     77.628\n",
      "  eval_steps_per_second   =      9.819\n"
     ]
    }
   ],
   "source": [
    "metrics = trainer.evaluate(ds['test'])\n",
    "trainer.log_metrics(\"eval\", metrics)\n",
    "trainer.save_metrics(\"eval\", metrics)"
   ]
  }
 ],
 "metadata": {
  "kernelspec": {
   "display_name": "Python 3 (ipykernel)",
   "language": "python",
   "name": "python3"
  },
  "language_info": {
   "codemirror_mode": {
    "name": "ipython",
    "version": 3
   },
   "file_extension": ".py",
   "mimetype": "text/x-python",
   "name": "python",
   "nbconvert_exporter": "python",
   "pygments_lexer": "ipython3",
   "version": "3.10.13"
  },
  "papermill": {
   "default_parameters": {},
   "duration": 1609.351324,
   "end_time": "2023-11-30T00:05:11.241839",
   "environment_variables": {},
   "exception": null,
   "input_path": "resnet-train-csce.ipynb",
   "output_path": "resnet-train-csce-output.ipynb",
   "parameters": {},
   "start_time": "2023-11-29T23:38:21.890515",
   "version": "2.5.0"
  },
  "widgets": {
   "application/vnd.jupyter.widget-state+json": {
    "state": {
     "07b93016ff7247c2ac13505d9a6bd6ad": {
      "model_module": "@jupyter-widgets/base",
      "model_module_version": "2.0.0",
      "model_name": "LayoutModel",
      "state": {
       "_model_module": "@jupyter-widgets/base",
       "_model_module_version": "2.0.0",
       "_model_name": "LayoutModel",
       "_view_count": null,
       "_view_module": "@jupyter-widgets/base",
       "_view_module_version": "2.0.0",
       "_view_name": "LayoutView",
       "align_content": null,
       "align_items": null,
       "align_self": null,
       "border_bottom": null,
       "border_left": null,
       "border_right": null,
       "border_top": null,
       "bottom": null,
       "display": null,
       "flex": null,
       "flex_flow": null,
       "grid_area": null,
       "grid_auto_columns": null,
       "grid_auto_flow": null,
       "grid_auto_rows": null,
       "grid_column": null,
       "grid_gap": null,
       "grid_row": null,
       "grid_template_areas": null,
       "grid_template_columns": null,
       "grid_template_rows": null,
       "height": null,
       "justify_content": null,
       "justify_items": null,
       "left": null,
       "margin": null,
       "max_height": null,
       "max_width": null,
       "min_height": null,
       "min_width": null,
       "object_fit": null,
       "object_position": null,
       "order": null,
       "overflow": null,
       "padding": null,
       "right": null,
       "top": null,
       "visibility": null,
       "width": null
      }
     },
     "0e1ffd0bb4da4c939c948e2755033e2f": {
      "model_module": "@jupyter-widgets/controls",
      "model_module_version": "2.0.0",
      "model_name": "HTMLStyleModel",
      "state": {
       "_model_module": "@jupyter-widgets/controls",
       "_model_module_version": "2.0.0",
       "_model_name": "HTMLStyleModel",
       "_view_count": null,
       "_view_module": "@jupyter-widgets/base",
       "_view_module_version": "2.0.0",
       "_view_name": "StyleView",
       "background": null,
       "description_width": "",
       "font_size": null,
       "text_color": null
      }
     },
     "35c64e4dd57a490ab1428f55729e1366": {
      "model_module": "@jupyter-widgets/base",
      "model_module_version": "2.0.0",
      "model_name": "LayoutModel",
      "state": {
       "_model_module": "@jupyter-widgets/base",
       "_model_module_version": "2.0.0",
       "_model_name": "LayoutModel",
       "_view_count": null,
       "_view_module": "@jupyter-widgets/base",
       "_view_module_version": "2.0.0",
       "_view_name": "LayoutView",
       "align_content": null,
       "align_items": null,
       "align_self": null,
       "border_bottom": null,
       "border_left": null,
       "border_right": null,
       "border_top": null,
       "bottom": null,
       "display": null,
       "flex": null,
       "flex_flow": null,
       "grid_area": null,
       "grid_auto_columns": null,
       "grid_auto_flow": null,
       "grid_auto_rows": null,
       "grid_column": null,
       "grid_gap": null,
       "grid_row": null,
       "grid_template_areas": null,
       "grid_template_columns": null,
       "grid_template_rows": null,
       "height": null,
       "justify_content": null,
       "justify_items": null,
       "left": null,
       "margin": null,
       "max_height": null,
       "max_width": null,
       "min_height": null,
       "min_width": null,
       "object_fit": null,
       "object_position": null,
       "order": null,
       "overflow": null,
       "padding": null,
       "right": null,
       "top": null,
       "visibility": null,
       "width": null
      }
     },
     "3c4e403c9dcb4603977dad02199929d0": {
      "model_module": "@jupyter-widgets/controls",
      "model_module_version": "2.0.0",
      "model_name": "ProgressStyleModel",
      "state": {
       "_model_module": "@jupyter-widgets/controls",
       "_model_module_version": "2.0.0",
       "_model_name": "ProgressStyleModel",
       "_view_count": null,
       "_view_module": "@jupyter-widgets/base",
       "_view_module_version": "2.0.0",
       "_view_name": "StyleView",
       "bar_color": null,
       "description_width": ""
      }
     },
     "6b78cba5ee614232b1763f9b7e28c542": {
      "model_module": "@jupyter-widgets/controls",
      "model_module_version": "2.0.0",
      "model_name": "FloatProgressModel",
      "state": {
       "_dom_classes": [],
       "_model_module": "@jupyter-widgets/controls",
       "_model_module_version": "2.0.0",
       "_model_name": "FloatProgressModel",
       "_view_count": null,
       "_view_module": "@jupyter-widgets/controls",
       "_view_module_version": "2.0.0",
       "_view_name": "ProgressView",
       "bar_style": "success",
       "description": "",
       "description_allow_html": false,
       "layout": "IPY_MODEL_35c64e4dd57a490ab1428f55729e1366",
       "max": 2527.0,
       "min": 0.0,
       "orientation": "horizontal",
       "style": "IPY_MODEL_3c4e403c9dcb4603977dad02199929d0",
       "tabbable": null,
       "tooltip": null,
       "value": 2527.0
      }
     },
     "710bca8aa0c440b48bdbe021fdf3f518": {
      "model_module": "@jupyter-widgets/controls",
      "model_module_version": "2.0.0",
      "model_name": "HBoxModel",
      "state": {
       "_dom_classes": [],
       "_model_module": "@jupyter-widgets/controls",
       "_model_module_version": "2.0.0",
       "_model_name": "HBoxModel",
       "_view_count": null,
       "_view_module": "@jupyter-widgets/controls",
       "_view_module_version": "2.0.0",
       "_view_name": "HBoxView",
       "box_style": "",
       "children": [
        "IPY_MODEL_779457a687e34d0488f6889b72b615cf",
        "IPY_MODEL_6b78cba5ee614232b1763f9b7e28c542",
        "IPY_MODEL_d8c0185080f24805ad3fa300a7c7136f"
       ],
       "layout": "IPY_MODEL_b40f92ab82fd47d5bf59f6cabe5f1d8b",
       "tabbable": null,
       "tooltip": null
      }
     },
     "779457a687e34d0488f6889b72b615cf": {
      "model_module": "@jupyter-widgets/controls",
      "model_module_version": "2.0.0",
      "model_name": "HTMLModel",
      "state": {
       "_dom_classes": [],
       "_model_module": "@jupyter-widgets/controls",
       "_model_module_version": "2.0.0",
       "_model_name": "HTMLModel",
       "_view_count": null,
       "_view_module": "@jupyter-widgets/controls",
       "_view_module_version": "2.0.0",
       "_view_name": "HTMLView",
       "description": "",
       "description_allow_html": false,
       "layout": "IPY_MODEL_79920e73a58b4621a6d7532375250964",
       "placeholder": "​",
       "style": "IPY_MODEL_0e1ffd0bb4da4c939c948e2755033e2f",
       "tabbable": null,
       "tooltip": null,
       "value": "Resolving data files: 100%"
      }
     },
     "79920e73a58b4621a6d7532375250964": {
      "model_module": "@jupyter-widgets/base",
      "model_module_version": "2.0.0",
      "model_name": "LayoutModel",
      "state": {
       "_model_module": "@jupyter-widgets/base",
       "_model_module_version": "2.0.0",
       "_model_name": "LayoutModel",
       "_view_count": null,
       "_view_module": "@jupyter-widgets/base",
       "_view_module_version": "2.0.0",
       "_view_name": "LayoutView",
       "align_content": null,
       "align_items": null,
       "align_self": null,
       "border_bottom": null,
       "border_left": null,
       "border_right": null,
       "border_top": null,
       "bottom": null,
       "display": null,
       "flex": null,
       "flex_flow": null,
       "grid_area": null,
       "grid_auto_columns": null,
       "grid_auto_flow": null,
       "grid_auto_rows": null,
       "grid_column": null,
       "grid_gap": null,
       "grid_row": null,
       "grid_template_areas": null,
       "grid_template_columns": null,
       "grid_template_rows": null,
       "height": null,
       "justify_content": null,
       "justify_items": null,
       "left": null,
       "margin": null,
       "max_height": null,
       "max_width": null,
       "min_height": null,
       "min_width": null,
       "object_fit": null,
       "object_position": null,
       "order": null,
       "overflow": null,
       "padding": null,
       "right": null,
       "top": null,
       "visibility": null,
       "width": null
      }
     },
     "b21c3b6049d9436b95a4c362f4f4b8c5": {
      "model_module": "@jupyter-widgets/controls",
      "model_module_version": "2.0.0",
      "model_name": "HTMLStyleModel",
      "state": {
       "_model_module": "@jupyter-widgets/controls",
       "_model_module_version": "2.0.0",
       "_model_name": "HTMLStyleModel",
       "_view_count": null,
       "_view_module": "@jupyter-widgets/base",
       "_view_module_version": "2.0.0",
       "_view_name": "StyleView",
       "background": null,
       "description_width": "",
       "font_size": null,
       "text_color": null
      }
     },
     "b40f92ab82fd47d5bf59f6cabe5f1d8b": {
      "model_module": "@jupyter-widgets/base",
      "model_module_version": "2.0.0",
      "model_name": "LayoutModel",
      "state": {
       "_model_module": "@jupyter-widgets/base",
       "_model_module_version": "2.0.0",
       "_model_name": "LayoutModel",
       "_view_count": null,
       "_view_module": "@jupyter-widgets/base",
       "_view_module_version": "2.0.0",
       "_view_name": "LayoutView",
       "align_content": null,
       "align_items": null,
       "align_self": null,
       "border_bottom": null,
       "border_left": null,
       "border_right": null,
       "border_top": null,
       "bottom": null,
       "display": null,
       "flex": null,
       "flex_flow": null,
       "grid_area": null,
       "grid_auto_columns": null,
       "grid_auto_flow": null,
       "grid_auto_rows": null,
       "grid_column": null,
       "grid_gap": null,
       "grid_row": null,
       "grid_template_areas": null,
       "grid_template_columns": null,
       "grid_template_rows": null,
       "height": null,
       "justify_content": null,
       "justify_items": null,
       "left": null,
       "margin": null,
       "max_height": null,
       "max_width": null,
       "min_height": null,
       "min_width": null,
       "object_fit": null,
       "object_position": null,
       "order": null,
       "overflow": null,
       "padding": null,
       "right": null,
       "top": null,
       "visibility": null,
       "width": null
      }
     },
     "d8c0185080f24805ad3fa300a7c7136f": {
      "model_module": "@jupyter-widgets/controls",
      "model_module_version": "2.0.0",
      "model_name": "HTMLModel",
      "state": {
       "_dom_classes": [],
       "_model_module": "@jupyter-widgets/controls",
       "_model_module_version": "2.0.0",
       "_model_name": "HTMLModel",
       "_view_count": null,
       "_view_module": "@jupyter-widgets/controls",
       "_view_module_version": "2.0.0",
       "_view_name": "HTMLView",
       "description": "",
       "description_allow_html": false,
       "layout": "IPY_MODEL_07b93016ff7247c2ac13505d9a6bd6ad",
       "placeholder": "​",
       "style": "IPY_MODEL_b21c3b6049d9436b95a4c362f4f4b8c5",
       "tabbable": null,
       "tooltip": null,
       "value": " 2527/2527 [00:00&lt;00:00,  9.14it/s]"
      }
     }
    },
    "version_major": 2,
    "version_minor": 0
   }
  }
 },
 "nbformat": 4,
 "nbformat_minor": 5
}