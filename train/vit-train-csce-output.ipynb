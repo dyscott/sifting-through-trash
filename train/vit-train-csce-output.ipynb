{
 "cells": [
  {
   "cell_type": "markdown",
   "id": "a5498e11",
   "metadata": {
    "papermill": {
     "duration": 0.009324,
     "end_time": "2023-11-30T00:36:13.801412",
     "exception": false,
     "start_time": "2023-11-30T00:36:13.792088",
     "status": "completed"
    },
    "tags": []
   },
   "source": [
    "# ViT Fine-Tuning Demo\n",
    "\n",
    "*Based on: https://huggingface.co/blog/fine-tune-vit*\n",
    "\n",
    "Before running, download the [TrashNet dataset](https://github.com/garythung/trashnet/raw/master/data/dataset-resized.zip) and extract it to the 'dataset' folder."
   ]
  },
  {
   "cell_type": "code",
   "execution_count": 1,
   "id": "573b0324",
   "metadata": {
    "execution": {
     "iopub.execute_input": "2023-11-30T00:36:13.813298Z",
     "iopub.status.busy": "2023-11-30T00:36:13.812458Z",
     "iopub.status.idle": "2023-11-30T00:36:32.959762Z",
     "shell.execute_reply": "2023-11-30T00:36:32.957836Z"
    },
    "papermill": {
     "duration": 19.158746,
     "end_time": "2023-11-30T00:36:32.964727",
     "exception": false,
     "start_time": "2023-11-30T00:36:13.805981",
     "status": "completed"
    },
    "tags": []
   },
   "outputs": [
    {
     "name": "stdout",
     "output_type": "stream",
     "text": [
      "Requirement already satisfied: huggingface in /home/schakkera/miniconda3/envs/ml/lib/python3.10/site-packages (0.0.1)\r\n"
     ]
    },
    {
     "name": "stdout",
     "output_type": "stream",
     "text": [
      "Note: you may need to restart the kernel to use updated packages.\n"
     ]
    },
    {
     "name": "stdout",
     "output_type": "stream",
     "text": [
      "Requirement already satisfied: datasets in /home/schakkera/miniconda3/envs/ml/lib/python3.10/site-packages (2.15.0)\r\n"
     ]
    },
    {
     "name": "stdout",
     "output_type": "stream",
     "text": [
      "Requirement already satisfied: numpy>=1.17 in /home/schakkera/miniconda3/envs/ml/lib/python3.10/site-packages (from datasets) (1.26.0)\r\n",
      "Requirement already satisfied: pyarrow>=8.0.0 in /home/schakkera/miniconda3/envs/ml/lib/python3.10/site-packages (from datasets) (14.0.1)\r\n",
      "Requirement already satisfied: pyarrow-hotfix in /home/schakkera/miniconda3/envs/ml/lib/python3.10/site-packages (from datasets) (0.6)\r\n",
      "Requirement already satisfied: dill<0.3.8,>=0.3.0 in /home/schakkera/miniconda3/envs/ml/lib/python3.10/site-packages (from datasets) (0.3.7)\r\n",
      "Requirement already satisfied: pandas in /home/schakkera/miniconda3/envs/ml/lib/python3.10/site-packages (from datasets) (2.1.3)\r\n",
      "Requirement already satisfied: requests>=2.19.0 in /home/schakkera/miniconda3/envs/ml/lib/python3.10/site-packages (from datasets) (2.31.0)\r\n",
      "Requirement already satisfied: tqdm>=4.62.1 in /home/schakkera/miniconda3/envs/ml/lib/python3.10/site-packages (from datasets) (4.66.1)\r\n",
      "Requirement already satisfied: xxhash in /home/schakkera/miniconda3/envs/ml/lib/python3.10/site-packages (from datasets) (3.4.1)\r\n",
      "Requirement already satisfied: multiprocess in /home/schakkera/miniconda3/envs/ml/lib/python3.10/site-packages (from datasets) (0.70.15)\r\n",
      "Requirement already satisfied: fsspec<=2023.10.0,>=2023.1.0 in /home/schakkera/miniconda3/envs/ml/lib/python3.10/site-packages (from fsspec[http]<=2023.10.0,>=2023.1.0->datasets) (2023.10.0)\r\n",
      "Requirement already satisfied: aiohttp in /home/schakkera/miniconda3/envs/ml/lib/python3.10/site-packages (from datasets) (3.9.1)\r\n",
      "Requirement already satisfied: huggingface-hub>=0.18.0 in /home/schakkera/miniconda3/envs/ml/lib/python3.10/site-packages (from datasets) (0.19.4)\r\n",
      "Requirement already satisfied: packaging in /home/schakkera/miniconda3/envs/ml/lib/python3.10/site-packages (from datasets) (23.2)\r\n",
      "Requirement already satisfied: pyyaml>=5.1 in /home/schakkera/miniconda3/envs/ml/lib/python3.10/site-packages (from datasets) (6.0.1)\r\n"
     ]
    },
    {
     "name": "stdout",
     "output_type": "stream",
     "text": [
      "Requirement already satisfied: attrs>=17.3.0 in /home/schakkera/miniconda3/envs/ml/lib/python3.10/site-packages (from aiohttp->datasets) (23.1.0)\r\n",
      "Requirement already satisfied: multidict<7.0,>=4.5 in /home/schakkera/miniconda3/envs/ml/lib/python3.10/site-packages (from aiohttp->datasets) (6.0.4)\r\n",
      "Requirement already satisfied: yarl<2.0,>=1.0 in /home/schakkera/miniconda3/envs/ml/lib/python3.10/site-packages (from aiohttp->datasets) (1.9.3)\r\n",
      "Requirement already satisfied: frozenlist>=1.1.1 in /home/schakkera/miniconda3/envs/ml/lib/python3.10/site-packages (from aiohttp->datasets) (1.4.0)\r\n",
      "Requirement already satisfied: aiosignal>=1.1.2 in /home/schakkera/miniconda3/envs/ml/lib/python3.10/site-packages (from aiohttp->datasets) (1.3.1)\r\n",
      "Requirement already satisfied: async-timeout<5.0,>=4.0 in /home/schakkera/miniconda3/envs/ml/lib/python3.10/site-packages (from aiohttp->datasets) (4.0.3)\r\n"
     ]
    },
    {
     "name": "stdout",
     "output_type": "stream",
     "text": [
      "Requirement already satisfied: filelock in /home/schakkera/miniconda3/envs/ml/lib/python3.10/site-packages (from huggingface-hub>=0.18.0->datasets) (3.13.1)\r\n",
      "Requirement already satisfied: typing-extensions>=3.7.4.3 in /home/schakkera/miniconda3/envs/ml/lib/python3.10/site-packages (from huggingface-hub>=0.18.0->datasets) (4.7.1)\r\n",
      "Requirement already satisfied: charset-normalizer<4,>=2 in /home/schakkera/miniconda3/envs/ml/lib/python3.10/site-packages (from requests>=2.19.0->datasets) (2.0.4)\r\n",
      "Requirement already satisfied: idna<4,>=2.5 in /home/schakkera/miniconda3/envs/ml/lib/python3.10/site-packages (from requests>=2.19.0->datasets) (3.4)\r\n",
      "Requirement already satisfied: urllib3<3,>=1.21.1 in /home/schakkera/miniconda3/envs/ml/lib/python3.10/site-packages (from requests>=2.19.0->datasets) (1.26.18)\r\n",
      "Requirement already satisfied: certifi>=2017.4.17 in /home/schakkera/miniconda3/envs/ml/lib/python3.10/site-packages (from requests>=2.19.0->datasets) (2023.11.17)\r\n"
     ]
    },
    {
     "name": "stdout",
     "output_type": "stream",
     "text": [
      "Requirement already satisfied: python-dateutil>=2.8.2 in /home/schakkera/miniconda3/envs/ml/lib/python3.10/site-packages (from pandas->datasets) (2.8.2)\r\n",
      "Requirement already satisfied: pytz>=2020.1 in /home/schakkera/miniconda3/envs/ml/lib/python3.10/site-packages (from pandas->datasets) (2023.3.post1)\r\n",
      "Requirement already satisfied: tzdata>=2022.1 in /home/schakkera/miniconda3/envs/ml/lib/python3.10/site-packages (from pandas->datasets) (2023.3)\r\n"
     ]
    },
    {
     "name": "stdout",
     "output_type": "stream",
     "text": [
      "Requirement already satisfied: six>=1.5 in /home/schakkera/miniconda3/envs/ml/lib/python3.10/site-packages (from python-dateutil>=2.8.2->pandas->datasets) (1.16.0)\r\n"
     ]
    },
    {
     "name": "stdout",
     "output_type": "stream",
     "text": [
      "Note: you may need to restart the kernel to use updated packages.\n"
     ]
    },
    {
     "name": "stdout",
     "output_type": "stream",
     "text": [
      "Requirement already satisfied: pillow in /home/schakkera/miniconda3/envs/ml/lib/python3.10/site-packages (10.0.1)\r\n"
     ]
    },
    {
     "name": "stdout",
     "output_type": "stream",
     "text": [
      "Note: you may need to restart the kernel to use updated packages.\n"
     ]
    },
    {
     "name": "stdout",
     "output_type": "stream",
     "text": [
      "Requirement already satisfied: transformers in /home/schakkera/miniconda3/envs/ml/lib/python3.10/site-packages (4.35.2)\r\n"
     ]
    },
    {
     "name": "stdout",
     "output_type": "stream",
     "text": [
      "Requirement already satisfied: filelock in /home/schakkera/miniconda3/envs/ml/lib/python3.10/site-packages (from transformers) (3.13.1)\r\n",
      "Requirement already satisfied: huggingface-hub<1.0,>=0.16.4 in /home/schakkera/miniconda3/envs/ml/lib/python3.10/site-packages (from transformers) (0.19.4)\r\n",
      "Requirement already satisfied: numpy>=1.17 in /home/schakkera/miniconda3/envs/ml/lib/python3.10/site-packages (from transformers) (1.26.0)\r\n",
      "Requirement already satisfied: packaging>=20.0 in /home/schakkera/miniconda3/envs/ml/lib/python3.10/site-packages (from transformers) (23.2)\r\n",
      "Requirement already satisfied: pyyaml>=5.1 in /home/schakkera/miniconda3/envs/ml/lib/python3.10/site-packages (from transformers) (6.0.1)\r\n",
      "Requirement already satisfied: regex!=2019.12.17 in /home/schakkera/miniconda3/envs/ml/lib/python3.10/site-packages (from transformers) (2023.10.3)\r\n",
      "Requirement already satisfied: requests in /home/schakkera/miniconda3/envs/ml/lib/python3.10/site-packages (from transformers) (2.31.0)\r\n",
      "Requirement already satisfied: tokenizers<0.19,>=0.14 in /home/schakkera/miniconda3/envs/ml/lib/python3.10/site-packages (from transformers) (0.15.0)\r\n",
      "Requirement already satisfied: safetensors>=0.3.1 in /home/schakkera/miniconda3/envs/ml/lib/python3.10/site-packages (from transformers) (0.4.1)\r\n",
      "Requirement already satisfied: tqdm>=4.27 in /home/schakkera/miniconda3/envs/ml/lib/python3.10/site-packages (from transformers) (4.66.1)\r\n"
     ]
    },
    {
     "name": "stdout",
     "output_type": "stream",
     "text": [
      "Requirement already satisfied: fsspec>=2023.5.0 in /home/schakkera/miniconda3/envs/ml/lib/python3.10/site-packages (from huggingface-hub<1.0,>=0.16.4->transformers) (2023.10.0)\r\n",
      "Requirement already satisfied: typing-extensions>=3.7.4.3 in /home/schakkera/miniconda3/envs/ml/lib/python3.10/site-packages (from huggingface-hub<1.0,>=0.16.4->transformers) (4.7.1)\r\n"
     ]
    },
    {
     "name": "stdout",
     "output_type": "stream",
     "text": [
      "Requirement already satisfied: charset-normalizer<4,>=2 in /home/schakkera/miniconda3/envs/ml/lib/python3.10/site-packages (from requests->transformers) (2.0.4)\r\n",
      "Requirement already satisfied: idna<4,>=2.5 in /home/schakkera/miniconda3/envs/ml/lib/python3.10/site-packages (from requests->transformers) (3.4)\r\n",
      "Requirement already satisfied: urllib3<3,>=1.21.1 in /home/schakkera/miniconda3/envs/ml/lib/python3.10/site-packages (from requests->transformers) (1.26.18)\r\n",
      "Requirement already satisfied: certifi>=2017.4.17 in /home/schakkera/miniconda3/envs/ml/lib/python3.10/site-packages (from requests->transformers) (2023.11.17)\r\n"
     ]
    },
    {
     "name": "stdout",
     "output_type": "stream",
     "text": [
      "Note: you may need to restart the kernel to use updated packages.\n"
     ]
    },
    {
     "name": "stdout",
     "output_type": "stream",
     "text": [
      "Requirement already satisfied: scikit-learn in /home/schakkera/miniconda3/envs/ml/lib/python3.10/site-packages (1.3.2)\r\n"
     ]
    },
    {
     "name": "stdout",
     "output_type": "stream",
     "text": [
      "Requirement already satisfied: numpy<2.0,>=1.17.3 in /home/schakkera/miniconda3/envs/ml/lib/python3.10/site-packages (from scikit-learn) (1.26.0)\r\n",
      "Requirement already satisfied: scipy>=1.5.0 in /home/schakkera/miniconda3/envs/ml/lib/python3.10/site-packages (from scikit-learn) (1.11.4)\r\n",
      "Requirement already satisfied: joblib>=1.1.1 in /home/schakkera/miniconda3/envs/ml/lib/python3.10/site-packages (from scikit-learn) (1.3.2)\r\n",
      "Requirement already satisfied: threadpoolctl>=2.0.0 in /home/schakkera/miniconda3/envs/ml/lib/python3.10/site-packages (from scikit-learn) (3.2.0)\r\n"
     ]
    },
    {
     "name": "stdout",
     "output_type": "stream",
     "text": [
      "Note: you may need to restart the kernel to use updated packages.\n"
     ]
    },
    {
     "name": "stdout",
     "output_type": "stream",
     "text": [
      "Requirement already satisfied: transformers[torch] in /home/schakkera/miniconda3/envs/ml/lib/python3.10/site-packages (4.35.2)\r\n"
     ]
    },
    {
     "name": "stdout",
     "output_type": "stream",
     "text": [
      "Requirement already satisfied: filelock in /home/schakkera/miniconda3/envs/ml/lib/python3.10/site-packages (from transformers[torch]) (3.13.1)\r\n",
      "Requirement already satisfied: huggingface-hub<1.0,>=0.16.4 in /home/schakkera/miniconda3/envs/ml/lib/python3.10/site-packages (from transformers[torch]) (0.19.4)\r\n",
      "Requirement already satisfied: numpy>=1.17 in /home/schakkera/miniconda3/envs/ml/lib/python3.10/site-packages (from transformers[torch]) (1.26.0)\r\n",
      "Requirement already satisfied: packaging>=20.0 in /home/schakkera/miniconda3/envs/ml/lib/python3.10/site-packages (from transformers[torch]) (23.2)\r\n"
     ]
    },
    {
     "name": "stdout",
     "output_type": "stream",
     "text": [
      "Requirement already satisfied: pyyaml>=5.1 in /home/schakkera/miniconda3/envs/ml/lib/python3.10/site-packages (from transformers[torch]) (6.0.1)\r\n",
      "Requirement already satisfied: regex!=2019.12.17 in /home/schakkera/miniconda3/envs/ml/lib/python3.10/site-packages (from transformers[torch]) (2023.10.3)\r\n",
      "Requirement already satisfied: requests in /home/schakkera/miniconda3/envs/ml/lib/python3.10/site-packages (from transformers[torch]) (2.31.0)\r\n",
      "Requirement already satisfied: tokenizers<0.19,>=0.14 in /home/schakkera/miniconda3/envs/ml/lib/python3.10/site-packages (from transformers[torch]) (0.15.0)\r\n",
      "Requirement already satisfied: safetensors>=0.3.1 in /home/schakkera/miniconda3/envs/ml/lib/python3.10/site-packages (from transformers[torch]) (0.4.1)\r\n",
      "Requirement already satisfied: tqdm>=4.27 in /home/schakkera/miniconda3/envs/ml/lib/python3.10/site-packages (from transformers[torch]) (4.66.1)\r\n",
      "Requirement already satisfied: torch!=1.12.0,>=1.10 in /home/schakkera/miniconda3/envs/ml/lib/python3.10/site-packages (from transformers[torch]) (2.1.1)\r\n",
      "Requirement already satisfied: accelerate>=0.20.3 in /home/schakkera/miniconda3/envs/ml/lib/python3.10/site-packages (from transformers[torch]) (0.24.1)\r\n"
     ]
    },
    {
     "name": "stdout",
     "output_type": "stream",
     "text": [
      "Requirement already satisfied: psutil in /home/schakkera/miniconda3/envs/ml/lib/python3.10/site-packages (from accelerate>=0.20.3->transformers[torch]) (5.9.6)\r\n"
     ]
    },
    {
     "name": "stdout",
     "output_type": "stream",
     "text": [
      "Requirement already satisfied: fsspec>=2023.5.0 in /home/schakkera/miniconda3/envs/ml/lib/python3.10/site-packages (from huggingface-hub<1.0,>=0.16.4->transformers[torch]) (2023.10.0)\r\n",
      "Requirement already satisfied: typing-extensions>=3.7.4.3 in /home/schakkera/miniconda3/envs/ml/lib/python3.10/site-packages (from huggingface-hub<1.0,>=0.16.4->transformers[torch]) (4.7.1)\r\n"
     ]
    },
    {
     "name": "stdout",
     "output_type": "stream",
     "text": [
      "Requirement already satisfied: sympy in /home/schakkera/miniconda3/envs/ml/lib/python3.10/site-packages (from torch!=1.12.0,>=1.10->transformers[torch]) (1.11.1)\r\n",
      "Requirement already satisfied: networkx in /home/schakkera/miniconda3/envs/ml/lib/python3.10/site-packages (from torch!=1.12.0,>=1.10->transformers[torch]) (3.1)\r\n",
      "Requirement already satisfied: jinja2 in /home/schakkera/miniconda3/envs/ml/lib/python3.10/site-packages (from torch!=1.12.0,>=1.10->transformers[torch]) (3.1.2)\r\n",
      "Requirement already satisfied: charset-normalizer<4,>=2 in /home/schakkera/miniconda3/envs/ml/lib/python3.10/site-packages (from requests->transformers[torch]) (2.0.4)\r\n",
      "Requirement already satisfied: idna<4,>=2.5 in /home/schakkera/miniconda3/envs/ml/lib/python3.10/site-packages (from requests->transformers[torch]) (3.4)\r\n",
      "Requirement already satisfied: urllib3<3,>=1.21.1 in /home/schakkera/miniconda3/envs/ml/lib/python3.10/site-packages (from requests->transformers[torch]) (1.26.18)\r\n",
      "Requirement already satisfied: certifi>=2017.4.17 in /home/schakkera/miniconda3/envs/ml/lib/python3.10/site-packages (from requests->transformers[torch]) (2023.11.17)\r\n"
     ]
    },
    {
     "name": "stdout",
     "output_type": "stream",
     "text": [
      "Requirement already satisfied: MarkupSafe>=2.0 in /home/schakkera/miniconda3/envs/ml/lib/python3.10/site-packages (from jinja2->torch!=1.12.0,>=1.10->transformers[torch]) (2.1.1)\r\n"
     ]
    },
    {
     "name": "stdout",
     "output_type": "stream",
     "text": [
      "Requirement already satisfied: mpmath>=0.19 in /home/schakkera/miniconda3/envs/ml/lib/python3.10/site-packages (from sympy->torch!=1.12.0,>=1.10->transformers[torch]) (1.3.0)\r\n"
     ]
    },
    {
     "name": "stdout",
     "output_type": "stream",
     "text": [
      "Note: you may need to restart the kernel to use updated packages.\n"
     ]
    },
    {
     "name": "stdout",
     "output_type": "stream",
     "text": [
      "Requirement already satisfied: tensorboardX in /home/schakkera/miniconda3/envs/ml/lib/python3.10/site-packages (2.6.2.2)\r\n",
      "Requirement already satisfied: numpy in /home/schakkera/miniconda3/envs/ml/lib/python3.10/site-packages (from tensorboardX) (1.26.0)\r\n",
      "Requirement already satisfied: packaging in /home/schakkera/miniconda3/envs/ml/lib/python3.10/site-packages (from tensorboardX) (23.2)\r\n",
      "Requirement already satisfied: protobuf>=3.20 in /home/schakkera/miniconda3/envs/ml/lib/python3.10/site-packages (from tensorboardX) (4.25.1)\r\n"
     ]
    },
    {
     "name": "stdout",
     "output_type": "stream",
     "text": [
      "Note: you may need to restart the kernel to use updated packages.\n"
     ]
    }
   ],
   "source": [
    "%pip install huggingface\n",
    "%pip install datasets\n",
    "%pip install pillow\n",
    "%pip install transformers\n",
    "%pip install scikit-learn\n",
    "%pip install transformers[torch]\n",
    "%pip install tensorboardX\n",
    "# PyTorch + CUDA should be installed manually"
   ]
  },
  {
   "cell_type": "markdown",
   "id": "d6c6a4ea",
   "metadata": {
    "papermill": {
     "duration": 0.010752,
     "end_time": "2023-11-30T00:36:32.988468",
     "exception": false,
     "start_time": "2023-11-30T00:36:32.977716",
     "status": "completed"
    },
    "tags": []
   },
   "source": [
    "## Dataset Processing"
   ]
  },
  {
   "cell_type": "code",
   "execution_count": 2,
   "id": "e8968cfa",
   "metadata": {
    "execution": {
     "iopub.execute_input": "2023-11-30T00:36:33.006557Z",
     "iopub.status.busy": "2023-11-30T00:36:33.005869Z",
     "iopub.status.idle": "2023-11-30T00:36:36.749270Z",
     "shell.execute_reply": "2023-11-30T00:36:36.748449Z"
    },
    "papermill": {
     "duration": 3.756105,
     "end_time": "2023-11-30T00:36:36.752208",
     "exception": false,
     "start_time": "2023-11-30T00:36:32.996103",
     "status": "completed"
    },
    "tags": []
   },
   "outputs": [
    {
     "data": {
      "application/vnd.jupyter.widget-view+json": {
       "model_id": "9da74bd50d1e448f9c148439e48c304f",
       "version_major": 2,
       "version_minor": 0
      },
      "text/plain": [
       "Resolving data files:   0%|          | 0/2527 [00:00<?, ?it/s]"
      ]
     },
     "metadata": {},
     "output_type": "display_data"
    }
   ],
   "source": [
    "from datasets import load_dataset\n",
    "\n",
    "ds = load_dataset(\"imagefolder\", data_dir=\"/home/schakkera/CSE512/dataset-resized\", split=\"train\")\n",
    "# ds = load_dataset(\"imagefolder\", data_dir=\"/home/starc/SBU/Sem-3/ML/Project/dataset-resized/dataset-resized\", split=\"train\")\n",
    "ds = ds.train_test_split(test_size=0.2, seed=512)"
   ]
  },
  {
   "cell_type": "code",
   "execution_count": 3,
   "id": "62843fa2",
   "metadata": {
    "execution": {
     "iopub.execute_input": "2023-11-30T00:36:36.773325Z",
     "iopub.status.busy": "2023-11-30T00:36:36.772646Z",
     "iopub.status.idle": "2023-11-30T00:36:39.929103Z",
     "shell.execute_reply": "2023-11-30T00:36:39.928024Z"
    },
    "papermill": {
     "duration": 3.170403,
     "end_time": "2023-11-30T00:36:39.933502",
     "exception": false,
     "start_time": "2023-11-30T00:36:36.763099",
     "status": "completed"
    },
    "tags": []
   },
   "outputs": [],
   "source": [
    "from transformers import ViTImageProcessor, ViTConfig\n",
    "from torchvision.transforms import Compose, RandomResizedCrop, RandomHorizontalFlip, ToTensor, Normalize, Resize, CenterCrop, ConvertImageDtype, InterpolationMode, ColorJitter\n",
    "import torch\n",
    "\n",
    "model_name_or_path = 'google/vit-base-patch16-224'\n",
    "config = ViTConfig.from_pretrained(model_name_or_path)\n",
    "processor = ViTImageProcessor.from_pretrained(model_name_or_path)\n",
    "\n",
    "_train_transform = Compose([\n",
    "    RandomResizedCrop(config.image_size, interpolation=InterpolationMode.BICUBIC, antialias=None),\n",
    "    RandomHorizontalFlip(),\n",
    "    ColorJitter(brightness=0.4, contrast=0.4, saturation=0.4, hue=0.1),\n",
    "    ToTensor(),\n",
    "    ConvertImageDtype(torch.float),\n",
    "    Normalize(\n",
    "        mean=processor.image_mean,\n",
    "        std=processor.image_std\n",
    "    )\n",
    "])\n",
    "\n",
    "_val_transform = Compose([\n",
    "    Resize(config.image_size, interpolation=InterpolationMode.BICUBIC, antialias=None),\n",
    "    CenterCrop(config.image_size),\n",
    "    ToTensor(),\n",
    "    ConvertImageDtype(torch.float),\n",
    "    Normalize(\n",
    "        mean=processor.image_mean,\n",
    "        std=processor.image_std\n",
    "    )\n",
    "])\n",
    "\n",
    "def train_transform(example_batch):\n",
    "    example_batch['pixel_values'] = [\n",
    "        _train_transform(img.convert('RGB')) for img in example_batch['image']\n",
    "    ]\n",
    "    return example_batch\n",
    "\n",
    "def val_transform(example_batch):\n",
    "    example_batch['pixel_values'] = [\n",
    "        _val_transform(img.convert('RGB')) for img in example_batch['image']\n",
    "    ]\n",
    "    return example_batch\n",
    "\n",
    "ds['train'].set_transform(train_transform)\n",
    "ds['test'].set_transform(val_transform)"
   ]
  },
  {
   "cell_type": "markdown",
   "id": "5c537915",
   "metadata": {
    "papermill": {
     "duration": 0.007782,
     "end_time": "2023-11-30T00:36:39.955711",
     "exception": false,
     "start_time": "2023-11-30T00:36:39.947929",
     "status": "completed"
    },
    "tags": []
   },
   "source": [
    "## Training"
   ]
  },
  {
   "cell_type": "code",
   "execution_count": 4,
   "id": "928472fa",
   "metadata": {
    "execution": {
     "iopub.execute_input": "2023-11-30T00:36:39.972726Z",
     "iopub.status.busy": "2023-11-30T00:36:39.972144Z",
     "iopub.status.idle": "2023-11-30T00:36:39.978428Z",
     "shell.execute_reply": "2023-11-30T00:36:39.977397Z"
    },
    "papermill": {
     "duration": 0.016952,
     "end_time": "2023-11-30T00:36:39.980268",
     "exception": false,
     "start_time": "2023-11-30T00:36:39.963316",
     "status": "completed"
    },
    "tags": []
   },
   "outputs": [],
   "source": [
    "import torch\n",
    "\n",
    "def collate_fn(batch):\n",
    "    return {\n",
    "        'pixel_values': torch.stack([x['pixel_values'] for x in batch]),\n",
    "        'labels': torch.tensor([x['label'] for x in batch])\n",
    "    }"
   ]
  },
  {
   "cell_type": "code",
   "execution_count": 5,
   "id": "b6a82d8d",
   "metadata": {
    "execution": {
     "iopub.execute_input": "2023-11-30T00:36:39.997394Z",
     "iopub.status.busy": "2023-11-30T00:36:39.996982Z",
     "iopub.status.idle": "2023-11-30T00:36:40.705892Z",
     "shell.execute_reply": "2023-11-30T00:36:40.704807Z"
    },
    "papermill": {
     "duration": 0.722024,
     "end_time": "2023-11-30T00:36:40.710235",
     "exception": false,
     "start_time": "2023-11-30T00:36:39.988211",
     "status": "completed"
    },
    "tags": []
   },
   "outputs": [
    {
     "name": "stderr",
     "output_type": "stream",
     "text": [
      "/tmp/ipykernel_62624/596433834.py:4: FutureWarning: load_metric is deprecated and will be removed in the next major version of datasets. Use 'evaluate.load' instead, from the new library 🤗 Evaluate: https://huggingface.co/docs/evaluate\n",
      "  metric = load_metric(\"accuracy\")\n"
     ]
    }
   ],
   "source": [
    "import numpy as np\n",
    "from datasets import load_metric\n",
    "\n",
    "metric = load_metric(\"accuracy\")\n",
    "def compute_metrics(p):\n",
    "    return metric.compute(predictions=np.argmax(p.predictions, axis=1), references=p.label_ids)\n",
    "\n",
    "def ova_compute_metrics(p):\n",
    "    return metric.compute(predictions=np.argmin(p.predictions, axis=1), references=p.label_ids)"
   ]
  },
  {
   "cell_type": "code",
   "execution_count": 6,
   "id": "af2aa63c",
   "metadata": {
    "execution": {
     "iopub.execute_input": "2023-11-30T00:36:40.735259Z",
     "iopub.status.busy": "2023-11-30T00:36:40.734381Z",
     "iopub.status.idle": "2023-11-30T00:36:41.917221Z",
     "shell.execute_reply": "2023-11-30T00:36:41.916474Z"
    },
    "papermill": {
     "duration": 1.194798,
     "end_time": "2023-11-30T00:36:41.919380",
     "exception": false,
     "start_time": "2023-11-30T00:36:40.724582",
     "status": "completed"
    },
    "tags": []
   },
   "outputs": [
    {
     "name": "stderr",
     "output_type": "stream",
     "text": [
      "Some weights of ViTForImageClassification were not initialized from the model checkpoint at google/vit-base-patch16-224 and are newly initialized because the shapes did not match:\n",
      "- classifier.bias: found shape torch.Size([1000]) in the checkpoint and torch.Size([6]) in the model instantiated\n",
      "- classifier.weight: found shape torch.Size([1000, 768]) in the checkpoint and torch.Size([6, 768]) in the model instantiated\n",
      "You should probably TRAIN this model on a down-stream task to be able to use it for predictions and inference.\n"
     ]
    }
   ],
   "source": [
    "from transformers import ViTForImageClassification\n",
    "\n",
    "labels = ds['train'].features['label'].names\n",
    "\n",
    "model = ViTForImageClassification.from_pretrained(\n",
    "    model_name_or_path,\n",
    "    ignore_mismatched_sizes=True,\n",
    "    num_labels=len(labels),\n",
    "    id2label={str(i): c for i, c in enumerate(labels)},\n",
    "    label2id={c: str(i) for i, c in enumerate(labels)}\n",
    ")"
   ]
  },
  {
   "cell_type": "code",
   "execution_count": 7,
   "id": "5a6e025d",
   "metadata": {
    "execution": {
     "iopub.execute_input": "2023-11-30T00:36:41.943871Z",
     "iopub.status.busy": "2023-11-30T00:36:41.943440Z",
     "iopub.status.idle": "2023-11-30T00:36:42.021150Z",
     "shell.execute_reply": "2023-11-30T00:36:42.020361Z"
    },
    "papermill": {
     "duration": 0.092633,
     "end_time": "2023-11-30T00:36:42.023845",
     "exception": false,
     "start_time": "2023-11-30T00:36:41.931212",
     "status": "completed"
    },
    "tags": []
   },
   "outputs": [],
   "source": [
    "from transformers import TrainingArguments\n",
    "from transformers.trainer_utils import get_last_checkpoint\n",
    "import os\n",
    "\n",
    "# if os.path.exists('./vit-base-trash-ovareg'):\n",
    "#     last_checkpoint = get_last_checkpoint(\"./vit-base-trash-ovareg\")\n",
    "# else:\n",
    "#     last_checkpoint = None\n",
    "\n",
    "# training_args = TrainingArguments(\n",
    "#   output_dir=\"./vit-base-trash-ovareg\",\n",
    "#   per_device_train_batch_size=16,\n",
    "#   evaluation_strategy=\"steps\",\n",
    "#   num_train_epochs=32,\n",
    "#   fp16=True,\n",
    "#   save_steps=100,\n",
    "#   eval_steps=100,\n",
    "#   logging_steps=20,\n",
    "#   learning_rate=3e-5, #3e-5\n",
    "#   save_total_limit=1,\n",
    "#   remove_unused_columns=False,\n",
    "#   push_to_hub=False,\n",
    "#   report_to='tensorboard',\n",
    "#   load_best_model_at_end=True,\n",
    "#   resume_from_checkpoint=last_checkpoint\n",
    "# )\n",
    "\n",
    "\n",
    "if os.path.exists('./vit-base-trash-csce'):\n",
    "    last_checkpoint = get_last_checkpoint(\"./vit-base-trash-csce\")\n",
    "else:\n",
    "    last_checkpoint = None\n",
    "\n",
    "training_args = TrainingArguments(\n",
    "  output_dir=\"./vit-base-trash-csce\",\n",
    "  per_device_train_batch_size=16,\n",
    "  evaluation_strategy=\"steps\",\n",
    "  num_train_epochs=32,\n",
    "  fp16=True,\n",
    "  save_steps=100,\n",
    "  eval_steps=100,\n",
    "  logging_steps=20,\n",
    "  learning_rate=3e-5, #3e-5\n",
    "  save_total_limit=1,\n",
    "  remove_unused_columns=False,\n",
    "  push_to_hub=False,\n",
    "  report_to='tensorboard',\n",
    "  load_best_model_at_end=True,\n",
    "  resume_from_checkpoint=last_checkpoint\n",
    ")"
   ]
  },
  {
   "cell_type": "code",
   "execution_count": 8,
   "id": "69144c30",
   "metadata": {
    "execution": {
     "iopub.execute_input": "2023-11-30T00:36:42.043867Z",
     "iopub.status.busy": "2023-11-30T00:36:42.043524Z",
     "iopub.status.idle": "2023-11-30T00:36:42.092462Z",
     "shell.execute_reply": "2023-11-30T00:36:42.091798Z"
    },
    "papermill": {
     "duration": 0.061046,
     "end_time": "2023-11-30T00:36:42.094368",
     "exception": false,
     "start_time": "2023-11-30T00:36:42.033322",
     "status": "completed"
    },
    "tags": []
   },
   "outputs": [],
   "source": [
    "from transformers import Trainer\n",
    "import torch.nn as nn\n",
    "import torch.nn.functional as F\n",
    "device = torch.device(\"cuda\" if torch.cuda.is_available() else \"cpu\")\n",
    "class WeightedCrossEntropyTrainer(Trainer):\n",
    "    def __init__(self, *args, **kwargs):\n",
    "        super().__init__(*args, **kwargs)\n",
    "        self.cost_matrix = torch.tensor([[0.1, 0.1, 0.1, 0.1, 0.1, 0.1], \n",
    "                                       [0.1, 0.1, 0.4, 0.1, 0.3, 0.1], \n",
    "                                       [0.1, 0.4, 0.1, 0.1, 0.1, 0.2], \n",
    "                                       [0.1, 0.1, 0.1, 0.1, 0.1, 0.1], \n",
    "                                       [0.1, 0.4, 0.5, 0.1, 0.1, 0.2], \n",
    "                                       [0.4, 0.1, 0.2, 0.4, 0.1, 0.1]]).to(device)\n",
    "    def compute_loss(self, model, inputs, return_outputs=False):\n",
    "        labels = inputs.pop(\"labels\")\n",
    "        # print(labels.size(), labels)\n",
    "        # forward pass\n",
    "        outputs = model(**inputs)\n",
    "        logits = outputs.get(\"logits\")\n",
    "        exp_logits = torch.exp(logits)\n",
    "        batch_spec_weights = self.cost_matrix[labels, :]\n",
    "        weighted_exp = exp_logits * batch_spec_weights\n",
    "        weighted_softmax = weighted_exp/torch.sum(weighted_exp, axis=1).reshape(weighted_exp.size(0), -1)\n",
    "        log_weighted = torch.log(weighted_softmax)\n",
    "        onehot = F.one_hot(labels, self.cost_matrix.size(0))\n",
    "        ind_cross_entropy = -log_weighted*onehot\n",
    "        \n",
    "        # compute custom loss (suppose one has 3 labels with different weights)\n",
    "        loss = torch.mean(torch.sum(ind_cross_entropy, axis=1))\n",
    "        return (loss, outputs) if return_outputs else loss\n",
    "\n",
    "class OVARegressionTrainer(Trainer):\n",
    "    def __init__(self, *args, **kwargs):\n",
    "        super().__init__(*args, **kwargs)\n",
    "        self.cost_matrix = torch.tensor([[0.0, 5., 5., 5., 5., 5.], \n",
    "                                       [5., 0.0, 20., 5., 15., 5.], \n",
    "                                       [5., 20., 0.0, 5., 5., 10.], \n",
    "                                       [5., 5., 5., 0.0, 5., 5.], \n",
    "                                       [5., 5., 25., 5., 0.0, 10.], \n",
    "                                       [20., 5., 10., 20., 5., 0.0]]).to(device)\n",
    "    \n",
    "    \n",
    "    def compute_loss(self, model, inputs, return_outputs=False):\n",
    "        labels = inputs.pop(\"labels\")\n",
    "        # print(labels.size(), labels)\n",
    "        # forward pass\n",
    "        outputs = model(**inputs)\n",
    "        logits = outputs.get(\"logits\")\n",
    "        onehot = F.one_hot(labels, self.cost_matrix.size(0))\n",
    "        zval = (onehot*2)-1\n",
    "        batch_spec_weights = self.cost_matrix[labels, :]\n",
    "        regress = logits-batch_spec_weights\n",
    "        # print(np.argmin(regress.detach().numpy(), axis=1), labels)\n",
    "        zprod = zval*regress\n",
    "        \n",
    "        # compute custom loss (suppose one has 3 labels with different weights)\n",
    "        loss=torch.mean(torch.sum(torch.log(torch.exp(zprod)+1), axis=1))\n",
    "        # print(loss)\n",
    "        return (loss, outputs) if return_outputs else loss"
   ]
  },
  {
   "cell_type": "code",
   "execution_count": 9,
   "id": "f45b54d2",
   "metadata": {
    "execution": {
     "iopub.execute_input": "2023-11-30T00:36:42.110660Z",
     "iopub.status.busy": "2023-11-30T00:36:42.110364Z",
     "iopub.status.idle": "2023-11-30T00:36:44.048395Z",
     "shell.execute_reply": "2023-11-30T00:36:44.047329Z"
    },
    "papermill": {
     "duration": 1.948172,
     "end_time": "2023-11-30T00:36:44.050906",
     "exception": false,
     "start_time": "2023-11-30T00:36:42.102734",
     "status": "completed"
    },
    "tags": []
   },
   "outputs": [
    {
     "name": "stderr",
     "output_type": "stream",
     "text": [
      "Detected kernel version 4.18.0, which is below the recommended minimum of 5.5.0; this can cause the process to hang. It is recommended to upgrade the kernel to the minimum version or higher.\n"
     ]
    }
   ],
   "source": [
    "from transformers import Trainer\n",
    "\n",
    "# trainer = Trainer(\n",
    "#     model=model,\n",
    "#     args=training_args,\n",
    "#     data_collator=collate_fn,\n",
    "#     compute_metrics=compute_metrics,\n",
    "#     train_dataset=ds[\"train\"],\n",
    "#     eval_dataset=ds[\"test\"],\n",
    "#     tokenizer=processor,\n",
    "# )\n",
    "# trainer = OVARegressionTrainer(\n",
    "#     model=model,\n",
    "#     args=training_args,\n",
    "#     data_collator=collate_fn,\n",
    "#     compute_metrics=ova_compute_metrics,\n",
    "#     train_dataset=ds[\"train\"],\n",
    "#     eval_dataset=ds[\"test\"],\n",
    "#     tokenizer=processor,\n",
    "# )\n",
    "trainer = WeightedCrossEntropyTrainer(\n",
    "    model=model,\n",
    "    args=training_args,\n",
    "    data_collator=collate_fn,\n",
    "    compute_metrics=compute_metrics,\n",
    "    train_dataset=ds[\"train\"],\n",
    "    eval_dataset=ds[\"test\"],\n",
    "    tokenizer=processor,\n",
    ")"
   ]
  },
  {
   "cell_type": "code",
   "execution_count": 10,
   "id": "01e312d2",
   "metadata": {
    "execution": {
     "iopub.execute_input": "2023-11-30T00:36:44.068701Z",
     "iopub.status.busy": "2023-11-30T00:36:44.068176Z",
     "iopub.status.idle": "2023-11-30T01:06:55.355527Z",
     "shell.execute_reply": "2023-11-30T01:06:55.354371Z"
    },
    "papermill": {
     "duration": 1811.299989,
     "end_time": "2023-11-30T01:06:55.359976",
     "exception": false,
     "start_time": "2023-11-30T00:36:44.059987",
     "status": "completed"
    },
    "tags": []
   },
   "outputs": [
    {
     "data": {
      "text/html": [
       "\n",
       "    <div>\n",
       "      \n",
       "      <progress value='4064' max='4064' style='width:300px; height:20px; vertical-align: middle;'></progress>\n",
       "      [4064/4064 30:07, Epoch 32/32]\n",
       "    </div>\n",
       "    <table border=\"1\" class=\"dataframe\">\n",
       "  <thead>\n",
       " <tr style=\"text-align: left;\">\n",
       "      <th>Step</th>\n",
       "      <th>Training Loss</th>\n",
       "      <th>Validation Loss</th>\n",
       "      <th>Accuracy</th>\n",
       "    </tr>\n",
       "  </thead>\n",
       "  <tbody>\n",
       "    <tr>\n",
       "      <td>100</td>\n",
       "      <td>0.851900</td>\n",
       "      <td>0.593352</td>\n",
       "      <td>0.881423</td>\n",
       "    </tr>\n",
       "    <tr>\n",
       "      <td>200</td>\n",
       "      <td>0.480200</td>\n",
       "      <td>0.342959</td>\n",
       "      <td>0.918972</td>\n",
       "    </tr>\n",
       "    <tr>\n",
       "      <td>300</td>\n",
       "      <td>0.404800</td>\n",
       "      <td>0.314240</td>\n",
       "      <td>0.930830</td>\n",
       "    </tr>\n",
       "    <tr>\n",
       "      <td>400</td>\n",
       "      <td>0.278100</td>\n",
       "      <td>0.259941</td>\n",
       "      <td>0.942688</td>\n",
       "    </tr>\n",
       "    <tr>\n",
       "      <td>500</td>\n",
       "      <td>0.202300</td>\n",
       "      <td>0.283345</td>\n",
       "      <td>0.942688</td>\n",
       "    </tr>\n",
       "    <tr>\n",
       "      <td>600</td>\n",
       "      <td>0.197500</td>\n",
       "      <td>0.243999</td>\n",
       "      <td>0.944664</td>\n",
       "    </tr>\n",
       "    <tr>\n",
       "      <td>700</td>\n",
       "      <td>0.184500</td>\n",
       "      <td>0.293159</td>\n",
       "      <td>0.926877</td>\n",
       "    </tr>\n",
       "    <tr>\n",
       "      <td>800</td>\n",
       "      <td>0.154900</td>\n",
       "      <td>0.262860</td>\n",
       "      <td>0.940711</td>\n",
       "    </tr>\n",
       "    <tr>\n",
       "      <td>900</td>\n",
       "      <td>0.163900</td>\n",
       "      <td>0.241866</td>\n",
       "      <td>0.946640</td>\n",
       "    </tr>\n",
       "    <tr>\n",
       "      <td>1000</td>\n",
       "      <td>0.160600</td>\n",
       "      <td>0.270812</td>\n",
       "      <td>0.944664</td>\n",
       "    </tr>\n",
       "    <tr>\n",
       "      <td>1100</td>\n",
       "      <td>0.109100</td>\n",
       "      <td>0.274708</td>\n",
       "      <td>0.934783</td>\n",
       "    </tr>\n",
       "    <tr>\n",
       "      <td>1200</td>\n",
       "      <td>0.189800</td>\n",
       "      <td>0.255958</td>\n",
       "      <td>0.942688</td>\n",
       "    </tr>\n",
       "    <tr>\n",
       "      <td>1300</td>\n",
       "      <td>0.106900</td>\n",
       "      <td>0.208279</td>\n",
       "      <td>0.954545</td>\n",
       "    </tr>\n",
       "    <tr>\n",
       "      <td>1400</td>\n",
       "      <td>0.040600</td>\n",
       "      <td>0.285090</td>\n",
       "      <td>0.940711</td>\n",
       "    </tr>\n",
       "    <tr>\n",
       "      <td>1500</td>\n",
       "      <td>0.179300</td>\n",
       "      <td>0.297845</td>\n",
       "      <td>0.938735</td>\n",
       "    </tr>\n",
       "    <tr>\n",
       "      <td>1600</td>\n",
       "      <td>0.172400</td>\n",
       "      <td>0.257952</td>\n",
       "      <td>0.946640</td>\n",
       "    </tr>\n",
       "    <tr>\n",
       "      <td>1700</td>\n",
       "      <td>0.122800</td>\n",
       "      <td>0.271286</td>\n",
       "      <td>0.944664</td>\n",
       "    </tr>\n",
       "    <tr>\n",
       "      <td>1800</td>\n",
       "      <td>0.103400</td>\n",
       "      <td>0.231889</td>\n",
       "      <td>0.954545</td>\n",
       "    </tr>\n",
       "    <tr>\n",
       "      <td>1900</td>\n",
       "      <td>0.140800</td>\n",
       "      <td>0.247594</td>\n",
       "      <td>0.956522</td>\n",
       "    </tr>\n",
       "    <tr>\n",
       "      <td>2000</td>\n",
       "      <td>0.014200</td>\n",
       "      <td>0.221928</td>\n",
       "      <td>0.956522</td>\n",
       "    </tr>\n",
       "    <tr>\n",
       "      <td>2100</td>\n",
       "      <td>0.058400</td>\n",
       "      <td>0.227967</td>\n",
       "      <td>0.958498</td>\n",
       "    </tr>\n",
       "    <tr>\n",
       "      <td>2200</td>\n",
       "      <td>0.127400</td>\n",
       "      <td>0.273134</td>\n",
       "      <td>0.952569</td>\n",
       "    </tr>\n",
       "    <tr>\n",
       "      <td>2300</td>\n",
       "      <td>0.124100</td>\n",
       "      <td>0.229118</td>\n",
       "      <td>0.954545</td>\n",
       "    </tr>\n",
       "    <tr>\n",
       "      <td>2400</td>\n",
       "      <td>0.091000</td>\n",
       "      <td>0.233415</td>\n",
       "      <td>0.952569</td>\n",
       "    </tr>\n",
       "    <tr>\n",
       "      <td>2500</td>\n",
       "      <td>0.050200</td>\n",
       "      <td>0.252339</td>\n",
       "      <td>0.954545</td>\n",
       "    </tr>\n",
       "    <tr>\n",
       "      <td>2600</td>\n",
       "      <td>0.064400</td>\n",
       "      <td>0.247900</td>\n",
       "      <td>0.954545</td>\n",
       "    </tr>\n",
       "    <tr>\n",
       "      <td>2700</td>\n",
       "      <td>0.097300</td>\n",
       "      <td>0.259307</td>\n",
       "      <td>0.948617</td>\n",
       "    </tr>\n",
       "    <tr>\n",
       "      <td>2800</td>\n",
       "      <td>0.104600</td>\n",
       "      <td>0.266462</td>\n",
       "      <td>0.954545</td>\n",
       "    </tr>\n",
       "    <tr>\n",
       "      <td>2900</td>\n",
       "      <td>0.095700</td>\n",
       "      <td>0.276811</td>\n",
       "      <td>0.950593</td>\n",
       "    </tr>\n",
       "    <tr>\n",
       "      <td>3000</td>\n",
       "      <td>0.053300</td>\n",
       "      <td>0.268676</td>\n",
       "      <td>0.950593</td>\n",
       "    </tr>\n",
       "    <tr>\n",
       "      <td>3100</td>\n",
       "      <td>0.122800</td>\n",
       "      <td>0.273415</td>\n",
       "      <td>0.954545</td>\n",
       "    </tr>\n",
       "    <tr>\n",
       "      <td>3200</td>\n",
       "      <td>0.022900</td>\n",
       "      <td>0.296137</td>\n",
       "      <td>0.946640</td>\n",
       "    </tr>\n",
       "    <tr>\n",
       "      <td>3300</td>\n",
       "      <td>0.049700</td>\n",
       "      <td>0.298998</td>\n",
       "      <td>0.950593</td>\n",
       "    </tr>\n",
       "    <tr>\n",
       "      <td>3400</td>\n",
       "      <td>0.026000</td>\n",
       "      <td>0.290174</td>\n",
       "      <td>0.948617</td>\n",
       "    </tr>\n",
       "    <tr>\n",
       "      <td>3500</td>\n",
       "      <td>0.059400</td>\n",
       "      <td>0.289607</td>\n",
       "      <td>0.948617</td>\n",
       "    </tr>\n",
       "    <tr>\n",
       "      <td>3600</td>\n",
       "      <td>0.063700</td>\n",
       "      <td>0.286902</td>\n",
       "      <td>0.948617</td>\n",
       "    </tr>\n",
       "    <tr>\n",
       "      <td>3700</td>\n",
       "      <td>0.035500</td>\n",
       "      <td>0.277286</td>\n",
       "      <td>0.952569</td>\n",
       "    </tr>\n",
       "    <tr>\n",
       "      <td>3800</td>\n",
       "      <td>0.029300</td>\n",
       "      <td>0.286115</td>\n",
       "      <td>0.946640</td>\n",
       "    </tr>\n",
       "    <tr>\n",
       "      <td>3900</td>\n",
       "      <td>0.027100</td>\n",
       "      <td>0.286288</td>\n",
       "      <td>0.952569</td>\n",
       "    </tr>\n",
       "    <tr>\n",
       "      <td>4000</td>\n",
       "      <td>0.074300</td>\n",
       "      <td>0.283561</td>\n",
       "      <td>0.952569</td>\n",
       "    </tr>\n",
       "  </tbody>\n",
       "</table><p>"
      ],
      "text/plain": [
       "<IPython.core.display.HTML object>"
      ]
     },
     "metadata": {},
     "output_type": "display_data"
    },
    {
     "name": "stdout",
     "output_type": "stream",
     "text": [
      "***** train metrics *****\n",
      "  epoch                    =         32.0\n",
      "  total_flos               = 4667548109GF\n",
      "  train_loss               =       0.1524\n",
      "  train_runtime            =   0:30:09.92\n",
      "  train_samples_per_second =       35.732\n",
      "  train_steps_per_second   =        2.245\n"
     ]
    }
   ],
   "source": [
    "train_results = trainer.train(resume_from_checkpoint=last_checkpoint)\n",
    "trainer.save_model()\n",
    "trainer.log_metrics(\"train\", train_results.metrics)\n",
    "trainer.save_metrics(\"train\", train_results.metrics)\n",
    "trainer.save_state()"
   ]
  },
  {
   "cell_type": "code",
   "execution_count": 11,
   "id": "fa7da1ad",
   "metadata": {
    "execution": {
     "iopub.execute_input": "2023-11-30T01:06:55.383035Z",
     "iopub.status.busy": "2023-11-30T01:06:55.382425Z",
     "iopub.status.idle": "2023-11-30T01:07:02.788127Z",
     "shell.execute_reply": "2023-11-30T01:07:02.787458Z"
    },
    "papermill": {
     "duration": 7.416105,
     "end_time": "2023-11-30T01:07:02.789812",
     "exception": false,
     "start_time": "2023-11-30T01:06:55.373707",
     "status": "completed"
    },
    "tags": []
   },
   "outputs": [
    {
     "data": {
      "text/html": [
       "\n",
       "    <div>\n",
       "      \n",
       "      <progress value='64' max='64' style='width:300px; height:20px; vertical-align: middle;'></progress>\n",
       "      [64/64 00:07]\n",
       "    </div>\n",
       "    "
      ],
      "text/plain": [
       "<IPython.core.display.HTML object>"
      ]
     },
     "metadata": {},
     "output_type": "display_data"
    },
    {
     "name": "stdout",
     "output_type": "stream",
     "text": [
      "***** eval metrics *****\n",
      "  epoch                   =       32.0\n",
      "  eval_accuracy           =     0.9545\n",
      "  eval_loss               =     0.2083\n",
      "  eval_runtime            = 0:00:07.38\n",
      "  eval_samples_per_second =     68.505\n",
      "  eval_steps_per_second   =      8.665\n"
     ]
    }
   ],
   "source": [
    "metrics = trainer.evaluate(ds['test'])\n",
    "trainer.log_metrics(\"eval\", metrics)\n",
    "trainer.save_metrics(\"eval\", metrics)"
   ]
  }
 ],
 "metadata": {
  "kernelspec": {
   "display_name": "Python 3 (ipykernel)",
   "language": "python",
   "name": "python3"
  },
  "language_info": {
   "codemirror_mode": {
    "name": "ipython",
    "version": 3
   },
   "file_extension": ".py",
   "mimetype": "text/x-python",
   "name": "python",
   "nbconvert_exporter": "python",
   "pygments_lexer": "ipython3",
   "version": "3.10.13"
  },
  "papermill": {
   "default_parameters": {},
   "duration": 1853.290474,
   "end_time": "2023-11-30T01:07:05.377182",
   "environment_variables": {},
   "exception": null,
   "input_path": "vit-train-csce.ipynb",
   "output_path": "vit-train-csce-output.ipynb",
   "parameters": {},
   "start_time": "2023-11-30T00:36:12.086708",
   "version": "2.5.0"
  },
  "widgets": {
   "application/vnd.jupyter.widget-state+json": {
    "state": {
     "04bee2b8246b447194f91a5340663dbf": {
      "model_module": "@jupyter-widgets/controls",
      "model_module_version": "2.0.0",
      "model_name": "HTMLStyleModel",
      "state": {
       "_model_module": "@jupyter-widgets/controls",
       "_model_module_version": "2.0.0",
       "_model_name": "HTMLStyleModel",
       "_view_count": null,
       "_view_module": "@jupyter-widgets/base",
       "_view_module_version": "2.0.0",
       "_view_name": "StyleView",
       "background": null,
       "description_width": "",
       "font_size": null,
       "text_color": null
      }
     },
     "13557267d173470087dda99de1a3ffae": {
      "model_module": "@jupyter-widgets/base",
      "model_module_version": "2.0.0",
      "model_name": "LayoutModel",
      "state": {
       "_model_module": "@jupyter-widgets/base",
       "_model_module_version": "2.0.0",
       "_model_name": "LayoutModel",
       "_view_count": null,
       "_view_module": "@jupyter-widgets/base",
       "_view_module_version": "2.0.0",
       "_view_name": "LayoutView",
       "align_content": null,
       "align_items": null,
       "align_self": null,
       "border_bottom": null,
       "border_left": null,
       "border_right": null,
       "border_top": null,
       "bottom": null,
       "display": null,
       "flex": null,
       "flex_flow": null,
       "grid_area": null,
       "grid_auto_columns": null,
       "grid_auto_flow": null,
       "grid_auto_rows": null,
       "grid_column": null,
       "grid_gap": null,
       "grid_row": null,
       "grid_template_areas": null,
       "grid_template_columns": null,
       "grid_template_rows": null,
       "height": null,
       "justify_content": null,
       "justify_items": null,
       "left": null,
       "margin": null,
       "max_height": null,
       "max_width": null,
       "min_height": null,
       "min_width": null,
       "object_fit": null,
       "object_position": null,
       "order": null,
       "overflow": null,
       "padding": null,
       "right": null,
       "top": null,
       "visibility": null,
       "width": null
      }
     },
     "7802b1bdacf041d88de6a30720a45e57": {
      "model_module": "@jupyter-widgets/controls",
      "model_module_version": "2.0.0",
      "model_name": "HTMLModel",
      "state": {
       "_dom_classes": [],
       "_model_module": "@jupyter-widgets/controls",
       "_model_module_version": "2.0.0",
       "_model_name": "HTMLModel",
       "_view_count": null,
       "_view_module": "@jupyter-widgets/controls",
       "_view_module_version": "2.0.0",
       "_view_name": "HTMLView",
       "description": "",
       "description_allow_html": false,
       "layout": "IPY_MODEL_9895792b986f415a958f7c5336dcf0a4",
       "placeholder": "​",
       "style": "IPY_MODEL_04bee2b8246b447194f91a5340663dbf",
       "tabbable": null,
       "tooltip": null,
       "value": "Resolving data files: 100%"
      }
     },
     "9295f0e4a30447f29b365a326c9ab06a": {
      "model_module": "@jupyter-widgets/controls",
      "model_module_version": "2.0.0",
      "model_name": "HTMLStyleModel",
      "state": {
       "_model_module": "@jupyter-widgets/controls",
       "_model_module_version": "2.0.0",
       "_model_name": "HTMLStyleModel",
       "_view_count": null,
       "_view_module": "@jupyter-widgets/base",
       "_view_module_version": "2.0.0",
       "_view_name": "StyleView",
       "background": null,
       "description_width": "",
       "font_size": null,
       "text_color": null
      }
     },
     "9895792b986f415a958f7c5336dcf0a4": {
      "model_module": "@jupyter-widgets/base",
      "model_module_version": "2.0.0",
      "model_name": "LayoutModel",
      "state": {
       "_model_module": "@jupyter-widgets/base",
       "_model_module_version": "2.0.0",
       "_model_name": "LayoutModel",
       "_view_count": null,
       "_view_module": "@jupyter-widgets/base",
       "_view_module_version": "2.0.0",
       "_view_name": "LayoutView",
       "align_content": null,
       "align_items": null,
       "align_self": null,
       "border_bottom": null,
       "border_left": null,
       "border_right": null,
       "border_top": null,
       "bottom": null,
       "display": null,
       "flex": null,
       "flex_flow": null,
       "grid_area": null,
       "grid_auto_columns": null,
       "grid_auto_flow": null,
       "grid_auto_rows": null,
       "grid_column": null,
       "grid_gap": null,
       "grid_row": null,
       "grid_template_areas": null,
       "grid_template_columns": null,
       "grid_template_rows": null,
       "height": null,
       "justify_content": null,
       "justify_items": null,
       "left": null,
       "margin": null,
       "max_height": null,
       "max_width": null,
       "min_height": null,
       "min_width": null,
       "object_fit": null,
       "object_position": null,
       "order": null,
       "overflow": null,
       "padding": null,
       "right": null,
       "top": null,
       "visibility": null,
       "width": null
      }
     },
     "9da74bd50d1e448f9c148439e48c304f": {
      "model_module": "@jupyter-widgets/controls",
      "model_module_version": "2.0.0",
      "model_name": "HBoxModel",
      "state": {
       "_dom_classes": [],
       "_model_module": "@jupyter-widgets/controls",
       "_model_module_version": "2.0.0",
       "_model_name": "HBoxModel",
       "_view_count": null,
       "_view_module": "@jupyter-widgets/controls",
       "_view_module_version": "2.0.0",
       "_view_name": "HBoxView",
       "box_style": "",
       "children": [
        "IPY_MODEL_7802b1bdacf041d88de6a30720a45e57",
        "IPY_MODEL_fdcee82e4c0d40e588bcf7d749c47fbe",
        "IPY_MODEL_b5518ab303a5431083c698b2cbad17b1"
       ],
       "layout": "IPY_MODEL_b7a70b9d2ce0411d875635a802e87364",
       "tabbable": null,
       "tooltip": null
      }
     },
     "b5518ab303a5431083c698b2cbad17b1": {
      "model_module": "@jupyter-widgets/controls",
      "model_module_version": "2.0.0",
      "model_name": "HTMLModel",
      "state": {
       "_dom_classes": [],
       "_model_module": "@jupyter-widgets/controls",
       "_model_module_version": "2.0.0",
       "_model_name": "HTMLModel",
       "_view_count": null,
       "_view_module": "@jupyter-widgets/controls",
       "_view_module_version": "2.0.0",
       "_view_name": "HTMLView",
       "description": "",
       "description_allow_html": false,
       "layout": "IPY_MODEL_13557267d173470087dda99de1a3ffae",
       "placeholder": "​",
       "style": "IPY_MODEL_9295f0e4a30447f29b365a326c9ab06a",
       "tabbable": null,
       "tooltip": null,
       "value": " 2527/2527 [00:00&lt;00:00,  3.60it/s]"
      }
     },
     "b7a70b9d2ce0411d875635a802e87364": {
      "model_module": "@jupyter-widgets/base",
      "model_module_version": "2.0.0",
      "model_name": "LayoutModel",
      "state": {
       "_model_module": "@jupyter-widgets/base",
       "_model_module_version": "2.0.0",
       "_model_name": "LayoutModel",
       "_view_count": null,
       "_view_module": "@jupyter-widgets/base",
       "_view_module_version": "2.0.0",
       "_view_name": "LayoutView",
       "align_content": null,
       "align_items": null,
       "align_self": null,
       "border_bottom": null,
       "border_left": null,
       "border_right": null,
       "border_top": null,
       "bottom": null,
       "display": null,
       "flex": null,
       "flex_flow": null,
       "grid_area": null,
       "grid_auto_columns": null,
       "grid_auto_flow": null,
       "grid_auto_rows": null,
       "grid_column": null,
       "grid_gap": null,
       "grid_row": null,
       "grid_template_areas": null,
       "grid_template_columns": null,
       "grid_template_rows": null,
       "height": null,
       "justify_content": null,
       "justify_items": null,
       "left": null,
       "margin": null,
       "max_height": null,
       "max_width": null,
       "min_height": null,
       "min_width": null,
       "object_fit": null,
       "object_position": null,
       "order": null,
       "overflow": null,
       "padding": null,
       "right": null,
       "top": null,
       "visibility": null,
       "width": null
      }
     },
     "c0c7e57ebae047d3bf179cdde9431ee4": {
      "model_module": "@jupyter-widgets/controls",
      "model_module_version": "2.0.0",
      "model_name": "ProgressStyleModel",
      "state": {
       "_model_module": "@jupyter-widgets/controls",
       "_model_module_version": "2.0.0",
       "_model_name": "ProgressStyleModel",
       "_view_count": null,
       "_view_module": "@jupyter-widgets/base",
       "_view_module_version": "2.0.0",
       "_view_name": "StyleView",
       "bar_color": null,
       "description_width": ""
      }
     },
     "e106f7b99eee402a915d11bed2cb2d5a": {
      "model_module": "@jupyter-widgets/base",
      "model_module_version": "2.0.0",
      "model_name": "LayoutModel",
      "state": {
       "_model_module": "@jupyter-widgets/base",
       "_model_module_version": "2.0.0",
       "_model_name": "LayoutModel",
       "_view_count": null,
       "_view_module": "@jupyter-widgets/base",
       "_view_module_version": "2.0.0",
       "_view_name": "LayoutView",
       "align_content": null,
       "align_items": null,
       "align_self": null,
       "border_bottom": null,
       "border_left": null,
       "border_right": null,
       "border_top": null,
       "bottom": null,
       "display": null,
       "flex": null,
       "flex_flow": null,
       "grid_area": null,
       "grid_auto_columns": null,
       "grid_auto_flow": null,
       "grid_auto_rows": null,
       "grid_column": null,
       "grid_gap": null,
       "grid_row": null,
       "grid_template_areas": null,
       "grid_template_columns": null,
       "grid_template_rows": null,
       "height": null,
       "justify_content": null,
       "justify_items": null,
       "left": null,
       "margin": null,
       "max_height": null,
       "max_width": null,
       "min_height": null,
       "min_width": null,
       "object_fit": null,
       "object_position": null,
       "order": null,
       "overflow": null,
       "padding": null,
       "right": null,
       "top": null,
       "visibility": null,
       "width": null
      }
     },
     "fdcee82e4c0d40e588bcf7d749c47fbe": {
      "model_module": "@jupyter-widgets/controls",
      "model_module_version": "2.0.0",
      "model_name": "FloatProgressModel",
      "state": {
       "_dom_classes": [],
       "_model_module": "@jupyter-widgets/controls",
       "_model_module_version": "2.0.0",
       "_model_name": "FloatProgressModel",
       "_view_count": null,
       "_view_module": "@jupyter-widgets/controls",
       "_view_module_version": "2.0.0",
       "_view_name": "ProgressView",
       "bar_style": "success",
       "description": "",
       "description_allow_html": false,
       "layout": "IPY_MODEL_e106f7b99eee402a915d11bed2cb2d5a",
       "max": 2527.0,
       "min": 0.0,
       "orientation": "horizontal",
       "style": "IPY_MODEL_c0c7e57ebae047d3bf179cdde9431ee4",
       "tabbable": null,
       "tooltip": null,
       "value": 2527.0
      }
     }
    },
    "version_major": 2,
    "version_minor": 0
   }
  }
 },
 "nbformat": 4,
 "nbformat_minor": 5
}