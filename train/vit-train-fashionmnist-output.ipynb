{
 "cells": [
  {
   "cell_type": "markdown",
   "id": "bf598825",
   "metadata": {
    "papermill": {
     "duration": 0.008379,
     "end_time": "2023-11-30T02:54:12.509216",
     "exception": false,
     "start_time": "2023-11-30T02:54:12.500837",
     "status": "completed"
    },
    "tags": []
   },
   "source": [
    "# ViT Fine-Tuning Demo\n",
    "\n",
    "*Based on: https://huggingface.co/blog/fine-tune-vit*\n",
    "\n",
    "Before running, download the [TrashNet dataset](https://github.com/garythung/trashnet/raw/master/data/dataset-resized.zip) and extract it to the 'dataset' folder."
   ]
  },
  {
   "cell_type": "code",
   "execution_count": 1,
   "id": "339bf9b9",
   "metadata": {
    "execution": {
     "iopub.execute_input": "2023-11-30T02:54:12.523329Z",
     "iopub.status.busy": "2023-11-30T02:54:12.522513Z",
     "iopub.status.idle": "2023-11-30T02:54:32.169090Z",
     "shell.execute_reply": "2023-11-30T02:54:32.166698Z"
    },
    "papermill": {
     "duration": 19.658565,
     "end_time": "2023-11-30T02:54:32.173538",
     "exception": false,
     "start_time": "2023-11-30T02:54:12.514973",
     "status": "completed"
    },
    "tags": []
   },
   "outputs": [
    {
     "name": "stdout",
     "output_type": "stream",
     "text": [
      "Requirement already satisfied: huggingface in /home/schakkera/miniconda3/envs/ml/lib/python3.10/site-packages (0.0.1)\r\n"
     ]
    },
    {
     "name": "stdout",
     "output_type": "stream",
     "text": [
      "Note: you may need to restart the kernel to use updated packages.\n"
     ]
    },
    {
     "name": "stdout",
     "output_type": "stream",
     "text": [
      "Requirement already satisfied: datasets in /home/schakkera/miniconda3/envs/ml/lib/python3.10/site-packages (2.15.0)\r\n"
     ]
    },
    {
     "name": "stdout",
     "output_type": "stream",
     "text": [
      "Requirement already satisfied: numpy>=1.17 in /home/schakkera/miniconda3/envs/ml/lib/python3.10/site-packages (from datasets) (1.26.0)\r\n",
      "Requirement already satisfied: pyarrow>=8.0.0 in /home/schakkera/miniconda3/envs/ml/lib/python3.10/site-packages (from datasets) (14.0.1)\r\n",
      "Requirement already satisfied: pyarrow-hotfix in /home/schakkera/miniconda3/envs/ml/lib/python3.10/site-packages (from datasets) (0.6)\r\n",
      "Requirement already satisfied: dill<0.3.8,>=0.3.0 in /home/schakkera/miniconda3/envs/ml/lib/python3.10/site-packages (from datasets) (0.3.7)\r\n",
      "Requirement already satisfied: pandas in /home/schakkera/miniconda3/envs/ml/lib/python3.10/site-packages (from datasets) (2.1.3)\r\n",
      "Requirement already satisfied: requests>=2.19.0 in /home/schakkera/miniconda3/envs/ml/lib/python3.10/site-packages (from datasets) (2.31.0)\r\n",
      "Requirement already satisfied: tqdm>=4.62.1 in /home/schakkera/miniconda3/envs/ml/lib/python3.10/site-packages (from datasets) (4.66.1)\r\n",
      "Requirement already satisfied: xxhash in /home/schakkera/miniconda3/envs/ml/lib/python3.10/site-packages (from datasets) (3.4.1)\r\n",
      "Requirement already satisfied: multiprocess in /home/schakkera/miniconda3/envs/ml/lib/python3.10/site-packages (from datasets) (0.70.15)\r\n",
      "Requirement already satisfied: fsspec<=2023.10.0,>=2023.1.0 in /home/schakkera/miniconda3/envs/ml/lib/python3.10/site-packages (from fsspec[http]<=2023.10.0,>=2023.1.0->datasets) (2023.10.0)\r\n"
     ]
    },
    {
     "name": "stdout",
     "output_type": "stream",
     "text": [
      "Requirement already satisfied: aiohttp in /home/schakkera/miniconda3/envs/ml/lib/python3.10/site-packages (from datasets) (3.9.1)\r\n",
      "Requirement already satisfied: huggingface-hub>=0.18.0 in /home/schakkera/miniconda3/envs/ml/lib/python3.10/site-packages (from datasets) (0.19.4)\r\n",
      "Requirement already satisfied: packaging in /home/schakkera/miniconda3/envs/ml/lib/python3.10/site-packages (from datasets) (23.2)\r\n",
      "Requirement already satisfied: pyyaml>=5.1 in /home/schakkera/miniconda3/envs/ml/lib/python3.10/site-packages (from datasets) (6.0.1)\r\n"
     ]
    },
    {
     "name": "stdout",
     "output_type": "stream",
     "text": [
      "Requirement already satisfied: attrs>=17.3.0 in /home/schakkera/miniconda3/envs/ml/lib/python3.10/site-packages (from aiohttp->datasets) (23.1.0)\r\n",
      "Requirement already satisfied: multidict<7.0,>=4.5 in /home/schakkera/miniconda3/envs/ml/lib/python3.10/site-packages (from aiohttp->datasets) (6.0.4)\r\n",
      "Requirement already satisfied: yarl<2.0,>=1.0 in /home/schakkera/miniconda3/envs/ml/lib/python3.10/site-packages (from aiohttp->datasets) (1.9.3)\r\n",
      "Requirement already satisfied: frozenlist>=1.1.1 in /home/schakkera/miniconda3/envs/ml/lib/python3.10/site-packages (from aiohttp->datasets) (1.4.0)\r\n",
      "Requirement already satisfied: aiosignal>=1.1.2 in /home/schakkera/miniconda3/envs/ml/lib/python3.10/site-packages (from aiohttp->datasets) (1.3.1)\r\n",
      "Requirement already satisfied: async-timeout<5.0,>=4.0 in /home/schakkera/miniconda3/envs/ml/lib/python3.10/site-packages (from aiohttp->datasets) (4.0.3)\r\n"
     ]
    },
    {
     "name": "stdout",
     "output_type": "stream",
     "text": [
      "Requirement already satisfied: filelock in /home/schakkera/miniconda3/envs/ml/lib/python3.10/site-packages (from huggingface-hub>=0.18.0->datasets) (3.13.1)\r\n",
      "Requirement already satisfied: typing-extensions>=3.7.4.3 in /home/schakkera/miniconda3/envs/ml/lib/python3.10/site-packages (from huggingface-hub>=0.18.0->datasets) (4.7.1)\r\n",
      "Requirement already satisfied: charset-normalizer<4,>=2 in /home/schakkera/miniconda3/envs/ml/lib/python3.10/site-packages (from requests>=2.19.0->datasets) (2.0.4)\r\n",
      "Requirement already satisfied: idna<4,>=2.5 in /home/schakkera/miniconda3/envs/ml/lib/python3.10/site-packages (from requests>=2.19.0->datasets) (3.4)\r\n",
      "Requirement already satisfied: urllib3<3,>=1.21.1 in /home/schakkera/miniconda3/envs/ml/lib/python3.10/site-packages (from requests>=2.19.0->datasets) (1.26.18)\r\n",
      "Requirement already satisfied: certifi>=2017.4.17 in /home/schakkera/miniconda3/envs/ml/lib/python3.10/site-packages (from requests>=2.19.0->datasets) (2023.11.17)\r\n"
     ]
    },
    {
     "name": "stdout",
     "output_type": "stream",
     "text": [
      "Requirement already satisfied: python-dateutil>=2.8.2 in /home/schakkera/miniconda3/envs/ml/lib/python3.10/site-packages (from pandas->datasets) (2.8.2)\r\n",
      "Requirement already satisfied: pytz>=2020.1 in /home/schakkera/miniconda3/envs/ml/lib/python3.10/site-packages (from pandas->datasets) (2023.3.post1)\r\n",
      "Requirement already satisfied: tzdata>=2022.1 in /home/schakkera/miniconda3/envs/ml/lib/python3.10/site-packages (from pandas->datasets) (2023.3)\r\n"
     ]
    },
    {
     "name": "stdout",
     "output_type": "stream",
     "text": [
      "Requirement already satisfied: six>=1.5 in /home/schakkera/miniconda3/envs/ml/lib/python3.10/site-packages (from python-dateutil>=2.8.2->pandas->datasets) (1.16.0)\r\n"
     ]
    },
    {
     "name": "stdout",
     "output_type": "stream",
     "text": [
      "Note: you may need to restart the kernel to use updated packages.\n"
     ]
    },
    {
     "name": "stdout",
     "output_type": "stream",
     "text": [
      "Requirement already satisfied: pillow in /home/schakkera/miniconda3/envs/ml/lib/python3.10/site-packages (10.0.1)\r\n"
     ]
    },
    {
     "name": "stdout",
     "output_type": "stream",
     "text": [
      "Note: you may need to restart the kernel to use updated packages.\n"
     ]
    },
    {
     "name": "stdout",
     "output_type": "stream",
     "text": [
      "Requirement already satisfied: transformers in /home/schakkera/miniconda3/envs/ml/lib/python3.10/site-packages (4.35.2)\r\n"
     ]
    },
    {
     "name": "stdout",
     "output_type": "stream",
     "text": [
      "Requirement already satisfied: filelock in /home/schakkera/miniconda3/envs/ml/lib/python3.10/site-packages (from transformers) (3.13.1)\r\n",
      "Requirement already satisfied: huggingface-hub<1.0,>=0.16.4 in /home/schakkera/miniconda3/envs/ml/lib/python3.10/site-packages (from transformers) (0.19.4)\r\n",
      "Requirement already satisfied: numpy>=1.17 in /home/schakkera/miniconda3/envs/ml/lib/python3.10/site-packages (from transformers) (1.26.0)\r\n",
      "Requirement already satisfied: packaging>=20.0 in /home/schakkera/miniconda3/envs/ml/lib/python3.10/site-packages (from transformers) (23.2)\r\n",
      "Requirement already satisfied: pyyaml>=5.1 in /home/schakkera/miniconda3/envs/ml/lib/python3.10/site-packages (from transformers) (6.0.1)\r\n",
      "Requirement already satisfied: regex!=2019.12.17 in /home/schakkera/miniconda3/envs/ml/lib/python3.10/site-packages (from transformers) (2023.10.3)\r\n",
      "Requirement already satisfied: requests in /home/schakkera/miniconda3/envs/ml/lib/python3.10/site-packages (from transformers) (2.31.0)\r\n",
      "Requirement already satisfied: tokenizers<0.19,>=0.14 in /home/schakkera/miniconda3/envs/ml/lib/python3.10/site-packages (from transformers) (0.15.0)\r\n",
      "Requirement already satisfied: safetensors>=0.3.1 in /home/schakkera/miniconda3/envs/ml/lib/python3.10/site-packages (from transformers) (0.4.1)\r\n",
      "Requirement already satisfied: tqdm>=4.27 in /home/schakkera/miniconda3/envs/ml/lib/python3.10/site-packages (from transformers) (4.66.1)\r\n"
     ]
    },
    {
     "name": "stdout",
     "output_type": "stream",
     "text": [
      "Requirement already satisfied: fsspec>=2023.5.0 in /home/schakkera/miniconda3/envs/ml/lib/python3.10/site-packages (from huggingface-hub<1.0,>=0.16.4->transformers) (2023.10.0)\r\n",
      "Requirement already satisfied: typing-extensions>=3.7.4.3 in /home/schakkera/miniconda3/envs/ml/lib/python3.10/site-packages (from huggingface-hub<1.0,>=0.16.4->transformers) (4.7.1)\r\n"
     ]
    },
    {
     "name": "stdout",
     "output_type": "stream",
     "text": [
      "Requirement already satisfied: charset-normalizer<4,>=2 in /home/schakkera/miniconda3/envs/ml/lib/python3.10/site-packages (from requests->transformers) (2.0.4)\r\n",
      "Requirement already satisfied: idna<4,>=2.5 in /home/schakkera/miniconda3/envs/ml/lib/python3.10/site-packages (from requests->transformers) (3.4)\r\n",
      "Requirement already satisfied: urllib3<3,>=1.21.1 in /home/schakkera/miniconda3/envs/ml/lib/python3.10/site-packages (from requests->transformers) (1.26.18)\r\n",
      "Requirement already satisfied: certifi>=2017.4.17 in /home/schakkera/miniconda3/envs/ml/lib/python3.10/site-packages (from requests->transformers) (2023.11.17)\r\n"
     ]
    },
    {
     "name": "stdout",
     "output_type": "stream",
     "text": [
      "Note: you may need to restart the kernel to use updated packages.\n"
     ]
    },
    {
     "name": "stdout",
     "output_type": "stream",
     "text": [
      "Requirement already satisfied: scikit-learn in /home/schakkera/miniconda3/envs/ml/lib/python3.10/site-packages (1.3.2)\r\n"
     ]
    },
    {
     "name": "stdout",
     "output_type": "stream",
     "text": [
      "Requirement already satisfied: numpy<2.0,>=1.17.3 in /home/schakkera/miniconda3/envs/ml/lib/python3.10/site-packages (from scikit-learn) (1.26.0)\r\n",
      "Requirement already satisfied: scipy>=1.5.0 in /home/schakkera/miniconda3/envs/ml/lib/python3.10/site-packages (from scikit-learn) (1.11.4)\r\n",
      "Requirement already satisfied: joblib>=1.1.1 in /home/schakkera/miniconda3/envs/ml/lib/python3.10/site-packages (from scikit-learn) (1.3.2)\r\n",
      "Requirement already satisfied: threadpoolctl>=2.0.0 in /home/schakkera/miniconda3/envs/ml/lib/python3.10/site-packages (from scikit-learn) (3.2.0)\r\n"
     ]
    },
    {
     "name": "stdout",
     "output_type": "stream",
     "text": [
      "Note: you may need to restart the kernel to use updated packages.\n"
     ]
    },
    {
     "name": "stdout",
     "output_type": "stream",
     "text": [
      "Requirement already satisfied: transformers[torch] in /home/schakkera/miniconda3/envs/ml/lib/python3.10/site-packages (4.35.2)\r\n"
     ]
    },
    {
     "name": "stdout",
     "output_type": "stream",
     "text": [
      "Requirement already satisfied: filelock in /home/schakkera/miniconda3/envs/ml/lib/python3.10/site-packages (from transformers[torch]) (3.13.1)\r\n",
      "Requirement already satisfied: huggingface-hub<1.0,>=0.16.4 in /home/schakkera/miniconda3/envs/ml/lib/python3.10/site-packages (from transformers[torch]) (0.19.4)\r\n",
      "Requirement already satisfied: numpy>=1.17 in /home/schakkera/miniconda3/envs/ml/lib/python3.10/site-packages (from transformers[torch]) (1.26.0)\r\n",
      "Requirement already satisfied: packaging>=20.0 in /home/schakkera/miniconda3/envs/ml/lib/python3.10/site-packages (from transformers[torch]) (23.2)\r\n",
      "Requirement already satisfied: pyyaml>=5.1 in /home/schakkera/miniconda3/envs/ml/lib/python3.10/site-packages (from transformers[torch]) (6.0.1)\r\n",
      "Requirement already satisfied: regex!=2019.12.17 in /home/schakkera/miniconda3/envs/ml/lib/python3.10/site-packages (from transformers[torch]) (2023.10.3)\r\n",
      "Requirement already satisfied: requests in /home/schakkera/miniconda3/envs/ml/lib/python3.10/site-packages (from transformers[torch]) (2.31.0)\r\n",
      "Requirement already satisfied: tokenizers<0.19,>=0.14 in /home/schakkera/miniconda3/envs/ml/lib/python3.10/site-packages (from transformers[torch]) (0.15.0)\r\n",
      "Requirement already satisfied: safetensors>=0.3.1 in /home/schakkera/miniconda3/envs/ml/lib/python3.10/site-packages (from transformers[torch]) (0.4.1)\r\n",
      "Requirement already satisfied: tqdm>=4.27 in /home/schakkera/miniconda3/envs/ml/lib/python3.10/site-packages (from transformers[torch]) (4.66.1)\r\n",
      "Requirement already satisfied: torch!=1.12.0,>=1.10 in /home/schakkera/miniconda3/envs/ml/lib/python3.10/site-packages (from transformers[torch]) (2.1.1)\r\n",
      "Requirement already satisfied: accelerate>=0.20.3 in /home/schakkera/miniconda3/envs/ml/lib/python3.10/site-packages (from transformers[torch]) (0.24.1)\r\n"
     ]
    },
    {
     "name": "stdout",
     "output_type": "stream",
     "text": [
      "Requirement already satisfied: psutil in /home/schakkera/miniconda3/envs/ml/lib/python3.10/site-packages (from accelerate>=0.20.3->transformers[torch]) (5.9.6)\r\n"
     ]
    },
    {
     "name": "stdout",
     "output_type": "stream",
     "text": [
      "Requirement already satisfied: fsspec>=2023.5.0 in /home/schakkera/miniconda3/envs/ml/lib/python3.10/site-packages (from huggingface-hub<1.0,>=0.16.4->transformers[torch]) (2023.10.0)\r\n",
      "Requirement already satisfied: typing-extensions>=3.7.4.3 in /home/schakkera/miniconda3/envs/ml/lib/python3.10/site-packages (from huggingface-hub<1.0,>=0.16.4->transformers[torch]) (4.7.1)\r\n"
     ]
    },
    {
     "name": "stdout",
     "output_type": "stream",
     "text": [
      "Requirement already satisfied: sympy in /home/schakkera/miniconda3/envs/ml/lib/python3.10/site-packages (from torch!=1.12.0,>=1.10->transformers[torch]) (1.11.1)\r\n",
      "Requirement already satisfied: networkx in /home/schakkera/miniconda3/envs/ml/lib/python3.10/site-packages (from torch!=1.12.0,>=1.10->transformers[torch]) (3.1)\r\n",
      "Requirement already satisfied: jinja2 in /home/schakkera/miniconda3/envs/ml/lib/python3.10/site-packages (from torch!=1.12.0,>=1.10->transformers[torch]) (3.1.2)\r\n"
     ]
    },
    {
     "name": "stdout",
     "output_type": "stream",
     "text": [
      "Requirement already satisfied: charset-normalizer<4,>=2 in /home/schakkera/miniconda3/envs/ml/lib/python3.10/site-packages (from requests->transformers[torch]) (2.0.4)\r\n",
      "Requirement already satisfied: idna<4,>=2.5 in /home/schakkera/miniconda3/envs/ml/lib/python3.10/site-packages (from requests->transformers[torch]) (3.4)\r\n",
      "Requirement already satisfied: urllib3<3,>=1.21.1 in /home/schakkera/miniconda3/envs/ml/lib/python3.10/site-packages (from requests->transformers[torch]) (1.26.18)\r\n",
      "Requirement already satisfied: certifi>=2017.4.17 in /home/schakkera/miniconda3/envs/ml/lib/python3.10/site-packages (from requests->transformers[torch]) (2023.11.17)\r\n"
     ]
    },
    {
     "name": "stdout",
     "output_type": "stream",
     "text": [
      "Requirement already satisfied: MarkupSafe>=2.0 in /home/schakkera/miniconda3/envs/ml/lib/python3.10/site-packages (from jinja2->torch!=1.12.0,>=1.10->transformers[torch]) (2.1.1)\r\n"
     ]
    },
    {
     "name": "stdout",
     "output_type": "stream",
     "text": [
      "Requirement already satisfied: mpmath>=0.19 in /home/schakkera/miniconda3/envs/ml/lib/python3.10/site-packages (from sympy->torch!=1.12.0,>=1.10->transformers[torch]) (1.3.0)\r\n"
     ]
    },
    {
     "name": "stdout",
     "output_type": "stream",
     "text": [
      "Note: you may need to restart the kernel to use updated packages.\n"
     ]
    },
    {
     "name": "stdout",
     "output_type": "stream",
     "text": [
      "Requirement already satisfied: tensorboardX in /home/schakkera/miniconda3/envs/ml/lib/python3.10/site-packages (2.6.2.2)\r\n",
      "Requirement already satisfied: numpy in /home/schakkera/miniconda3/envs/ml/lib/python3.10/site-packages (from tensorboardX) (1.26.0)\r\n",
      "Requirement already satisfied: packaging in /home/schakkera/miniconda3/envs/ml/lib/python3.10/site-packages (from tensorboardX) (23.2)\r\n",
      "Requirement already satisfied: protobuf>=3.20 in /home/schakkera/miniconda3/envs/ml/lib/python3.10/site-packages (from tensorboardX) (4.25.1)\r\n"
     ]
    },
    {
     "name": "stdout",
     "output_type": "stream",
     "text": [
      "Note: you may need to restart the kernel to use updated packages.\n"
     ]
    }
   ],
   "source": [
    "%pip install huggingface\n",
    "%pip install datasets\n",
    "%pip install pillow\n",
    "%pip install transformers\n",
    "%pip install scikit-learn\n",
    "%pip install transformers[torch]\n",
    "%pip install tensorboardX\n",
    "# PyTorch + CUDA should be installed manually"
   ]
  },
  {
   "cell_type": "markdown",
   "id": "85303ffa",
   "metadata": {
    "papermill": {
     "duration": 0.008637,
     "end_time": "2023-11-30T02:54:32.193773",
     "exception": false,
     "start_time": "2023-11-30T02:54:32.185136",
     "status": "completed"
    },
    "tags": []
   },
   "source": [
    "## Dataset Processing"
   ]
  },
  {
   "cell_type": "code",
   "execution_count": 2,
   "id": "16df80c8",
   "metadata": {
    "execution": {
     "iopub.execute_input": "2023-11-30T02:54:32.211836Z",
     "iopub.status.busy": "2023-11-30T02:54:32.210982Z",
     "iopub.status.idle": "2023-11-30T02:55:27.905727Z",
     "shell.execute_reply": "2023-11-30T02:55:27.904985Z"
    },
    "papermill": {
     "duration": 55.708136,
     "end_time": "2023-11-30T02:55:27.909280",
     "exception": false,
     "start_time": "2023-11-30T02:54:32.201144",
     "status": "completed"
    },
    "tags": []
   },
   "outputs": [
    {
     "data": {
      "application/vnd.jupyter.widget-view+json": {
       "model_id": "02752b88291a48a18593e6f947dbdaae",
       "version_major": 2,
       "version_minor": 0
      },
      "text/plain": [
       "Resolving data files:   0%|          | 0/40800 [00:00<?, ?it/s]"
      ]
     },
     "metadata": {},
     "output_type": "display_data"
    },
    {
     "data": {
      "application/vnd.jupyter.widget-view+json": {
       "model_id": "bb632793ea5043dbacafb7d4e295a5f6",
       "version_major": 2,
       "version_minor": 0
      },
      "text/plain": [
       "Resolving data files:   0%|          | 0/10000 [00:00<?, ?it/s]"
      ]
     },
     "metadata": {},
     "output_type": "display_data"
    }
   ],
   "source": [
    "from datasets import load_dataset\n",
    "ds = load_dataset(\"imagefolder\", data_dir=\"/home/schakkera/CSE512/cse512-project/data\")\n",
    "# ds = load_dataset(\"imagefolder\", data_dir=\"/home/starc/SBU/Sem-3/ML/Project/cse512-project/data\")"
   ]
  },
  {
   "cell_type": "code",
   "execution_count": 3,
   "id": "ba9159ff",
   "metadata": {
    "execution": {
     "iopub.execute_input": "2023-11-30T02:55:27.931924Z",
     "iopub.status.busy": "2023-11-30T02:55:27.931448Z",
     "iopub.status.idle": "2023-11-30T02:55:31.829750Z",
     "shell.execute_reply": "2023-11-30T02:55:31.828662Z"
    },
    "papermill": {
     "duration": 3.911455,
     "end_time": "2023-11-30T02:55:31.834212",
     "exception": false,
     "start_time": "2023-11-30T02:55:27.922757",
     "status": "completed"
    },
    "tags": []
   },
   "outputs": [],
   "source": [
    "from transformers import ViTImageProcessor, ViTConfig\n",
    "from torchvision.transforms import Compose, RandomResizedCrop, RandomHorizontalFlip, ToTensor, Normalize, Resize, CenterCrop, ConvertImageDtype, InterpolationMode, ColorJitter\n",
    "import torch\n",
    "\n",
    "model_name_or_path = 'google/vit-base-patch16-224'\n",
    "config = ViTConfig.from_pretrained(model_name_or_path)\n",
    "processor = ViTImageProcessor.from_pretrained(model_name_or_path)\n",
    "\n",
    "_train_transform = Compose([\n",
    "    RandomResizedCrop(config.image_size, interpolation=InterpolationMode.BICUBIC, antialias=None),\n",
    "    RandomHorizontalFlip(),\n",
    "    ColorJitter(brightness=0.4, contrast=0.4, saturation=0.4, hue=0.1),\n",
    "    ToTensor(),\n",
    "    ConvertImageDtype(torch.float),\n",
    "    Normalize(\n",
    "        mean=processor.image_mean,\n",
    "        std=processor.image_std\n",
    "    )\n",
    "])\n",
    "\n",
    "_val_transform = Compose([\n",
    "    Resize(config.image_size, interpolation=InterpolationMode.BICUBIC, antialias=None),\n",
    "    CenterCrop(config.image_size),\n",
    "    ToTensor(),\n",
    "    ConvertImageDtype(torch.float),\n",
    "    Normalize(\n",
    "        mean=processor.image_mean,\n",
    "        std=processor.image_std\n",
    "    )\n",
    "])\n",
    "\n",
    "def train_transform(example_batch):\n",
    "    example_batch['pixel_values'] = [\n",
    "        _train_transform(img.convert('RGB')) for img in example_batch['image']\n",
    "    ]\n",
    "    return example_batch\n",
    "\n",
    "def val_transform(example_batch):\n",
    "    example_batch['pixel_values'] = [\n",
    "        _val_transform(img.convert('RGB')) for img in example_batch['image']\n",
    "    ]\n",
    "    return example_batch\n",
    "\n",
    "ds['train'].set_transform(train_transform)\n",
    "ds['test'].set_transform(val_transform)"
   ]
  },
  {
   "cell_type": "markdown",
   "id": "b6bc6982",
   "metadata": {
    "papermill": {
     "duration": 0.007911,
     "end_time": "2023-11-30T02:55:31.856095",
     "exception": false,
     "start_time": "2023-11-30T02:55:31.848184",
     "status": "completed"
    },
    "tags": []
   },
   "source": [
    "## Training"
   ]
  },
  {
   "cell_type": "code",
   "execution_count": 4,
   "id": "a115c51f",
   "metadata": {
    "execution": {
     "iopub.execute_input": "2023-11-30T02:55:31.874047Z",
     "iopub.status.busy": "2023-11-30T02:55:31.873041Z",
     "iopub.status.idle": "2023-11-30T02:55:31.882828Z",
     "shell.execute_reply": "2023-11-30T02:55:31.881152Z"
    },
    "papermill": {
     "duration": 0.021318,
     "end_time": "2023-11-30T02:55:31.885013",
     "exception": false,
     "start_time": "2023-11-30T02:55:31.863695",
     "status": "completed"
    },
    "tags": []
   },
   "outputs": [],
   "source": [
    "import torch\n",
    "\n",
    "def collate_fn(batch):\n",
    "    return {\n",
    "        'pixel_values': torch.stack([x['pixel_values'] for x in batch]),\n",
    "        'labels': torch.tensor([x['label'] for x in batch])\n",
    "    }"
   ]
  },
  {
   "cell_type": "code",
   "execution_count": 5,
   "id": "77fc9f35",
   "metadata": {
    "execution": {
     "iopub.execute_input": "2023-11-30T02:55:31.902923Z",
     "iopub.status.busy": "2023-11-30T02:55:31.902407Z",
     "iopub.status.idle": "2023-11-30T02:55:32.941766Z",
     "shell.execute_reply": "2023-11-30T02:55:32.940617Z"
    },
    "papermill": {
     "duration": 1.053483,
     "end_time": "2023-11-30T02:55:32.946501",
     "exception": false,
     "start_time": "2023-11-30T02:55:31.893018",
     "status": "completed"
    },
    "tags": []
   },
   "outputs": [
    {
     "name": "stderr",
     "output_type": "stream",
     "text": [
      "/tmp/ipykernel_13598/596433834.py:4: FutureWarning: load_metric is deprecated and will be removed in the next major version of datasets. Use 'evaluate.load' instead, from the new library 🤗 Evaluate: https://huggingface.co/docs/evaluate\n",
      "  metric = load_metric(\"accuracy\")\n"
     ]
    }
   ],
   "source": [
    "import numpy as np\n",
    "from datasets import load_metric\n",
    "\n",
    "metric = load_metric(\"accuracy\")\n",
    "def compute_metrics(p):\n",
    "    return metric.compute(predictions=np.argmax(p.predictions, axis=1), references=p.label_ids)\n",
    "\n",
    "def ova_compute_metrics(p):\n",
    "    return metric.compute(predictions=np.argmin(p.predictions, axis=1), references=p.label_ids)"
   ]
  },
  {
   "cell_type": "code",
   "execution_count": 6,
   "id": "a523b9cc",
   "metadata": {
    "execution": {
     "iopub.execute_input": "2023-11-30T02:55:32.971476Z",
     "iopub.status.busy": "2023-11-30T02:55:32.970477Z",
     "iopub.status.idle": "2023-11-30T02:55:34.192633Z",
     "shell.execute_reply": "2023-11-30T02:55:34.191835Z"
    },
    "papermill": {
     "duration": 1.23417,
     "end_time": "2023-11-30T02:55:34.194891",
     "exception": false,
     "start_time": "2023-11-30T02:55:32.960721",
     "status": "completed"
    },
    "tags": []
   },
   "outputs": [
    {
     "name": "stderr",
     "output_type": "stream",
     "text": [
      "Some weights of ViTForImageClassification were not initialized from the model checkpoint at google/vit-base-patch16-224 and are newly initialized because the shapes did not match:\n",
      "- classifier.bias: found shape torch.Size([1000]) in the checkpoint and torch.Size([10]) in the model instantiated\n",
      "- classifier.weight: found shape torch.Size([1000, 768]) in the checkpoint and torch.Size([10, 768]) in the model instantiated\n",
      "You should probably TRAIN this model on a down-stream task to be able to use it for predictions and inference.\n"
     ]
    }
   ],
   "source": [
    "from transformers import ViTForImageClassification\n",
    "\n",
    "labels = ds['train'].features['label'].names\n",
    "\n",
    "model = ViTForImageClassification.from_pretrained(\n",
    "    model_name_or_path,\n",
    "    ignore_mismatched_sizes=True,\n",
    "    num_labels=len(labels),\n",
    "    id2label={str(i): c for i, c in enumerate(labels)},\n",
    "    label2id={c: str(i) for i, c in enumerate(labels)}\n",
    ")"
   ]
  },
  {
   "cell_type": "code",
   "execution_count": 7,
   "id": "ac9ae8b4",
   "metadata": {
    "execution": {
     "iopub.execute_input": "2023-11-30T02:55:34.218764Z",
     "iopub.status.busy": "2023-11-30T02:55:34.217917Z",
     "iopub.status.idle": "2023-11-30T02:55:34.327892Z",
     "shell.execute_reply": "2023-11-30T02:55:34.327066Z"
    },
    "papermill": {
     "duration": 0.12306,
     "end_time": "2023-11-30T02:55:34.330276",
     "exception": false,
     "start_time": "2023-11-30T02:55:34.207216",
     "status": "completed"
    },
    "tags": []
   },
   "outputs": [],
   "source": [
    "from transformers import TrainingArguments\n",
    "from transformers.trainer_utils import get_last_checkpoint\n",
    "import os\n",
    "\n",
    "if os.path.exists('./vit-base-fmnist'):\n",
    "    last_checkpoint = get_last_checkpoint(\"./vit-base-fmnist\")\n",
    "else:\n",
    "    last_checkpoint = None\n",
    "\n",
    "training_args = TrainingArguments(\n",
    "  output_dir=\"./vit-base-fmnist\",\n",
    "  per_device_train_batch_size=256,\n",
    "  evaluation_strategy=\"steps\",\n",
    "  num_train_epochs=32,\n",
    "  fp16=True,\n",
    "  save_steps=100,\n",
    "  eval_steps=100,\n",
    "  logging_steps=20,\n",
    "  learning_rate=3e-5, #3e-5\n",
    "  save_total_limit=1,\n",
    "  remove_unused_columns=False,\n",
    "  push_to_hub=False,\n",
    "  report_to='tensorboard',\n",
    "  load_best_model_at_end=True,\n",
    "  resume_from_checkpoint=last_checkpoint\n",
    ")\n",
    "\n",
    "# if os.path.exists('./vit-base-fmnist-ovareg'):\n",
    "#     last_checkpoint = get_last_checkpoint(\"./vit-base-fmnist-ovareg\")\n",
    "# else:\n",
    "#     last_checkpoint = None\n",
    "\n",
    "# training_args = TrainingArguments(\n",
    "#   output_dir=\"./vit-base-fmnist-ovareg\",\n",
    "#   per_device_train_batch_size=256,\n",
    "#   evaluation_strategy=\"steps\",\n",
    "#   num_train_epochs=32,\n",
    "#   fp16=True,\n",
    "#   save_steps=100,\n",
    "#   eval_steps=100,\n",
    "#   logging_steps=20,\n",
    "#   learning_rate=3e-5, #3e-5\n",
    "#   save_total_limit=1,\n",
    "#   remove_unused_columns=False,\n",
    "#   push_to_hub=False,\n",
    "#   report_to='tensorboard',\n",
    "#   load_best_model_at_end=True,\n",
    "#   resume_from_checkpoint=last_checkpoint\n",
    "# )\n",
    "\n",
    "# if os.path.exists('./vit-base-fmnist-csce'):\n",
    "#     last_checkpoint = get_last_checkpoint(\"./vit-base-fmnist-csce\")\n",
    "# else:\n",
    "#     last_checkpoint = None\n",
    "\n",
    "# training_args = TrainingArguments(\n",
    "#   output_dir=\"./vit-base-fmnist-csce\",\n",
    "#   per_device_train_batch_size=256,\n",
    "#   evaluation_strategy=\"steps\",\n",
    "#   num_train_epochs=32,\n",
    "#   fp16=True,\n",
    "#   save_steps=100,\n",
    "#   eval_steps=100,\n",
    "#   logging_steps=20,\n",
    "#   learning_rate=3e-5, #3e-5\n",
    "#   save_total_limit=1,\n",
    "#   remove_unused_columns=False,\n",
    "#   push_to_hub=False,\n",
    "#   report_to='tensorboard',\n",
    "#   load_best_model_at_end=True,\n",
    "#   resume_from_checkpoint=last_checkpoint\n",
    "# )"
   ]
  },
  {
   "cell_type": "code",
   "execution_count": 8,
   "id": "6760e99e",
   "metadata": {
    "execution": {
     "iopub.execute_input": "2023-11-30T02:55:34.350993Z",
     "iopub.status.busy": "2023-11-30T02:55:34.350403Z",
     "iopub.status.idle": "2023-11-30T02:55:34.401779Z",
     "shell.execute_reply": "2023-11-30T02:55:34.401163Z"
    },
    "papermill": {
     "duration": 0.063896,
     "end_time": "2023-11-30T02:55:34.403624",
     "exception": false,
     "start_time": "2023-11-30T02:55:34.339728",
     "status": "completed"
    },
    "tags": []
   },
   "outputs": [],
   "source": [
    "from transformers import Trainer\n",
    "import torch.nn as nn\n",
    "import torch.nn.functional as F\n",
    "device = torch.device(\"cuda\" if torch.cuda.is_available() else \"cpu\")\n",
    "class WeightedCrossEntropyTrainer(Trainer):\n",
    "    def __init__(self, *args, **kwargs):\n",
    "        super().__init__(*args, **kwargs)\n",
    "        self.cost_matrix = torch.tensor([[1., 1., 1., 1., 0.3, 1., 1., 1., 1., 0.3], \n",
    "                                        [0.33, 1., 0.93, 1., 0.1, 1., 1., 1., 1., 0.1], \n",
    "                                        [0.36, 1., 1., 1., 0.1, 1., 1., 1., 1., 0.1], \n",
    "                                        [0.33, 1., 0.93, 1., 0.1, 1., 1., 1., 1., 0.1], \n",
    "                                        [1., 1., 1., 1., 1., 1., 1., 1., 1., 1.], \n",
    "                                        [0.33, 1., 0.93, 1., 0.1, 1., 1., 1., 1., 0.1], \n",
    "                                        [0.33, 1., 0.93, 1., 0.1, 1., 1., 1., 1., 0.1], \n",
    "                                        [0.33, 1., 0.93, 1., 0.1, 1., 1., 1., 1., 0.1], \n",
    "                                        [0.33, 1., 0.93, 1., 0.1, 1., 1., 1., 1., 0.1], \n",
    "                                        [1., 1., 1., 1., 1., 1., 1., 1., 1., 1.]]).to(device)\n",
    "    def compute_loss(self, model, inputs, return_outputs=False):\n",
    "        labels = inputs.pop(\"labels\")\n",
    "        # print(labels.size(), labels)\n",
    "        # forward pass\n",
    "        outputs = model(**inputs)\n",
    "        logits = outputs.get(\"logits\")\n",
    "        exp_logits = torch.exp(logits)\n",
    "        batch_spec_weights = self.cost_matrix[labels, :]\n",
    "        weighted_exp = exp_logits * batch_spec_weights\n",
    "        weighted_softmax = weighted_exp/torch.sum(weighted_exp, axis=1).reshape(weighted_exp.size(0), -1)\n",
    "        log_weighted = torch.log(weighted_softmax)\n",
    "        onehot = F.one_hot(labels, self.cost_matrix.size(0))\n",
    "        ind_cross_entropy = -log_weighted*onehot\n",
    "        \n",
    "        # compute custom loss (suppose one has 3 labels with different weights)\n",
    "        loss = torch.mean(torch.sum(ind_cross_entropy, axis=1))\n",
    "        return (loss, outputs) if return_outputs else loss\n",
    "\n",
    "class OVARegressionTrainer(Trainer):\n",
    "    def __init__(self, *args, **kwargs):\n",
    "        super().__init__(*args, **kwargs)\n",
    "        self.cost_matrix = 10*torch.tensor([[0., 3., 2.8, 3., 0.3, 3., 3., 3., 3., 0.3], \n",
    "                                        [0.33, 0., 0.93, 1., 0.1, 1., 1., 1., 1., 0.1], \n",
    "                                        [0.36, 1.07, 0., 1.07, 0.1, 1.07, 1.07, 1.07, 1.07, 0.1], \n",
    "                                        [0.33, 1., 0.93, 0., 0.1, 1., 1., 1., 1., 0.1], \n",
    "                                        [1.33, 4., 3, 4., 0., 4., 4., 4., 4., 1.], \n",
    "                                        [0.33, 1., 0.93, 1., 0.1, 0., 1., 1., 1., 0.1], \n",
    "                                        [0.33, 1., 0.93, 1., 0.1, 1., 0., 1., 1., 0.1], \n",
    "                                        [0.33, 1., 0.93, 1., 0.1, 1., 1., 0., 1., 0.1], \n",
    "                                        [0.33, 1., 0.93, 1., 0.1, 1., 1., 1., 0., 0.1], \n",
    "                                        [1.33, 4., 3, 4., 1., 4., 4., 4., 4., 0.]]).to(device)\n",
    "    \n",
    "    \n",
    "    def compute_loss(self, model, inputs, return_outputs=False):\n",
    "        labels = inputs.pop(\"labels\")\n",
    "        # print(labels.size(), labels)\n",
    "        # forward pass\n",
    "        outputs = model(**inputs)\n",
    "        logits = outputs.get(\"logits\")\n",
    "        onehot = F.one_hot(labels, self.cost_matrix.size(0))\n",
    "        zval = (onehot*2)-1\n",
    "        batch_spec_weights = self.cost_matrix[labels, :]\n",
    "        regress = logits-batch_spec_weights\n",
    "        # print(np.argmin(regress.detach().numpy(), axis=1), labels)\n",
    "        zprod = zval*regress\n",
    "        \n",
    "        # compute custom loss (suppose one has 3 labels with different weights)\n",
    "        loss=torch.mean(torch.sum(torch.log(torch.exp(zprod)+1), axis=1))\n",
    "        # print(loss)\n",
    "        return (loss, outputs) if return_outputs else loss"
   ]
  },
  {
   "cell_type": "code",
   "execution_count": 9,
   "id": "f74b4262",
   "metadata": {
    "execution": {
     "iopub.execute_input": "2023-11-30T02:55:34.421662Z",
     "iopub.status.busy": "2023-11-30T02:55:34.421171Z",
     "iopub.status.idle": "2023-11-30T02:55:36.473007Z",
     "shell.execute_reply": "2023-11-30T02:55:36.471834Z"
    },
    "papermill": {
     "duration": 2.062737,
     "end_time": "2023-11-30T02:55:36.475822",
     "exception": false,
     "start_time": "2023-11-30T02:55:34.413085",
     "status": "completed"
    },
    "tags": []
   },
   "outputs": [
    {
     "name": "stderr",
     "output_type": "stream",
     "text": [
      "Detected kernel version 4.18.0, which is below the recommended minimum of 5.5.0; this can cause the process to hang. It is recommended to upgrade the kernel to the minimum version or higher.\n"
     ]
    }
   ],
   "source": [
    "from transformers import Trainer\n",
    "\n",
    "trainer = Trainer(\n",
    "    model=model,\n",
    "    args=training_args,\n",
    "    data_collator=collate_fn,\n",
    "    compute_metrics=compute_metrics,\n",
    "    train_dataset=ds[\"train\"],\n",
    "    eval_dataset=ds[\"test\"],\n",
    "    tokenizer=processor,\n",
    ")\n",
    "# trainer = OVARegressionTrainer(\n",
    "#     model=model,\n",
    "#     args=training_args,\n",
    "#     data_collator=collate_fn,\n",
    "#     compute_metrics=ova_compute_metrics,\n",
    "#     train_dataset=ds[\"train\"],\n",
    "#     eval_dataset=ds[\"test\"],\n",
    "#     tokenizer=processor,\n",
    "# )\n",
    "# trainer = WeightedCrossEntropyTrainer(\n",
    "#     model=model,\n",
    "#     args=training_args,\n",
    "#     data_collator=collate_fn,\n",
    "#     compute_metrics=compute_metrics,\n",
    "#     train_dataset=ds[\"train\"],\n",
    "#     eval_dataset=ds[\"test\"],\n",
    "#     tokenizer=processor,\n",
    "# )"
   ]
  },
  {
   "cell_type": "code",
   "execution_count": 10,
   "id": "10068aca",
   "metadata": {
    "execution": {
     "iopub.execute_input": "2023-11-30T02:55:36.493470Z",
     "iopub.status.busy": "2023-11-30T02:55:36.492611Z",
     "iopub.status.idle": "2023-11-30T07:08:15.153007Z",
     "shell.execute_reply": "2023-11-30T07:08:15.151790Z"
    },
    "papermill": {
     "duration": 15158.673077,
     "end_time": "2023-11-30T07:08:15.156990",
     "exception": false,
     "start_time": "2023-11-30T02:55:36.483913",
     "status": "completed"
    },
    "tags": []
   },
   "outputs": [
    {
     "data": {
      "text/html": [
       "\n",
       "    <div>\n",
       "      \n",
       "      <progress value='5120' max='5120' style='width:300px; height:20px; vertical-align: middle;'></progress>\n",
       "      [5120/5120 4:12:32, Epoch 32/32]\n",
       "    </div>\n",
       "    <table border=\"1\" class=\"dataframe\">\n",
       "  <thead>\n",
       " <tr style=\"text-align: left;\">\n",
       "      <th>Step</th>\n",
       "      <th>Training Loss</th>\n",
       "      <th>Validation Loss</th>\n",
       "      <th>Accuracy</th>\n",
       "    </tr>\n",
       "  </thead>\n",
       "  <tbody>\n",
       "    <tr>\n",
       "      <td>100</td>\n",
       "      <td>0.492400</td>\n",
       "      <td>0.478276</td>\n",
       "      <td>0.821000</td>\n",
       "    </tr>\n",
       "    <tr>\n",
       "      <td>200</td>\n",
       "      <td>0.398300</td>\n",
       "      <td>0.423103</td>\n",
       "      <td>0.842600</td>\n",
       "    </tr>\n",
       "    <tr>\n",
       "      <td>300</td>\n",
       "      <td>0.399500</td>\n",
       "      <td>0.367951</td>\n",
       "      <td>0.860400</td>\n",
       "    </tr>\n",
       "    <tr>\n",
       "      <td>400</td>\n",
       "      <td>0.361700</td>\n",
       "      <td>0.297751</td>\n",
       "      <td>0.885900</td>\n",
       "    </tr>\n",
       "    <tr>\n",
       "      <td>500</td>\n",
       "      <td>0.337800</td>\n",
       "      <td>0.289476</td>\n",
       "      <td>0.895700</td>\n",
       "    </tr>\n",
       "    <tr>\n",
       "      <td>600</td>\n",
       "      <td>0.353100</td>\n",
       "      <td>0.288194</td>\n",
       "      <td>0.892600</td>\n",
       "    </tr>\n",
       "    <tr>\n",
       "      <td>700</td>\n",
       "      <td>0.317300</td>\n",
       "      <td>0.252942</td>\n",
       "      <td>0.910100</td>\n",
       "    </tr>\n",
       "    <tr>\n",
       "      <td>800</td>\n",
       "      <td>0.308800</td>\n",
       "      <td>0.231247</td>\n",
       "      <td>0.919600</td>\n",
       "    </tr>\n",
       "    <tr>\n",
       "      <td>900</td>\n",
       "      <td>0.289500</td>\n",
       "      <td>0.252804</td>\n",
       "      <td>0.910900</td>\n",
       "    </tr>\n",
       "    <tr>\n",
       "      <td>1000</td>\n",
       "      <td>0.284700</td>\n",
       "      <td>0.287570</td>\n",
       "      <td>0.897200</td>\n",
       "    </tr>\n",
       "    <tr>\n",
       "      <td>1100</td>\n",
       "      <td>0.273000</td>\n",
       "      <td>0.256574</td>\n",
       "      <td>0.912300</td>\n",
       "    </tr>\n",
       "    <tr>\n",
       "      <td>1200</td>\n",
       "      <td>0.287200</td>\n",
       "      <td>0.257558</td>\n",
       "      <td>0.911700</td>\n",
       "    </tr>\n",
       "    <tr>\n",
       "      <td>1300</td>\n",
       "      <td>0.266300</td>\n",
       "      <td>0.267645</td>\n",
       "      <td>0.908900</td>\n",
       "    </tr>\n",
       "    <tr>\n",
       "      <td>1400</td>\n",
       "      <td>0.275400</td>\n",
       "      <td>0.236397</td>\n",
       "      <td>0.919900</td>\n",
       "    </tr>\n",
       "    <tr>\n",
       "      <td>1500</td>\n",
       "      <td>0.274000</td>\n",
       "      <td>0.230971</td>\n",
       "      <td>0.919500</td>\n",
       "    </tr>\n",
       "    <tr>\n",
       "      <td>1600</td>\n",
       "      <td>0.252200</td>\n",
       "      <td>0.233978</td>\n",
       "      <td>0.920300</td>\n",
       "    </tr>\n",
       "    <tr>\n",
       "      <td>1700</td>\n",
       "      <td>0.248600</td>\n",
       "      <td>0.239887</td>\n",
       "      <td>0.919400</td>\n",
       "    </tr>\n",
       "    <tr>\n",
       "      <td>1800</td>\n",
       "      <td>0.257800</td>\n",
       "      <td>0.253673</td>\n",
       "      <td>0.912900</td>\n",
       "    </tr>\n",
       "    <tr>\n",
       "      <td>1900</td>\n",
       "      <td>0.241900</td>\n",
       "      <td>0.224367</td>\n",
       "      <td>0.926000</td>\n",
       "    </tr>\n",
       "    <tr>\n",
       "      <td>2000</td>\n",
       "      <td>0.237100</td>\n",
       "      <td>0.262071</td>\n",
       "      <td>0.913300</td>\n",
       "    </tr>\n",
       "    <tr>\n",
       "      <td>2100</td>\n",
       "      <td>0.256100</td>\n",
       "      <td>0.239791</td>\n",
       "      <td>0.919400</td>\n",
       "    </tr>\n",
       "    <tr>\n",
       "      <td>2200</td>\n",
       "      <td>0.235700</td>\n",
       "      <td>0.229932</td>\n",
       "      <td>0.921500</td>\n",
       "    </tr>\n",
       "    <tr>\n",
       "      <td>2300</td>\n",
       "      <td>0.223900</td>\n",
       "      <td>0.222138</td>\n",
       "      <td>0.927000</td>\n",
       "    </tr>\n",
       "    <tr>\n",
       "      <td>2400</td>\n",
       "      <td>0.242600</td>\n",
       "      <td>0.221394</td>\n",
       "      <td>0.926600</td>\n",
       "    </tr>\n",
       "    <tr>\n",
       "      <td>2500</td>\n",
       "      <td>0.229100</td>\n",
       "      <td>0.244437</td>\n",
       "      <td>0.921100</td>\n",
       "    </tr>\n",
       "    <tr>\n",
       "      <td>2600</td>\n",
       "      <td>0.226300</td>\n",
       "      <td>0.216170</td>\n",
       "      <td>0.928500</td>\n",
       "    </tr>\n",
       "    <tr>\n",
       "      <td>2700</td>\n",
       "      <td>0.219700</td>\n",
       "      <td>0.218386</td>\n",
       "      <td>0.927800</td>\n",
       "    </tr>\n",
       "    <tr>\n",
       "      <td>2800</td>\n",
       "      <td>0.216500</td>\n",
       "      <td>0.216889</td>\n",
       "      <td>0.930900</td>\n",
       "    </tr>\n",
       "    <tr>\n",
       "      <td>2900</td>\n",
       "      <td>0.220900</td>\n",
       "      <td>0.224613</td>\n",
       "      <td>0.928400</td>\n",
       "    </tr>\n",
       "    <tr>\n",
       "      <td>3000</td>\n",
       "      <td>0.228000</td>\n",
       "      <td>0.248901</td>\n",
       "      <td>0.922000</td>\n",
       "    </tr>\n",
       "    <tr>\n",
       "      <td>3100</td>\n",
       "      <td>0.214400</td>\n",
       "      <td>0.201500</td>\n",
       "      <td>0.935400</td>\n",
       "    </tr>\n",
       "    <tr>\n",
       "      <td>3200</td>\n",
       "      <td>0.210800</td>\n",
       "      <td>0.235789</td>\n",
       "      <td>0.928300</td>\n",
       "    </tr>\n",
       "    <tr>\n",
       "      <td>3300</td>\n",
       "      <td>0.195100</td>\n",
       "      <td>0.228158</td>\n",
       "      <td>0.926900</td>\n",
       "    </tr>\n",
       "    <tr>\n",
       "      <td>3400</td>\n",
       "      <td>0.218800</td>\n",
       "      <td>0.247017</td>\n",
       "      <td>0.924500</td>\n",
       "    </tr>\n",
       "    <tr>\n",
       "      <td>3500</td>\n",
       "      <td>0.195500</td>\n",
       "      <td>0.226047</td>\n",
       "      <td>0.928900</td>\n",
       "    </tr>\n",
       "    <tr>\n",
       "      <td>3600</td>\n",
       "      <td>0.206300</td>\n",
       "      <td>0.250992</td>\n",
       "      <td>0.923100</td>\n",
       "    </tr>\n",
       "    <tr>\n",
       "      <td>3700</td>\n",
       "      <td>0.207600</td>\n",
       "      <td>0.242476</td>\n",
       "      <td>0.925700</td>\n",
       "    </tr>\n",
       "    <tr>\n",
       "      <td>3800</td>\n",
       "      <td>0.215100</td>\n",
       "      <td>0.219878</td>\n",
       "      <td>0.931900</td>\n",
       "    </tr>\n",
       "    <tr>\n",
       "      <td>3900</td>\n",
       "      <td>0.199900</td>\n",
       "      <td>0.258295</td>\n",
       "      <td>0.919300</td>\n",
       "    </tr>\n",
       "    <tr>\n",
       "      <td>4000</td>\n",
       "      <td>0.191100</td>\n",
       "      <td>0.230889</td>\n",
       "      <td>0.929000</td>\n",
       "    </tr>\n",
       "    <tr>\n",
       "      <td>4100</td>\n",
       "      <td>0.195400</td>\n",
       "      <td>0.230051</td>\n",
       "      <td>0.929000</td>\n",
       "    </tr>\n",
       "    <tr>\n",
       "      <td>4200</td>\n",
       "      <td>0.172900</td>\n",
       "      <td>0.233247</td>\n",
       "      <td>0.927500</td>\n",
       "    </tr>\n",
       "    <tr>\n",
       "      <td>4300</td>\n",
       "      <td>0.174000</td>\n",
       "      <td>0.248918</td>\n",
       "      <td>0.924600</td>\n",
       "    </tr>\n",
       "    <tr>\n",
       "      <td>4400</td>\n",
       "      <td>0.193700</td>\n",
       "      <td>0.229059</td>\n",
       "      <td>0.930100</td>\n",
       "    </tr>\n",
       "    <tr>\n",
       "      <td>4500</td>\n",
       "      <td>0.188200</td>\n",
       "      <td>0.228668</td>\n",
       "      <td>0.930100</td>\n",
       "    </tr>\n",
       "    <tr>\n",
       "      <td>4600</td>\n",
       "      <td>0.180700</td>\n",
       "      <td>0.238191</td>\n",
       "      <td>0.928100</td>\n",
       "    </tr>\n",
       "    <tr>\n",
       "      <td>4700</td>\n",
       "      <td>0.178200</td>\n",
       "      <td>0.237566</td>\n",
       "      <td>0.928100</td>\n",
       "    </tr>\n",
       "    <tr>\n",
       "      <td>4800</td>\n",
       "      <td>0.192400</td>\n",
       "      <td>0.237177</td>\n",
       "      <td>0.929700</td>\n",
       "    </tr>\n",
       "    <tr>\n",
       "      <td>4900</td>\n",
       "      <td>0.198800</td>\n",
       "      <td>0.234699</td>\n",
       "      <td>0.930400</td>\n",
       "    </tr>\n",
       "    <tr>\n",
       "      <td>5000</td>\n",
       "      <td>0.186800</td>\n",
       "      <td>0.233202</td>\n",
       "      <td>0.930600</td>\n",
       "    </tr>\n",
       "    <tr>\n",
       "      <td>5100</td>\n",
       "      <td>0.189000</td>\n",
       "      <td>0.233210</td>\n",
       "      <td>0.931100</td>\n",
       "    </tr>\n",
       "  </tbody>\n",
       "</table><p>"
      ],
      "text/plain": [
       "<IPython.core.display.HTML object>"
      ]
     },
     "metadata": {},
     "output_type": "display_data"
    },
    {
     "name": "stdout",
     "output_type": "stream",
     "text": [
      "***** train metrics *****\n",
      "  epoch                    =          32.0\n",
      "  total_flos               = 94231959369GF\n",
      "  train_loss               =        0.2521\n",
      "  train_runtime            =    4:12:37.34\n",
      "  train_samples_per_second =        86.136\n",
      "  train_steps_per_second   =         0.338\n"
     ]
    }
   ],
   "source": [
    "train_results = trainer.train(resume_from_checkpoint=last_checkpoint)\n",
    "trainer.save_model()\n",
    "trainer.log_metrics(\"train\", train_results.metrics)\n",
    "trainer.save_metrics(\"train\", train_results.metrics)\n",
    "trainer.save_state()"
   ]
  },
  {
   "cell_type": "code",
   "execution_count": 11,
   "id": "2c1a106e",
   "metadata": {
    "execution": {
     "iopub.execute_input": "2023-11-30T07:08:15.184473Z",
     "iopub.status.busy": "2023-11-30T07:08:15.184085Z",
     "iopub.status.idle": "2023-11-30T07:09:08.722130Z",
     "shell.execute_reply": "2023-11-30T07:09:08.721370Z"
    },
    "papermill": {
     "duration": 53.551074,
     "end_time": "2023-11-30T07:09:08.724343",
     "exception": false,
     "start_time": "2023-11-30T07:08:15.173269",
     "status": "completed"
    },
    "tags": []
   },
   "outputs": [
    {
     "data": {
      "text/html": [
       "\n",
       "    <div>\n",
       "      \n",
       "      <progress value='1250' max='1250' style='width:300px; height:20px; vertical-align: middle;'></progress>\n",
       "      [1250/1250 00:53]\n",
       "    </div>\n",
       "    "
      ],
      "text/plain": [
       "<IPython.core.display.HTML object>"
      ]
     },
     "metadata": {},
     "output_type": "display_data"
    },
    {
     "name": "stdout",
     "output_type": "stream",
     "text": [
      "***** eval metrics *****\n",
      "  epoch                   =       32.0\n",
      "  eval_accuracy           =     0.9354\n",
      "  eval_loss               =     0.2015\n",
      "  eval_runtime            = 0:00:53.51\n",
      "  eval_samples_per_second =    186.856\n",
      "  eval_steps_per_second   =     23.357\n"
     ]
    }
   ],
   "source": [
    "metrics = trainer.evaluate(ds['test'])\n",
    "trainer.log_metrics(\"eval\", metrics)\n",
    "trainer.save_metrics(\"eval\", metrics)"
   ]
  }
 ],
 "metadata": {
  "kernelspec": {
   "display_name": "Python 3 (ipykernel)",
   "language": "python",
   "name": "python3"
  },
  "language_info": {
   "codemirror_mode": {
    "name": "ipython",
    "version": 3
   },
   "file_extension": ".py",
   "mimetype": "text/x-python",
   "name": "python",
   "nbconvert_exporter": "python",
   "pygments_lexer": "ipython3",
   "version": "3.8.17"
  },
  "papermill": {
   "default_parameters": {},
   "duration": 15300.423509,
   "end_time": "2023-11-30T07:09:10.892678",
   "environment_variables": {},
   "exception": null,
   "input_path": "vit-train-fashionmnist.ipynb",
   "output_path": "vit-train-fashionmnist-output.ipynb",
   "parameters": {},
   "start_time": "2023-11-30T02:54:10.469169",
   "version": "2.5.0"
  },
  "widgets": {
   "application/vnd.jupyter.widget-state+json": {
    "state": {
     "02752b88291a48a18593e6f947dbdaae": {
      "model_module": "@jupyter-widgets/controls",
      "model_module_version": "2.0.0",
      "model_name": "HBoxModel",
      "state": {
       "_dom_classes": [],
       "_model_module": "@jupyter-widgets/controls",
       "_model_module_version": "2.0.0",
       "_model_name": "HBoxModel",
       "_view_count": null,
       "_view_module": "@jupyter-widgets/controls",
       "_view_module_version": "2.0.0",
       "_view_name": "HBoxView",
       "box_style": "",
       "children": [
        "IPY_MODEL_ae2ee25241984fe4869621d01a08bbf6",
        "IPY_MODEL_be408bcc05de4579a446cc2d2d3215f5",
        "IPY_MODEL_c8c00c99d3994b7b8f45fc0b916e35ec"
       ],
       "layout": "IPY_MODEL_3a1b2a77cb8d4dd3845ab1e4165bc2d4",
       "tabbable": null,
       "tooltip": null
      }
     },
     "05db15dacd284d0a8f54d0d3732a7814": {
      "model_module": "@jupyter-widgets/base",
      "model_module_version": "2.0.0",
      "model_name": "LayoutModel",
      "state": {
       "_model_module": "@jupyter-widgets/base",
       "_model_module_version": "2.0.0",
       "_model_name": "LayoutModel",
       "_view_count": null,
       "_view_module": "@jupyter-widgets/base",
       "_view_module_version": "2.0.0",
       "_view_name": "LayoutView",
       "align_content": null,
       "align_items": null,
       "align_self": null,
       "border_bottom": null,
       "border_left": null,
       "border_right": null,
       "border_top": null,
       "bottom": null,
       "display": null,
       "flex": null,
       "flex_flow": null,
       "grid_area": null,
       "grid_auto_columns": null,
       "grid_auto_flow": null,
       "grid_auto_rows": null,
       "grid_column": null,
       "grid_gap": null,
       "grid_row": null,
       "grid_template_areas": null,
       "grid_template_columns": null,
       "grid_template_rows": null,
       "height": null,
       "justify_content": null,
       "justify_items": null,
       "left": null,
       "margin": null,
       "max_height": null,
       "max_width": null,
       "min_height": null,
       "min_width": null,
       "object_fit": null,
       "object_position": null,
       "order": null,
       "overflow": null,
       "padding": null,
       "right": null,
       "top": null,
       "visibility": null,
       "width": null
      }
     },
     "1835b97669da486191f5b8514fc057e7": {
      "model_module": "@jupyter-widgets/controls",
      "model_module_version": "2.0.0",
      "model_name": "FloatProgressModel",
      "state": {
       "_dom_classes": [],
       "_model_module": "@jupyter-widgets/controls",
       "_model_module_version": "2.0.0",
       "_model_name": "FloatProgressModel",
       "_view_count": null,
       "_view_module": "@jupyter-widgets/controls",
       "_view_module_version": "2.0.0",
       "_view_name": "ProgressView",
       "bar_style": "success",
       "description": "",
       "description_allow_html": false,
       "layout": "IPY_MODEL_359bf95d2e214277b0a65f4880b29d5e",
       "max": 10000,
       "min": 0,
       "orientation": "horizontal",
       "style": "IPY_MODEL_2069f59563f4463780a02033585a7183",
       "tabbable": null,
       "tooltip": null,
       "value": 10000
      }
     },
     "2069f59563f4463780a02033585a7183": {
      "model_module": "@jupyter-widgets/controls",
      "model_module_version": "2.0.0",
      "model_name": "ProgressStyleModel",
      "state": {
       "_model_module": "@jupyter-widgets/controls",
       "_model_module_version": "2.0.0",
       "_model_name": "ProgressStyleModel",
       "_view_count": null,
       "_view_module": "@jupyter-widgets/base",
       "_view_module_version": "2.0.0",
       "_view_name": "StyleView",
       "bar_color": null,
       "description_width": ""
      }
     },
     "359bf95d2e214277b0a65f4880b29d5e": {
      "model_module": "@jupyter-widgets/base",
      "model_module_version": "2.0.0",
      "model_name": "LayoutModel",
      "state": {
       "_model_module": "@jupyter-widgets/base",
       "_model_module_version": "2.0.0",
       "_model_name": "LayoutModel",
       "_view_count": null,
       "_view_module": "@jupyter-widgets/base",
       "_view_module_version": "2.0.0",
       "_view_name": "LayoutView",
       "align_content": null,
       "align_items": null,
       "align_self": null,
       "border_bottom": null,
       "border_left": null,
       "border_right": null,
       "border_top": null,
       "bottom": null,
       "display": null,
       "flex": null,
       "flex_flow": null,
       "grid_area": null,
       "grid_auto_columns": null,
       "grid_auto_flow": null,
       "grid_auto_rows": null,
       "grid_column": null,
       "grid_gap": null,
       "grid_row": null,
       "grid_template_areas": null,
       "grid_template_columns": null,
       "grid_template_rows": null,
       "height": null,
       "justify_content": null,
       "justify_items": null,
       "left": null,
       "margin": null,
       "max_height": null,
       "max_width": null,
       "min_height": null,
       "min_width": null,
       "object_fit": null,
       "object_position": null,
       "order": null,
       "overflow": null,
       "padding": null,
       "right": null,
       "top": null,
       "visibility": null,
       "width": null
      }
     },
     "3a1b2a77cb8d4dd3845ab1e4165bc2d4": {
      "model_module": "@jupyter-widgets/base",
      "model_module_version": "2.0.0",
      "model_name": "LayoutModel",
      "state": {
       "_model_module": "@jupyter-widgets/base",
       "_model_module_version": "2.0.0",
       "_model_name": "LayoutModel",
       "_view_count": null,
       "_view_module": "@jupyter-widgets/base",
       "_view_module_version": "2.0.0",
       "_view_name": "LayoutView",
       "align_content": null,
       "align_items": null,
       "align_self": null,
       "border_bottom": null,
       "border_left": null,
       "border_right": null,
       "border_top": null,
       "bottom": null,
       "display": null,
       "flex": null,
       "flex_flow": null,
       "grid_area": null,
       "grid_auto_columns": null,
       "grid_auto_flow": null,
       "grid_auto_rows": null,
       "grid_column": null,
       "grid_gap": null,
       "grid_row": null,
       "grid_template_areas": null,
       "grid_template_columns": null,
       "grid_template_rows": null,
       "height": null,
       "justify_content": null,
       "justify_items": null,
       "left": null,
       "margin": null,
       "max_height": null,
       "max_width": null,
       "min_height": null,
       "min_width": null,
       "object_fit": null,
       "object_position": null,
       "order": null,
       "overflow": null,
       "padding": null,
       "right": null,
       "top": null,
       "visibility": null,
       "width": null
      }
     },
     "4786d7cfe05b40929ba50322e0a2d530": {
      "model_module": "@jupyter-widgets/controls",
      "model_module_version": "2.0.0",
      "model_name": "HTMLModel",
      "state": {
       "_dom_classes": [],
       "_model_module": "@jupyter-widgets/controls",
       "_model_module_version": "2.0.0",
       "_model_name": "HTMLModel",
       "_view_count": null,
       "_view_module": "@jupyter-widgets/controls",
       "_view_module_version": "2.0.0",
       "_view_name": "HTMLView",
       "description": "",
       "description_allow_html": false,
       "layout": "IPY_MODEL_6689368cd87f44758f3087a0b241ab94",
       "placeholder": "​",
       "style": "IPY_MODEL_a41b3d1904584b17b5f529f95d442a53",
       "tabbable": null,
       "tooltip": null,
       "value": " 10000/10000 [00:00&lt;00:00,  1.14it/s]"
      }
     },
     "5cc6090264f940efbbd080c06d5d6759": {
      "model_module": "@jupyter-widgets/base",
      "model_module_version": "2.0.0",
      "model_name": "LayoutModel",
      "state": {
       "_model_module": "@jupyter-widgets/base",
       "_model_module_version": "2.0.0",
       "_model_name": "LayoutModel",
       "_view_count": null,
       "_view_module": "@jupyter-widgets/base",
       "_view_module_version": "2.0.0",
       "_view_name": "LayoutView",
       "align_content": null,
       "align_items": null,
       "align_self": null,
       "border_bottom": null,
       "border_left": null,
       "border_right": null,
       "border_top": null,
       "bottom": null,
       "display": null,
       "flex": null,
       "flex_flow": null,
       "grid_area": null,
       "grid_auto_columns": null,
       "grid_auto_flow": null,
       "grid_auto_rows": null,
       "grid_column": null,
       "grid_gap": null,
       "grid_row": null,
       "grid_template_areas": null,
       "grid_template_columns": null,
       "grid_template_rows": null,
       "height": null,
       "justify_content": null,
       "justify_items": null,
       "left": null,
       "margin": null,
       "max_height": null,
       "max_width": null,
       "min_height": null,
       "min_width": null,
       "object_fit": null,
       "object_position": null,
       "order": null,
       "overflow": null,
       "padding": null,
       "right": null,
       "top": null,
       "visibility": null,
       "width": null
      }
     },
     "6689368cd87f44758f3087a0b241ab94": {
      "model_module": "@jupyter-widgets/base",
      "model_module_version": "2.0.0",
      "model_name": "LayoutModel",
      "state": {
       "_model_module": "@jupyter-widgets/base",
       "_model_module_version": "2.0.0",
       "_model_name": "LayoutModel",
       "_view_count": null,
       "_view_module": "@jupyter-widgets/base",
       "_view_module_version": "2.0.0",
       "_view_name": "LayoutView",
       "align_content": null,
       "align_items": null,
       "align_self": null,
       "border_bottom": null,
       "border_left": null,
       "border_right": null,
       "border_top": null,
       "bottom": null,
       "display": null,
       "flex": null,
       "flex_flow": null,
       "grid_area": null,
       "grid_auto_columns": null,
       "grid_auto_flow": null,
       "grid_auto_rows": null,
       "grid_column": null,
       "grid_gap": null,
       "grid_row": null,
       "grid_template_areas": null,
       "grid_template_columns": null,
       "grid_template_rows": null,
       "height": null,
       "justify_content": null,
       "justify_items": null,
       "left": null,
       "margin": null,
       "max_height": null,
       "max_width": null,
       "min_height": null,
       "min_width": null,
       "object_fit": null,
       "object_position": null,
       "order": null,
       "overflow": null,
       "padding": null,
       "right": null,
       "top": null,
       "visibility": null,
       "width": null
      }
     },
     "72784a3de37744e6ad2ce8343c482718": {
      "model_module": "@jupyter-widgets/controls",
      "model_module_version": "2.0.0",
      "model_name": "HTMLStyleModel",
      "state": {
       "_model_module": "@jupyter-widgets/controls",
       "_model_module_version": "2.0.0",
       "_model_name": "HTMLStyleModel",
       "_view_count": null,
       "_view_module": "@jupyter-widgets/base",
       "_view_module_version": "2.0.0",
       "_view_name": "StyleView",
       "background": null,
       "description_width": "",
       "font_size": null,
       "text_color": null
      }
     },
     "7edfb53734a84b00aa24ec3e69b8f41a": {
      "model_module": "@jupyter-widgets/controls",
      "model_module_version": "2.0.0",
      "model_name": "HTMLStyleModel",
      "state": {
       "_model_module": "@jupyter-widgets/controls",
       "_model_module_version": "2.0.0",
       "_model_name": "HTMLStyleModel",
       "_view_count": null,
       "_view_module": "@jupyter-widgets/base",
       "_view_module_version": "2.0.0",
       "_view_name": "StyleView",
       "background": null,
       "description_width": "",
       "font_size": null,
       "text_color": null
      }
     },
     "8d4adb500d3e49a0ac83a6eb1bf58bc8": {
      "model_module": "@jupyter-widgets/base",
      "model_module_version": "2.0.0",
      "model_name": "LayoutModel",
      "state": {
       "_model_module": "@jupyter-widgets/base",
       "_model_module_version": "2.0.0",
       "_model_name": "LayoutModel",
       "_view_count": null,
       "_view_module": "@jupyter-widgets/base",
       "_view_module_version": "2.0.0",
       "_view_name": "LayoutView",
       "align_content": null,
       "align_items": null,
       "align_self": null,
       "border_bottom": null,
       "border_left": null,
       "border_right": null,
       "border_top": null,
       "bottom": null,
       "display": null,
       "flex": null,
       "flex_flow": null,
       "grid_area": null,
       "grid_auto_columns": null,
       "grid_auto_flow": null,
       "grid_auto_rows": null,
       "grid_column": null,
       "grid_gap": null,
       "grid_row": null,
       "grid_template_areas": null,
       "grid_template_columns": null,
       "grid_template_rows": null,
       "height": null,
       "justify_content": null,
       "justify_items": null,
       "left": null,
       "margin": null,
       "max_height": null,
       "max_width": null,
       "min_height": null,
       "min_width": null,
       "object_fit": null,
       "object_position": null,
       "order": null,
       "overflow": null,
       "padding": null,
       "right": null,
       "top": null,
       "visibility": null,
       "width": null
      }
     },
     "a41b3d1904584b17b5f529f95d442a53": {
      "model_module": "@jupyter-widgets/controls",
      "model_module_version": "2.0.0",
      "model_name": "HTMLStyleModel",
      "state": {
       "_model_module": "@jupyter-widgets/controls",
       "_model_module_version": "2.0.0",
       "_model_name": "HTMLStyleModel",
       "_view_count": null,
       "_view_module": "@jupyter-widgets/base",
       "_view_module_version": "2.0.0",
       "_view_name": "StyleView",
       "background": null,
       "description_width": "",
       "font_size": null,
       "text_color": null
      }
     },
     "a66e705b0dcd480fb1bfc06e00dc0bbb": {
      "model_module": "@jupyter-widgets/base",
      "model_module_version": "2.0.0",
      "model_name": "LayoutModel",
      "state": {
       "_model_module": "@jupyter-widgets/base",
       "_model_module_version": "2.0.0",
       "_model_name": "LayoutModel",
       "_view_count": null,
       "_view_module": "@jupyter-widgets/base",
       "_view_module_version": "2.0.0",
       "_view_name": "LayoutView",
       "align_content": null,
       "align_items": null,
       "align_self": null,
       "border_bottom": null,
       "border_left": null,
       "border_right": null,
       "border_top": null,
       "bottom": null,
       "display": null,
       "flex": null,
       "flex_flow": null,
       "grid_area": null,
       "grid_auto_columns": null,
       "grid_auto_flow": null,
       "grid_auto_rows": null,
       "grid_column": null,
       "grid_gap": null,
       "grid_row": null,
       "grid_template_areas": null,
       "grid_template_columns": null,
       "grid_template_rows": null,
       "height": null,
       "justify_content": null,
       "justify_items": null,
       "left": null,
       "margin": null,
       "max_height": null,
       "max_width": null,
       "min_height": null,
       "min_width": null,
       "object_fit": null,
       "object_position": null,
       "order": null,
       "overflow": null,
       "padding": null,
       "right": null,
       "top": null,
       "visibility": null,
       "width": null
      }
     },
     "ae2ee25241984fe4869621d01a08bbf6": {
      "model_module": "@jupyter-widgets/controls",
      "model_module_version": "2.0.0",
      "model_name": "HTMLModel",
      "state": {
       "_dom_classes": [],
       "_model_module": "@jupyter-widgets/controls",
       "_model_module_version": "2.0.0",
       "_model_name": "HTMLModel",
       "_view_count": null,
       "_view_module": "@jupyter-widgets/controls",
       "_view_module_version": "2.0.0",
       "_view_name": "HTMLView",
       "description": "",
       "description_allow_html": false,
       "layout": "IPY_MODEL_a66e705b0dcd480fb1bfc06e00dc0bbb",
       "placeholder": "​",
       "style": "IPY_MODEL_72784a3de37744e6ad2ce8343c482718",
       "tabbable": null,
       "tooltip": null,
       "value": "Resolving data files: 100%"
      }
     },
     "b2cc559509d94e48ab08729b6ac6cc04": {
      "model_module": "@jupyter-widgets/base",
      "model_module_version": "2.0.0",
      "model_name": "LayoutModel",
      "state": {
       "_model_module": "@jupyter-widgets/base",
       "_model_module_version": "2.0.0",
       "_model_name": "LayoutModel",
       "_view_count": null,
       "_view_module": "@jupyter-widgets/base",
       "_view_module_version": "2.0.0",
       "_view_name": "LayoutView",
       "align_content": null,
       "align_items": null,
       "align_self": null,
       "border_bottom": null,
       "border_left": null,
       "border_right": null,
       "border_top": null,
       "bottom": null,
       "display": null,
       "flex": null,
       "flex_flow": null,
       "grid_area": null,
       "grid_auto_columns": null,
       "grid_auto_flow": null,
       "grid_auto_rows": null,
       "grid_column": null,
       "grid_gap": null,
       "grid_row": null,
       "grid_template_areas": null,
       "grid_template_columns": null,
       "grid_template_rows": null,
       "height": null,
       "justify_content": null,
       "justify_items": null,
       "left": null,
       "margin": null,
       "max_height": null,
       "max_width": null,
       "min_height": null,
       "min_width": null,
       "object_fit": null,
       "object_position": null,
       "order": null,
       "overflow": null,
       "padding": null,
       "right": null,
       "top": null,
       "visibility": null,
       "width": null
      }
     },
     "bb632793ea5043dbacafb7d4e295a5f6": {
      "model_module": "@jupyter-widgets/controls",
      "model_module_version": "2.0.0",
      "model_name": "HBoxModel",
      "state": {
       "_dom_classes": [],
       "_model_module": "@jupyter-widgets/controls",
       "_model_module_version": "2.0.0",
       "_model_name": "HBoxModel",
       "_view_count": null,
       "_view_module": "@jupyter-widgets/controls",
       "_view_module_version": "2.0.0",
       "_view_name": "HBoxView",
       "box_style": "",
       "children": [
        "IPY_MODEL_c6177879bc014b1093906fa4c4b1b560",
        "IPY_MODEL_1835b97669da486191f5b8514fc057e7",
        "IPY_MODEL_4786d7cfe05b40929ba50322e0a2d530"
       ],
       "layout": "IPY_MODEL_8d4adb500d3e49a0ac83a6eb1bf58bc8",
       "tabbable": null,
       "tooltip": null
      }
     },
     "be408bcc05de4579a446cc2d2d3215f5": {
      "model_module": "@jupyter-widgets/controls",
      "model_module_version": "2.0.0",
      "model_name": "FloatProgressModel",
      "state": {
       "_dom_classes": [],
       "_model_module": "@jupyter-widgets/controls",
       "_model_module_version": "2.0.0",
       "_model_name": "FloatProgressModel",
       "_view_count": null,
       "_view_module": "@jupyter-widgets/controls",
       "_view_module_version": "2.0.0",
       "_view_name": "ProgressView",
       "bar_style": "success",
       "description": "",
       "description_allow_html": false,
       "layout": "IPY_MODEL_5cc6090264f940efbbd080c06d5d6759",
       "max": 40800,
       "min": 0,
       "orientation": "horizontal",
       "style": "IPY_MODEL_f04ad9a82a024042a66970810b712497",
       "tabbable": null,
       "tooltip": null,
       "value": 40800
      }
     },
     "c6177879bc014b1093906fa4c4b1b560": {
      "model_module": "@jupyter-widgets/controls",
      "model_module_version": "2.0.0",
      "model_name": "HTMLModel",
      "state": {
       "_dom_classes": [],
       "_model_module": "@jupyter-widgets/controls",
       "_model_module_version": "2.0.0",
       "_model_name": "HTMLModel",
       "_view_count": null,
       "_view_module": "@jupyter-widgets/controls",
       "_view_module_version": "2.0.0",
       "_view_name": "HTMLView",
       "description": "",
       "description_allow_html": false,
       "layout": "IPY_MODEL_05db15dacd284d0a8f54d0d3732a7814",
       "placeholder": "​",
       "style": "IPY_MODEL_7edfb53734a84b00aa24ec3e69b8f41a",
       "tabbable": null,
       "tooltip": null,
       "value": "Resolving data files: 100%"
      }
     },
     "c8c00c99d3994b7b8f45fc0b916e35ec": {
      "model_module": "@jupyter-widgets/controls",
      "model_module_version": "2.0.0",
      "model_name": "HTMLModel",
      "state": {
       "_dom_classes": [],
       "_model_module": "@jupyter-widgets/controls",
       "_model_module_version": "2.0.0",
       "_model_name": "HTMLModel",
       "_view_count": null,
       "_view_module": "@jupyter-widgets/controls",
       "_view_module_version": "2.0.0",
       "_view_name": "HTMLView",
       "description": "",
       "description_allow_html": false,
       "layout": "IPY_MODEL_b2cc559509d94e48ab08729b6ac6cc04",
       "placeholder": "​",
       "style": "IPY_MODEL_dd8f9f41b9414be494cb2db59752f6ce",
       "tabbable": null,
       "tooltip": null,
       "value": " 40800/40800 [00:01&lt;00:00, 25619.95it/s]"
      }
     },
     "dd8f9f41b9414be494cb2db59752f6ce": {
      "model_module": "@jupyter-widgets/controls",
      "model_module_version": "2.0.0",
      "model_name": "HTMLStyleModel",
      "state": {
       "_model_module": "@jupyter-widgets/controls",
       "_model_module_version": "2.0.0",
       "_model_name": "HTMLStyleModel",
       "_view_count": null,
       "_view_module": "@jupyter-widgets/base",
       "_view_module_version": "2.0.0",
       "_view_name": "StyleView",
       "background": null,
       "description_width": "",
       "font_size": null,
       "text_color": null
      }
     },
     "f04ad9a82a024042a66970810b712497": {
      "model_module": "@jupyter-widgets/controls",
      "model_module_version": "2.0.0",
      "model_name": "ProgressStyleModel",
      "state": {
       "_model_module": "@jupyter-widgets/controls",
       "_model_module_version": "2.0.0",
       "_model_name": "ProgressStyleModel",
       "_view_count": null,
       "_view_module": "@jupyter-widgets/base",
       "_view_module_version": "2.0.0",
       "_view_name": "StyleView",
       "bar_color": null,
       "description_width": ""
      }
     }
    },
    "version_major": 2,
    "version_minor": 0
   }
  }
 },
 "nbformat": 4,
 "nbformat_minor": 5
}
