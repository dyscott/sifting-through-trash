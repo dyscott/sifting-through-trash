{
 "cells": [
  {
   "cell_type": "markdown",
   "id": "b644fff1",
   "metadata": {
    "papermill": {
     "duration": 0.011189,
     "end_time": "2023-11-30T00:36:02.407521",
     "exception": false,
     "start_time": "2023-11-30T00:36:02.396332",
     "status": "completed"
    },
    "tags": []
   },
   "source": [
    "# ViT Fine-Tuning Demo\n",
    "\n",
    "*Based on: https://huggingface.co/blog/fine-tune-vit*\n",
    "\n",
    "Before running, download the [TrashNet dataset](https://github.com/garythung/trashnet/raw/master/data/dataset-resized.zip) and extract it to the 'dataset' folder."
   ]
  },
  {
   "cell_type": "code",
   "execution_count": 1,
   "id": "dc718289",
   "metadata": {
    "execution": {
     "iopub.execute_input": "2023-11-30T00:36:02.421457Z",
     "iopub.status.busy": "2023-11-30T00:36:02.420783Z",
     "iopub.status.idle": "2023-11-30T00:36:21.638769Z",
     "shell.execute_reply": "2023-11-30T00:36:21.636418Z"
    },
    "papermill": {
     "duration": 19.229924,
     "end_time": "2023-11-30T00:36:21.643206",
     "exception": false,
     "start_time": "2023-11-30T00:36:02.413282",
     "status": "completed"
    },
    "tags": []
   },
   "outputs": [
    {
     "name": "stdout",
     "output_type": "stream",
     "text": [
      "Requirement already satisfied: huggingface in /home/schakkera/miniconda3/envs/ml/lib/python3.10/site-packages (0.0.1)\r\n"
     ]
    },
    {
     "name": "stdout",
     "output_type": "stream",
     "text": [
      "Note: you may need to restart the kernel to use updated packages.\n"
     ]
    },
    {
     "name": "stdout",
     "output_type": "stream",
     "text": [
      "Requirement already satisfied: datasets in /home/schakkera/miniconda3/envs/ml/lib/python3.10/site-packages (2.15.0)\r\n"
     ]
    },
    {
     "name": "stdout",
     "output_type": "stream",
     "text": [
      "Requirement already satisfied: numpy>=1.17 in /home/schakkera/miniconda3/envs/ml/lib/python3.10/site-packages (from datasets) (1.26.0)\r\n",
      "Requirement already satisfied: pyarrow>=8.0.0 in /home/schakkera/miniconda3/envs/ml/lib/python3.10/site-packages (from datasets) (14.0.1)\r\n",
      "Requirement already satisfied: pyarrow-hotfix in /home/schakkera/miniconda3/envs/ml/lib/python3.10/site-packages (from datasets) (0.6)\r\n",
      "Requirement already satisfied: dill<0.3.8,>=0.3.0 in /home/schakkera/miniconda3/envs/ml/lib/python3.10/site-packages (from datasets) (0.3.7)\r\n",
      "Requirement already satisfied: pandas in /home/schakkera/miniconda3/envs/ml/lib/python3.10/site-packages (from datasets) (2.1.3)\r\n",
      "Requirement already satisfied: requests>=2.19.0 in /home/schakkera/miniconda3/envs/ml/lib/python3.10/site-packages (from datasets) (2.31.0)\r\n",
      "Requirement already satisfied: tqdm>=4.62.1 in /home/schakkera/miniconda3/envs/ml/lib/python3.10/site-packages (from datasets) (4.66.1)\r\n",
      "Requirement already satisfied: xxhash in /home/schakkera/miniconda3/envs/ml/lib/python3.10/site-packages (from datasets) (3.4.1)\r\n",
      "Requirement already satisfied: multiprocess in /home/schakkera/miniconda3/envs/ml/lib/python3.10/site-packages (from datasets) (0.70.15)\r\n",
      "Requirement already satisfied: fsspec<=2023.10.0,>=2023.1.0 in /home/schakkera/miniconda3/envs/ml/lib/python3.10/site-packages (from fsspec[http]<=2023.10.0,>=2023.1.0->datasets) (2023.10.0)\r\n",
      "Requirement already satisfied: aiohttp in /home/schakkera/miniconda3/envs/ml/lib/python3.10/site-packages (from datasets) (3.9.1)\r\n",
      "Requirement already satisfied: huggingface-hub>=0.18.0 in /home/schakkera/miniconda3/envs/ml/lib/python3.10/site-packages (from datasets) (0.19.4)\r\n",
      "Requirement already satisfied: packaging in /home/schakkera/miniconda3/envs/ml/lib/python3.10/site-packages (from datasets) (23.2)\r\n",
      "Requirement already satisfied: pyyaml>=5.1 in /home/schakkera/miniconda3/envs/ml/lib/python3.10/site-packages (from datasets) (6.0.1)\r\n"
     ]
    },
    {
     "name": "stdout",
     "output_type": "stream",
     "text": [
      "Requirement already satisfied: attrs>=17.3.0 in /home/schakkera/miniconda3/envs/ml/lib/python3.10/site-packages (from aiohttp->datasets) (23.1.0)\r\n",
      "Requirement already satisfied: multidict<7.0,>=4.5 in /home/schakkera/miniconda3/envs/ml/lib/python3.10/site-packages (from aiohttp->datasets) (6.0.4)\r\n",
      "Requirement already satisfied: yarl<2.0,>=1.0 in /home/schakkera/miniconda3/envs/ml/lib/python3.10/site-packages (from aiohttp->datasets) (1.9.3)\r\n",
      "Requirement already satisfied: frozenlist>=1.1.1 in /home/schakkera/miniconda3/envs/ml/lib/python3.10/site-packages (from aiohttp->datasets) (1.4.0)\r\n",
      "Requirement already satisfied: aiosignal>=1.1.2 in /home/schakkera/miniconda3/envs/ml/lib/python3.10/site-packages (from aiohttp->datasets) (1.3.1)\r\n",
      "Requirement already satisfied: async-timeout<5.0,>=4.0 in /home/schakkera/miniconda3/envs/ml/lib/python3.10/site-packages (from aiohttp->datasets) (4.0.3)\r\n"
     ]
    },
    {
     "name": "stdout",
     "output_type": "stream",
     "text": [
      "Requirement already satisfied: filelock in /home/schakkera/miniconda3/envs/ml/lib/python3.10/site-packages (from huggingface-hub>=0.18.0->datasets) (3.13.1)\r\n",
      "Requirement already satisfied: typing-extensions>=3.7.4.3 in /home/schakkera/miniconda3/envs/ml/lib/python3.10/site-packages (from huggingface-hub>=0.18.0->datasets) (4.7.1)\r\n",
      "Requirement already satisfied: charset-normalizer<4,>=2 in /home/schakkera/miniconda3/envs/ml/lib/python3.10/site-packages (from requests>=2.19.0->datasets) (2.0.4)\r\n",
      "Requirement already satisfied: idna<4,>=2.5 in /home/schakkera/miniconda3/envs/ml/lib/python3.10/site-packages (from requests>=2.19.0->datasets) (3.4)\r\n",
      "Requirement already satisfied: urllib3<3,>=1.21.1 in /home/schakkera/miniconda3/envs/ml/lib/python3.10/site-packages (from requests>=2.19.0->datasets) (1.26.18)\r\n",
      "Requirement already satisfied: certifi>=2017.4.17 in /home/schakkera/miniconda3/envs/ml/lib/python3.10/site-packages (from requests>=2.19.0->datasets) (2023.11.17)\r\n"
     ]
    },
    {
     "name": "stdout",
     "output_type": "stream",
     "text": [
      "Requirement already satisfied: python-dateutil>=2.8.2 in /home/schakkera/miniconda3/envs/ml/lib/python3.10/site-packages (from pandas->datasets) (2.8.2)\r\n",
      "Requirement already satisfied: pytz>=2020.1 in /home/schakkera/miniconda3/envs/ml/lib/python3.10/site-packages (from pandas->datasets) (2023.3.post1)\r\n",
      "Requirement already satisfied: tzdata>=2022.1 in /home/schakkera/miniconda3/envs/ml/lib/python3.10/site-packages (from pandas->datasets) (2023.3)\r\n"
     ]
    },
    {
     "name": "stdout",
     "output_type": "stream",
     "text": [
      "Requirement already satisfied: six>=1.5 in /home/schakkera/miniconda3/envs/ml/lib/python3.10/site-packages (from python-dateutil>=2.8.2->pandas->datasets) (1.16.0)\r\n"
     ]
    },
    {
     "name": "stdout",
     "output_type": "stream",
     "text": [
      "Note: you may need to restart the kernel to use updated packages.\n"
     ]
    },
    {
     "name": "stdout",
     "output_type": "stream",
     "text": [
      "Requirement already satisfied: pillow in /home/schakkera/miniconda3/envs/ml/lib/python3.10/site-packages (10.0.1)\r\n"
     ]
    },
    {
     "name": "stdout",
     "output_type": "stream",
     "text": [
      "Note: you may need to restart the kernel to use updated packages.\n"
     ]
    },
    {
     "name": "stdout",
     "output_type": "stream",
     "text": [
      "Requirement already satisfied: transformers in /home/schakkera/miniconda3/envs/ml/lib/python3.10/site-packages (4.35.2)\r\n"
     ]
    },
    {
     "name": "stdout",
     "output_type": "stream",
     "text": [
      "Requirement already satisfied: filelock in /home/schakkera/miniconda3/envs/ml/lib/python3.10/site-packages (from transformers) (3.13.1)\r\n",
      "Requirement already satisfied: huggingface-hub<1.0,>=0.16.4 in /home/schakkera/miniconda3/envs/ml/lib/python3.10/site-packages (from transformers) (0.19.4)\r\n",
      "Requirement already satisfied: numpy>=1.17 in /home/schakkera/miniconda3/envs/ml/lib/python3.10/site-packages (from transformers) (1.26.0)\r\n",
      "Requirement already satisfied: packaging>=20.0 in /home/schakkera/miniconda3/envs/ml/lib/python3.10/site-packages (from transformers) (23.2)\r\n",
      "Requirement already satisfied: pyyaml>=5.1 in /home/schakkera/miniconda3/envs/ml/lib/python3.10/site-packages (from transformers) (6.0.1)\r\n"
     ]
    },
    {
     "name": "stdout",
     "output_type": "stream",
     "text": [
      "Requirement already satisfied: regex!=2019.12.17 in /home/schakkera/miniconda3/envs/ml/lib/python3.10/site-packages (from transformers) (2023.10.3)\r\n",
      "Requirement already satisfied: requests in /home/schakkera/miniconda3/envs/ml/lib/python3.10/site-packages (from transformers) (2.31.0)\r\n",
      "Requirement already satisfied: tokenizers<0.19,>=0.14 in /home/schakkera/miniconda3/envs/ml/lib/python3.10/site-packages (from transformers) (0.15.0)\r\n",
      "Requirement already satisfied: safetensors>=0.3.1 in /home/schakkera/miniconda3/envs/ml/lib/python3.10/site-packages (from transformers) (0.4.1)\r\n",
      "Requirement already satisfied: tqdm>=4.27 in /home/schakkera/miniconda3/envs/ml/lib/python3.10/site-packages (from transformers) (4.66.1)\r\n"
     ]
    },
    {
     "name": "stdout",
     "output_type": "stream",
     "text": [
      "Requirement already satisfied: fsspec>=2023.5.0 in /home/schakkera/miniconda3/envs/ml/lib/python3.10/site-packages (from huggingface-hub<1.0,>=0.16.4->transformers) (2023.10.0)\r\n",
      "Requirement already satisfied: typing-extensions>=3.7.4.3 in /home/schakkera/miniconda3/envs/ml/lib/python3.10/site-packages (from huggingface-hub<1.0,>=0.16.4->transformers) (4.7.1)\r\n"
     ]
    },
    {
     "name": "stdout",
     "output_type": "stream",
     "text": [
      "Requirement already satisfied: charset-normalizer<4,>=2 in /home/schakkera/miniconda3/envs/ml/lib/python3.10/site-packages (from requests->transformers) (2.0.4)\r\n",
      "Requirement already satisfied: idna<4,>=2.5 in /home/schakkera/miniconda3/envs/ml/lib/python3.10/site-packages (from requests->transformers) (3.4)\r\n",
      "Requirement already satisfied: urllib3<3,>=1.21.1 in /home/schakkera/miniconda3/envs/ml/lib/python3.10/site-packages (from requests->transformers) (1.26.18)\r\n",
      "Requirement already satisfied: certifi>=2017.4.17 in /home/schakkera/miniconda3/envs/ml/lib/python3.10/site-packages (from requests->transformers) (2023.11.17)\r\n"
     ]
    },
    {
     "name": "stdout",
     "output_type": "stream",
     "text": [
      "Note: you may need to restart the kernel to use updated packages.\n"
     ]
    },
    {
     "name": "stdout",
     "output_type": "stream",
     "text": [
      "Requirement already satisfied: scikit-learn in /home/schakkera/miniconda3/envs/ml/lib/python3.10/site-packages (1.3.2)\r\n",
      "Requirement already satisfied: numpy<2.0,>=1.17.3 in /home/schakkera/miniconda3/envs/ml/lib/python3.10/site-packages (from scikit-learn) (1.26.0)\r\n",
      "Requirement already satisfied: scipy>=1.5.0 in /home/schakkera/miniconda3/envs/ml/lib/python3.10/site-packages (from scikit-learn) (1.11.4)\r\n",
      "Requirement already satisfied: joblib>=1.1.1 in /home/schakkera/miniconda3/envs/ml/lib/python3.10/site-packages (from scikit-learn) (1.3.2)\r\n",
      "Requirement already satisfied: threadpoolctl>=2.0.0 in /home/schakkera/miniconda3/envs/ml/lib/python3.10/site-packages (from scikit-learn) (3.2.0)\r\n"
     ]
    },
    {
     "name": "stdout",
     "output_type": "stream",
     "text": [
      "Note: you may need to restart the kernel to use updated packages.\n"
     ]
    },
    {
     "name": "stdout",
     "output_type": "stream",
     "text": [
      "Requirement already satisfied: transformers[torch] in /home/schakkera/miniconda3/envs/ml/lib/python3.10/site-packages (4.35.2)\r\n"
     ]
    },
    {
     "name": "stdout",
     "output_type": "stream",
     "text": [
      "Requirement already satisfied: filelock in /home/schakkera/miniconda3/envs/ml/lib/python3.10/site-packages (from transformers[torch]) (3.13.1)\r\n",
      "Requirement already satisfied: huggingface-hub<1.0,>=0.16.4 in /home/schakkera/miniconda3/envs/ml/lib/python3.10/site-packages (from transformers[torch]) (0.19.4)\r\n",
      "Requirement already satisfied: numpy>=1.17 in /home/schakkera/miniconda3/envs/ml/lib/python3.10/site-packages (from transformers[torch]) (1.26.0)\r\n",
      "Requirement already satisfied: packaging>=20.0 in /home/schakkera/miniconda3/envs/ml/lib/python3.10/site-packages (from transformers[torch]) (23.2)\r\n",
      "Requirement already satisfied: pyyaml>=5.1 in /home/schakkera/miniconda3/envs/ml/lib/python3.10/site-packages (from transformers[torch]) (6.0.1)\r\n",
      "Requirement already satisfied: regex!=2019.12.17 in /home/schakkera/miniconda3/envs/ml/lib/python3.10/site-packages (from transformers[torch]) (2023.10.3)\r\n",
      "Requirement already satisfied: requests in /home/schakkera/miniconda3/envs/ml/lib/python3.10/site-packages (from transformers[torch]) (2.31.0)\r\n"
     ]
    },
    {
     "name": "stdout",
     "output_type": "stream",
     "text": [
      "Requirement already satisfied: tokenizers<0.19,>=0.14 in /home/schakkera/miniconda3/envs/ml/lib/python3.10/site-packages (from transformers[torch]) (0.15.0)\r\n",
      "Requirement already satisfied: safetensors>=0.3.1 in /home/schakkera/miniconda3/envs/ml/lib/python3.10/site-packages (from transformers[torch]) (0.4.1)\r\n",
      "Requirement already satisfied: tqdm>=4.27 in /home/schakkera/miniconda3/envs/ml/lib/python3.10/site-packages (from transformers[torch]) (4.66.1)\r\n",
      "Requirement already satisfied: torch!=1.12.0,>=1.10 in /home/schakkera/miniconda3/envs/ml/lib/python3.10/site-packages (from transformers[torch]) (2.1.1)\r\n",
      "Requirement already satisfied: accelerate>=0.20.3 in /home/schakkera/miniconda3/envs/ml/lib/python3.10/site-packages (from transformers[torch]) (0.24.1)\r\n"
     ]
    },
    {
     "name": "stdout",
     "output_type": "stream",
     "text": [
      "Requirement already satisfied: psutil in /home/schakkera/miniconda3/envs/ml/lib/python3.10/site-packages (from accelerate>=0.20.3->transformers[torch]) (5.9.6)\r\n"
     ]
    },
    {
     "name": "stdout",
     "output_type": "stream",
     "text": [
      "Requirement already satisfied: fsspec>=2023.5.0 in /home/schakkera/miniconda3/envs/ml/lib/python3.10/site-packages (from huggingface-hub<1.0,>=0.16.4->transformers[torch]) (2023.10.0)\r\n",
      "Requirement already satisfied: typing-extensions>=3.7.4.3 in /home/schakkera/miniconda3/envs/ml/lib/python3.10/site-packages (from huggingface-hub<1.0,>=0.16.4->transformers[torch]) (4.7.1)\r\n"
     ]
    },
    {
     "name": "stdout",
     "output_type": "stream",
     "text": [
      "Requirement already satisfied: sympy in /home/schakkera/miniconda3/envs/ml/lib/python3.10/site-packages (from torch!=1.12.0,>=1.10->transformers[torch]) (1.11.1)\r\n",
      "Requirement already satisfied: networkx in /home/schakkera/miniconda3/envs/ml/lib/python3.10/site-packages (from torch!=1.12.0,>=1.10->transformers[torch]) (3.1)\r\n",
      "Requirement already satisfied: jinja2 in /home/schakkera/miniconda3/envs/ml/lib/python3.10/site-packages (from torch!=1.12.0,>=1.10->transformers[torch]) (3.1.2)\r\n",
      "Requirement already satisfied: charset-normalizer<4,>=2 in /home/schakkera/miniconda3/envs/ml/lib/python3.10/site-packages (from requests->transformers[torch]) (2.0.4)\r\n",
      "Requirement already satisfied: idna<4,>=2.5 in /home/schakkera/miniconda3/envs/ml/lib/python3.10/site-packages (from requests->transformers[torch]) (3.4)\r\n",
      "Requirement already satisfied: urllib3<3,>=1.21.1 in /home/schakkera/miniconda3/envs/ml/lib/python3.10/site-packages (from requests->transformers[torch]) (1.26.18)\r\n",
      "Requirement already satisfied: certifi>=2017.4.17 in /home/schakkera/miniconda3/envs/ml/lib/python3.10/site-packages (from requests->transformers[torch]) (2023.11.17)\r\n"
     ]
    },
    {
     "name": "stdout",
     "output_type": "stream",
     "text": [
      "Requirement already satisfied: MarkupSafe>=2.0 in /home/schakkera/miniconda3/envs/ml/lib/python3.10/site-packages (from jinja2->torch!=1.12.0,>=1.10->transformers[torch]) (2.1.1)\r\n"
     ]
    },
    {
     "name": "stdout",
     "output_type": "stream",
     "text": [
      "Requirement already satisfied: mpmath>=0.19 in /home/schakkera/miniconda3/envs/ml/lib/python3.10/site-packages (from sympy->torch!=1.12.0,>=1.10->transformers[torch]) (1.3.0)\r\n"
     ]
    },
    {
     "name": "stdout",
     "output_type": "stream",
     "text": [
      "Note: you may need to restart the kernel to use updated packages.\n"
     ]
    },
    {
     "name": "stdout",
     "output_type": "stream",
     "text": [
      "Requirement already satisfied: tensorboardX in /home/schakkera/miniconda3/envs/ml/lib/python3.10/site-packages (2.6.2.2)\r\n",
      "Requirement already satisfied: numpy in /home/schakkera/miniconda3/envs/ml/lib/python3.10/site-packages (from tensorboardX) (1.26.0)\r\n",
      "Requirement already satisfied: packaging in /home/schakkera/miniconda3/envs/ml/lib/python3.10/site-packages (from tensorboardX) (23.2)\r\n",
      "Requirement already satisfied: protobuf>=3.20 in /home/schakkera/miniconda3/envs/ml/lib/python3.10/site-packages (from tensorboardX) (4.25.1)\r\n"
     ]
    },
    {
     "name": "stdout",
     "output_type": "stream",
     "text": [
      "Note: you may need to restart the kernel to use updated packages.\n"
     ]
    }
   ],
   "source": [
    "%pip install huggingface\n",
    "%pip install datasets\n",
    "%pip install pillow\n",
    "%pip install transformers\n",
    "%pip install scikit-learn\n",
    "%pip install transformers[torch]\n",
    "%pip install tensorboardX\n",
    "# PyTorch + CUDA should be installed manually"
   ]
  },
  {
   "cell_type": "markdown",
   "id": "b5e82468",
   "metadata": {
    "papermill": {
     "duration": 0.008572,
     "end_time": "2023-11-30T00:36:21.662072",
     "exception": false,
     "start_time": "2023-11-30T00:36:21.653500",
     "status": "completed"
    },
    "tags": []
   },
   "source": [
    "## Dataset Processing"
   ]
  },
  {
   "cell_type": "code",
   "execution_count": 2,
   "id": "8bfcbfa3",
   "metadata": {
    "execution": {
     "iopub.execute_input": "2023-11-30T00:36:21.680521Z",
     "iopub.status.busy": "2023-11-30T00:36:21.679616Z",
     "iopub.status.idle": "2023-11-30T00:36:26.454421Z",
     "shell.execute_reply": "2023-11-30T00:36:26.453803Z"
    },
    "papermill": {
     "duration": 4.786796,
     "end_time": "2023-11-30T00:36:26.456391",
     "exception": false,
     "start_time": "2023-11-30T00:36:21.669595",
     "status": "completed"
    },
    "tags": []
   },
   "outputs": [
    {
     "data": {
      "application/vnd.jupyter.widget-view+json": {
       "model_id": "b3883a39a3e5478789e9f9b774f3e03c",
       "version_major": 2,
       "version_minor": 0
      },
      "text/plain": [
       "Resolving data files:   0%|          | 0/2527 [00:00<?, ?it/s]"
      ]
     },
     "metadata": {},
     "output_type": "display_data"
    }
   ],
   "source": [
    "from datasets import load_dataset\n",
    "\n",
    "ds = load_dataset(\"imagefolder\", data_dir=\"/home/schakkera/CSE512/dataset-resized\", split=\"train\")\n",
    "# ds = load_dataset(\"imagefolder\", data_dir=\"/home/starc/SBU/Sem-3/ML/Project/dataset-resized/dataset-resized\", split=\"train\")\n",
    "ds = ds.train_test_split(test_size=0.2, seed=512)"
   ]
  },
  {
   "cell_type": "code",
   "execution_count": 3,
   "id": "5ad8d98c",
   "metadata": {
    "execution": {
     "iopub.execute_input": "2023-11-30T00:36:26.474424Z",
     "iopub.status.busy": "2023-11-30T00:36:26.473932Z",
     "iopub.status.idle": "2023-11-30T00:36:30.411088Z",
     "shell.execute_reply": "2023-11-30T00:36:30.410087Z"
    },
    "papermill": {
     "duration": 3.949936,
     "end_time": "2023-11-30T00:36:30.415151",
     "exception": false,
     "start_time": "2023-11-30T00:36:26.465215",
     "status": "completed"
    },
    "tags": []
   },
   "outputs": [],
   "source": [
    "from transformers import ViTImageProcessor, ViTConfig\n",
    "from torchvision.transforms import Compose, RandomResizedCrop, RandomHorizontalFlip, ToTensor, Normalize, Resize, CenterCrop, ConvertImageDtype, InterpolationMode, ColorJitter\n",
    "import torch\n",
    "\n",
    "model_name_or_path = 'google/vit-base-patch16-224'\n",
    "config = ViTConfig.from_pretrained(model_name_or_path)\n",
    "processor = ViTImageProcessor.from_pretrained(model_name_or_path)\n",
    "\n",
    "_train_transform = Compose([\n",
    "    RandomResizedCrop(config.image_size, interpolation=InterpolationMode.BICUBIC, antialias=None),\n",
    "    RandomHorizontalFlip(),\n",
    "    ColorJitter(brightness=0.4, contrast=0.4, saturation=0.4, hue=0.1),\n",
    "    ToTensor(),\n",
    "    ConvertImageDtype(torch.float),\n",
    "    Normalize(\n",
    "        mean=processor.image_mean,\n",
    "        std=processor.image_std\n",
    "    )\n",
    "])\n",
    "\n",
    "_val_transform = Compose([\n",
    "    Resize(config.image_size, interpolation=InterpolationMode.BICUBIC, antialias=None),\n",
    "    CenterCrop(config.image_size),\n",
    "    ToTensor(),\n",
    "    ConvertImageDtype(torch.float),\n",
    "    Normalize(\n",
    "        mean=processor.image_mean,\n",
    "        std=processor.image_std\n",
    "    )\n",
    "])\n",
    "\n",
    "def train_transform(example_batch):\n",
    "    example_batch['pixel_values'] = [\n",
    "        _train_transform(img.convert('RGB')) for img in example_batch['image']\n",
    "    ]\n",
    "    return example_batch\n",
    "\n",
    "def val_transform(example_batch):\n",
    "    example_batch['pixel_values'] = [\n",
    "        _val_transform(img.convert('RGB')) for img in example_batch['image']\n",
    "    ]\n",
    "    return example_batch\n",
    "\n",
    "ds['train'].set_transform(train_transform)\n",
    "ds['test'].set_transform(val_transform)"
   ]
  },
  {
   "cell_type": "markdown",
   "id": "bab6d600",
   "metadata": {
    "papermill": {
     "duration": 0.007792,
     "end_time": "2023-11-30T00:36:30.438701",
     "exception": false,
     "start_time": "2023-11-30T00:36:30.430909",
     "status": "completed"
    },
    "tags": []
   },
   "source": [
    "## Training"
   ]
  },
  {
   "cell_type": "code",
   "execution_count": 4,
   "id": "57b73066",
   "metadata": {
    "execution": {
     "iopub.execute_input": "2023-11-30T00:36:30.455753Z",
     "iopub.status.busy": "2023-11-30T00:36:30.454912Z",
     "iopub.status.idle": "2023-11-30T00:36:30.463145Z",
     "shell.execute_reply": "2023-11-30T00:36:30.461840Z"
    },
    "papermill": {
     "duration": 0.019034,
     "end_time": "2023-11-30T00:36:30.465066",
     "exception": false,
     "start_time": "2023-11-30T00:36:30.446032",
     "status": "completed"
    },
    "tags": []
   },
   "outputs": [],
   "source": [
    "import torch\n",
    "\n",
    "def collate_fn(batch):\n",
    "    return {\n",
    "        'pixel_values': torch.stack([x['pixel_values'] for x in batch]),\n",
    "        'labels': torch.tensor([x['label'] for x in batch])\n",
    "    }"
   ]
  },
  {
   "cell_type": "code",
   "execution_count": 5,
   "id": "d111a1b3",
   "metadata": {
    "execution": {
     "iopub.execute_input": "2023-11-30T00:36:30.481072Z",
     "iopub.status.busy": "2023-11-30T00:36:30.480776Z",
     "iopub.status.idle": "2023-11-30T00:36:31.314451Z",
     "shell.execute_reply": "2023-11-30T00:36:31.313322Z"
    },
    "papermill": {
     "duration": 0.846126,
     "end_time": "2023-11-30T00:36:31.318662",
     "exception": false,
     "start_time": "2023-11-30T00:36:30.472536",
     "status": "completed"
    },
    "tags": []
   },
   "outputs": [
    {
     "name": "stderr",
     "output_type": "stream",
     "text": [
      "/tmp/ipykernel_62492/596433834.py:4: FutureWarning: load_metric is deprecated and will be removed in the next major version of datasets. Use 'evaluate.load' instead, from the new library 🤗 Evaluate: https://huggingface.co/docs/evaluate\n",
      "  metric = load_metric(\"accuracy\")\n"
     ]
    }
   ],
   "source": [
    "import numpy as np\n",
    "from datasets import load_metric\n",
    "\n",
    "metric = load_metric(\"accuracy\")\n",
    "def compute_metrics(p):\n",
    "    return metric.compute(predictions=np.argmax(p.predictions, axis=1), references=p.label_ids)\n",
    "\n",
    "def ova_compute_metrics(p):\n",
    "    return metric.compute(predictions=np.argmin(p.predictions, axis=1), references=p.label_ids)"
   ]
  },
  {
   "cell_type": "code",
   "execution_count": 6,
   "id": "702b3c91",
   "metadata": {
    "execution": {
     "iopub.execute_input": "2023-11-30T00:36:31.344852Z",
     "iopub.status.busy": "2023-11-30T00:36:31.344090Z",
     "iopub.status.idle": "2023-11-30T00:36:32.560484Z",
     "shell.execute_reply": "2023-11-30T00:36:32.559812Z"
    },
    "papermill": {
     "duration": 1.227657,
     "end_time": "2023-11-30T00:36:32.562483",
     "exception": false,
     "start_time": "2023-11-30T00:36:31.334826",
     "status": "completed"
    },
    "tags": []
   },
   "outputs": [
    {
     "name": "stderr",
     "output_type": "stream",
     "text": [
      "Some weights of ViTForImageClassification were not initialized from the model checkpoint at google/vit-base-patch16-224 and are newly initialized because the shapes did not match:\n",
      "- classifier.bias: found shape torch.Size([1000]) in the checkpoint and torch.Size([6]) in the model instantiated\n",
      "- classifier.weight: found shape torch.Size([1000, 768]) in the checkpoint and torch.Size([6, 768]) in the model instantiated\n",
      "You should probably TRAIN this model on a down-stream task to be able to use it for predictions and inference.\n"
     ]
    }
   ],
   "source": [
    "from transformers import ViTForImageClassification\n",
    "\n",
    "labels = ds['train'].features['label'].names\n",
    "\n",
    "model = ViTForImageClassification.from_pretrained(\n",
    "    model_name_or_path,\n",
    "    ignore_mismatched_sizes=True,\n",
    "    num_labels=len(labels),\n",
    "    id2label={str(i): c for i, c in enumerate(labels)},\n",
    "    label2id={c: str(i) for i, c in enumerate(labels)}\n",
    ")"
   ]
  },
  {
   "cell_type": "code",
   "execution_count": 7,
   "id": "eede0b46",
   "metadata": {
    "execution": {
     "iopub.execute_input": "2023-11-30T00:36:32.584711Z",
     "iopub.status.busy": "2023-11-30T00:36:32.583227Z",
     "iopub.status.idle": "2023-11-30T00:36:32.655884Z",
     "shell.execute_reply": "2023-11-30T00:36:32.655217Z"
    },
    "papermill": {
     "duration": 0.084383,
     "end_time": "2023-11-30T00:36:32.658079",
     "exception": false,
     "start_time": "2023-11-30T00:36:32.573696",
     "status": "completed"
    },
    "tags": []
   },
   "outputs": [],
   "source": [
    "from transformers import TrainingArguments\n",
    "from transformers.trainer_utils import get_last_checkpoint\n",
    "import os\n",
    "\n",
    "if os.path.exists('./vit-base-trash-ovareg'):\n",
    "    last_checkpoint = get_last_checkpoint(\"./vit-base-trash-ovareg\")\n",
    "else:\n",
    "    last_checkpoint = None\n",
    "\n",
    "training_args = TrainingArguments(\n",
    "  output_dir=\"./vit-base-trash-ovareg\",\n",
    "  per_device_train_batch_size=16,\n",
    "  evaluation_strategy=\"steps\",\n",
    "  num_train_epochs=32,\n",
    "  fp16=True,\n",
    "  save_steps=100,\n",
    "  eval_steps=100,\n",
    "  logging_steps=20,\n",
    "  learning_rate=3e-5, #3e-5\n",
    "  save_total_limit=1,\n",
    "  remove_unused_columns=False,\n",
    "  push_to_hub=False,\n",
    "  report_to='tensorboard',\n",
    "  load_best_model_at_end=True,\n",
    "  resume_from_checkpoint=last_checkpoint\n",
    ")\n",
    "\n",
    "\n",
    "# if os.path.exists('./vit-base-trash-csce'):\n",
    "#     last_checkpoint = get_last_checkpoint(\"./vit-base-trash-csce\")\n",
    "# else:\n",
    "#     last_checkpoint = None\n",
    "\n",
    "# training_args = TrainingArguments(\n",
    "#   output_dir=\"./vit-base-trash-csce\",\n",
    "#   per_device_train_batch_size=16,\n",
    "#   evaluation_strategy=\"steps\",\n",
    "#   num_train_epochs=32,\n",
    "#   fp16=True,\n",
    "#   save_steps=100,\n",
    "#   eval_steps=100,\n",
    "#   logging_steps=20,\n",
    "#   learning_rate=3e-5, #3e-5\n",
    "#   save_total_limit=1,\n",
    "#   remove_unused_columns=False,\n",
    "#   push_to_hub=False,\n",
    "#   report_to='tensorboard',\n",
    "#   load_best_model_at_end=True,\n",
    "#   resume_from_checkpoint=last_checkpoint\n",
    "# )"
   ]
  },
  {
   "cell_type": "code",
   "execution_count": 8,
   "id": "20d3f5c6",
   "metadata": {
    "execution": {
     "iopub.execute_input": "2023-11-30T00:36:32.676580Z",
     "iopub.status.busy": "2023-11-30T00:36:32.675972Z",
     "iopub.status.idle": "2023-11-30T00:36:32.730214Z",
     "shell.execute_reply": "2023-11-30T00:36:32.729580Z"
    },
    "papermill": {
     "duration": 0.065534,
     "end_time": "2023-11-30T00:36:32.732170",
     "exception": false,
     "start_time": "2023-11-30T00:36:32.666636",
     "status": "completed"
    },
    "tags": []
   },
   "outputs": [],
   "source": [
    "from transformers import Trainer\n",
    "import torch.nn as nn\n",
    "import torch.nn.functional as F\n",
    "device = torch.device(\"cuda\" if torch.cuda.is_available() else \"cpu\")\n",
    "class WeightedCrossEntropyTrainer(Trainer):\n",
    "    def __init__(self, *args, **kwargs):\n",
    "        super().__init__(*args, **kwargs)\n",
    "        self.cost_matrix = torch.tensor([[0.1, 0.1, 0.1, 0.1, 0.1, 0.1], \n",
    "                                       [0.1, 0.1, 0.4, 0.1, 0.3, 0.1], \n",
    "                                       [0.1, 0.4, 0.1, 0.1, 0.1, 0.2], \n",
    "                                       [0.1, 0.1, 0.1, 0.1, 0.1, 0.1], \n",
    "                                       [0.1, 0.4, 0.5, 0.1, 0.1, 0.2], \n",
    "                                       [0.4, 0.1, 0.2, 0.4, 0.1, 0.1]]).to(device)\n",
    "    def compute_loss(self, model, inputs, return_outputs=False):\n",
    "        labels = inputs.pop(\"labels\")\n",
    "        # print(labels.size(), labels)\n",
    "        # forward pass\n",
    "        outputs = model(**inputs)\n",
    "        logits = outputs.get(\"logits\")\n",
    "        exp_logits = torch.exp(logits)\n",
    "        batch_spec_weights = self.cost_matrix[labels, :]\n",
    "        weighted_exp = exp_logits * batch_spec_weights\n",
    "        weighted_softmax = weighted_exp/torch.sum(weighted_exp, axis=1).reshape(weighted_exp.size(0), -1)\n",
    "        log_weighted = torch.log(weighted_softmax)\n",
    "        onehot = F.one_hot(labels, self.cost_matrix.size(0))\n",
    "        ind_cross_entropy = -log_weighted*onehot\n",
    "        \n",
    "        # compute custom loss (suppose one has 3 labels with different weights)\n",
    "        loss = torch.mean(torch.sum(ind_cross_entropy, axis=1))\n",
    "        return (loss, outputs) if return_outputs else loss\n",
    "\n",
    "class OVARegressionTrainer(Trainer):\n",
    "    def __init__(self, *args, **kwargs):\n",
    "        super().__init__(*args, **kwargs)\n",
    "        self.cost_matrix = torch.tensor([[0.0, 5., 5., 5., 5., 5.], \n",
    "                                       [5., 0.0, 20., 5., 15., 5.], \n",
    "                                       [5., 20., 0.0, 5., 5., 10.], \n",
    "                                       [5., 5., 5., 0.0, 5., 5.], \n",
    "                                       [5., 5., 25., 5., 0.0, 10.], \n",
    "                                       [20., 5., 10., 20., 5., 0.0]]).to(device)\n",
    "    \n",
    "    \n",
    "    def compute_loss(self, model, inputs, return_outputs=False):\n",
    "        labels = inputs.pop(\"labels\")\n",
    "        # print(labels.size(), labels)\n",
    "        # forward pass\n",
    "        outputs = model(**inputs)\n",
    "        logits = outputs.get(\"logits\")\n",
    "        onehot = F.one_hot(labels, self.cost_matrix.size(0))\n",
    "        zval = (onehot*2)-1\n",
    "        batch_spec_weights = self.cost_matrix[labels, :]\n",
    "        regress = logits-batch_spec_weights\n",
    "        # print(np.argmin(regress.detach().numpy(), axis=1), labels)\n",
    "        zprod = zval*regress\n",
    "        \n",
    "        # compute custom loss (suppose one has 3 labels with different weights)\n",
    "        loss=torch.mean(torch.sum(torch.log(torch.exp(zprod)+1), axis=1))\n",
    "        # print(loss)\n",
    "        return (loss, outputs) if return_outputs else loss"
   ]
  },
  {
   "cell_type": "code",
   "execution_count": 9,
   "id": "04e5bf78",
   "metadata": {
    "execution": {
     "iopub.execute_input": "2023-11-30T00:36:32.747796Z",
     "iopub.status.busy": "2023-11-30T00:36:32.747420Z",
     "iopub.status.idle": "2023-11-30T00:36:34.671000Z",
     "shell.execute_reply": "2023-11-30T00:36:34.669881Z"
    },
    "papermill": {
     "duration": 1.934384,
     "end_time": "2023-11-30T00:36:34.674224",
     "exception": false,
     "start_time": "2023-11-30T00:36:32.739840",
     "status": "completed"
    },
    "tags": []
   },
   "outputs": [
    {
     "name": "stderr",
     "output_type": "stream",
     "text": [
      "Detected kernel version 4.18.0, which is below the recommended minimum of 5.5.0; this can cause the process to hang. It is recommended to upgrade the kernel to the minimum version or higher.\n"
     ]
    }
   ],
   "source": [
    "from transformers import Trainer\n",
    "\n",
    "# trainer = Trainer(\n",
    "#     model=model,\n",
    "#     args=training_args,\n",
    "#     data_collator=collate_fn,\n",
    "#     compute_metrics=compute_metrics,\n",
    "#     train_dataset=ds[\"train\"],\n",
    "#     eval_dataset=ds[\"test\"],\n",
    "#     tokenizer=processor,\n",
    "# )\n",
    "trainer = OVARegressionTrainer(\n",
    "    model=model,\n",
    "    args=training_args,\n",
    "    data_collator=collate_fn,\n",
    "    compute_metrics=ova_compute_metrics,\n",
    "    train_dataset=ds[\"train\"],\n",
    "    eval_dataset=ds[\"test\"],\n",
    "    tokenizer=processor,\n",
    ")\n",
    "# trainer = WeightedCrossEntropyTrainer(\n",
    "#     model=model,\n",
    "#     args=training_args,\n",
    "#     data_collator=collate_fn,\n",
    "#     compute_metrics=compute_metrics,\n",
    "#     train_dataset=ds[\"train\"],\n",
    "#     eval_dataset=ds[\"test\"],\n",
    "#     tokenizer=processor,\n",
    "# )"
   ]
  },
  {
   "cell_type": "code",
   "execution_count": 10,
   "id": "c0c9bb12",
   "metadata": {
    "execution": {
     "iopub.execute_input": "2023-11-30T00:36:34.698531Z",
     "iopub.status.busy": "2023-11-30T00:36:34.697617Z",
     "iopub.status.idle": "2023-11-30T01:06:43.403590Z",
     "shell.execute_reply": "2023-11-30T01:06:43.402722Z"
    },
    "papermill": {
     "duration": 1808.718412,
     "end_time": "2023-11-30T01:06:43.408221",
     "exception": false,
     "start_time": "2023-11-30T00:36:34.689809",
     "status": "completed"
    },
    "tags": []
   },
   "outputs": [
    {
     "data": {
      "text/html": [
       "\n",
       "    <div>\n",
       "      \n",
       "      <progress value='4064' max='4064' style='width:300px; height:20px; vertical-align: middle;'></progress>\n",
       "      [4064/4064 30:05, Epoch 32/32]\n",
       "    </div>\n",
       "    <table border=\"1\" class=\"dataframe\">\n",
       "  <thead>\n",
       " <tr style=\"text-align: left;\">\n",
       "      <th>Step</th>\n",
       "      <th>Training Loss</th>\n",
       "      <th>Validation Loss</th>\n",
       "      <th>Accuracy</th>\n",
       "    </tr>\n",
       "  </thead>\n",
       "  <tbody>\n",
       "    <tr>\n",
       "      <td>100</td>\n",
       "      <td>17.747700</td>\n",
       "      <td>17.487024</td>\n",
       "      <td>0.535573</td>\n",
       "    </tr>\n",
       "    <tr>\n",
       "      <td>200</td>\n",
       "      <td>13.212000</td>\n",
       "      <td>13.199078</td>\n",
       "      <td>0.804348</td>\n",
       "    </tr>\n",
       "    <tr>\n",
       "      <td>300</td>\n",
       "      <td>11.189400</td>\n",
       "      <td>10.415431</td>\n",
       "      <td>0.857708</td>\n",
       "    </tr>\n",
       "    <tr>\n",
       "      <td>400</td>\n",
       "      <td>8.966700</td>\n",
       "      <td>8.524710</td>\n",
       "      <td>0.895257</td>\n",
       "    </tr>\n",
       "    <tr>\n",
       "      <td>500</td>\n",
       "      <td>7.210200</td>\n",
       "      <td>7.171139</td>\n",
       "      <td>0.907115</td>\n",
       "    </tr>\n",
       "    <tr>\n",
       "      <td>600</td>\n",
       "      <td>5.980000</td>\n",
       "      <td>5.867060</td>\n",
       "      <td>0.903162</td>\n",
       "    </tr>\n",
       "    <tr>\n",
       "      <td>700</td>\n",
       "      <td>5.063300</td>\n",
       "      <td>4.946890</td>\n",
       "      <td>0.918972</td>\n",
       "    </tr>\n",
       "    <tr>\n",
       "      <td>800</td>\n",
       "      <td>3.776900</td>\n",
       "      <td>3.779551</td>\n",
       "      <td>0.928854</td>\n",
       "    </tr>\n",
       "    <tr>\n",
       "      <td>900</td>\n",
       "      <td>3.379200</td>\n",
       "      <td>3.444514</td>\n",
       "      <td>0.928854</td>\n",
       "    </tr>\n",
       "    <tr>\n",
       "      <td>1000</td>\n",
       "      <td>2.867600</td>\n",
       "      <td>2.961747</td>\n",
       "      <td>0.930830</td>\n",
       "    </tr>\n",
       "    <tr>\n",
       "      <td>1100</td>\n",
       "      <td>2.291200</td>\n",
       "      <td>2.653708</td>\n",
       "      <td>0.936759</td>\n",
       "    </tr>\n",
       "    <tr>\n",
       "      <td>1200</td>\n",
       "      <td>2.375500</td>\n",
       "      <td>2.363603</td>\n",
       "      <td>0.934783</td>\n",
       "    </tr>\n",
       "    <tr>\n",
       "      <td>1300</td>\n",
       "      <td>1.144000</td>\n",
       "      <td>2.228426</td>\n",
       "      <td>0.932806</td>\n",
       "    </tr>\n",
       "    <tr>\n",
       "      <td>1400</td>\n",
       "      <td>1.210900</td>\n",
       "      <td>2.007917</td>\n",
       "      <td>0.936759</td>\n",
       "    </tr>\n",
       "    <tr>\n",
       "      <td>1500</td>\n",
       "      <td>1.750700</td>\n",
       "      <td>2.042601</td>\n",
       "      <td>0.938735</td>\n",
       "    </tr>\n",
       "    <tr>\n",
       "      <td>1600</td>\n",
       "      <td>1.656700</td>\n",
       "      <td>1.708848</td>\n",
       "      <td>0.948617</td>\n",
       "    </tr>\n",
       "    <tr>\n",
       "      <td>1700</td>\n",
       "      <td>0.523300</td>\n",
       "      <td>1.622519</td>\n",
       "      <td>0.942688</td>\n",
       "    </tr>\n",
       "    <tr>\n",
       "      <td>1800</td>\n",
       "      <td>1.388400</td>\n",
       "      <td>1.743299</td>\n",
       "      <td>0.946640</td>\n",
       "    </tr>\n",
       "    <tr>\n",
       "      <td>1900</td>\n",
       "      <td>1.069600</td>\n",
       "      <td>1.740549</td>\n",
       "      <td>0.944664</td>\n",
       "    </tr>\n",
       "    <tr>\n",
       "      <td>2000</td>\n",
       "      <td>0.496500</td>\n",
       "      <td>1.525148</td>\n",
       "      <td>0.950593</td>\n",
       "    </tr>\n",
       "    <tr>\n",
       "      <td>2100</td>\n",
       "      <td>0.881100</td>\n",
       "      <td>1.603766</td>\n",
       "      <td>0.946640</td>\n",
       "    </tr>\n",
       "    <tr>\n",
       "      <td>2200</td>\n",
       "      <td>0.807200</td>\n",
       "      <td>1.465061</td>\n",
       "      <td>0.950593</td>\n",
       "    </tr>\n",
       "    <tr>\n",
       "      <td>2300</td>\n",
       "      <td>0.757700</td>\n",
       "      <td>1.503856</td>\n",
       "      <td>0.954545</td>\n",
       "    </tr>\n",
       "    <tr>\n",
       "      <td>2400</td>\n",
       "      <td>0.904700</td>\n",
       "      <td>1.472804</td>\n",
       "      <td>0.952569</td>\n",
       "    </tr>\n",
       "    <tr>\n",
       "      <td>2500</td>\n",
       "      <td>0.882200</td>\n",
       "      <td>1.606458</td>\n",
       "      <td>0.944664</td>\n",
       "    </tr>\n",
       "    <tr>\n",
       "      <td>2600</td>\n",
       "      <td>0.635400</td>\n",
       "      <td>1.412997</td>\n",
       "      <td>0.956522</td>\n",
       "    </tr>\n",
       "    <tr>\n",
       "      <td>2700</td>\n",
       "      <td>1.329800</td>\n",
       "      <td>1.620828</td>\n",
       "      <td>0.944664</td>\n",
       "    </tr>\n",
       "    <tr>\n",
       "      <td>2800</td>\n",
       "      <td>0.423800</td>\n",
       "      <td>1.539590</td>\n",
       "      <td>0.950593</td>\n",
       "    </tr>\n",
       "    <tr>\n",
       "      <td>2900</td>\n",
       "      <td>0.474700</td>\n",
       "      <td>1.491913</td>\n",
       "      <td>0.952569</td>\n",
       "    </tr>\n",
       "    <tr>\n",
       "      <td>3000</td>\n",
       "      <td>0.085100</td>\n",
       "      <td>1.565519</td>\n",
       "      <td>0.946640</td>\n",
       "    </tr>\n",
       "    <tr>\n",
       "      <td>3100</td>\n",
       "      <td>1.042300</td>\n",
       "      <td>1.540083</td>\n",
       "      <td>0.954545</td>\n",
       "    </tr>\n",
       "    <tr>\n",
       "      <td>3200</td>\n",
       "      <td>0.611300</td>\n",
       "      <td>1.524373</td>\n",
       "      <td>0.952569</td>\n",
       "    </tr>\n",
       "    <tr>\n",
       "      <td>3300</td>\n",
       "      <td>0.610900</td>\n",
       "      <td>1.488557</td>\n",
       "      <td>0.956522</td>\n",
       "    </tr>\n",
       "    <tr>\n",
       "      <td>3400</td>\n",
       "      <td>0.576400</td>\n",
       "      <td>1.441929</td>\n",
       "      <td>0.954545</td>\n",
       "    </tr>\n",
       "    <tr>\n",
       "      <td>3500</td>\n",
       "      <td>0.484200</td>\n",
       "      <td>1.473622</td>\n",
       "      <td>0.952569</td>\n",
       "    </tr>\n",
       "    <tr>\n",
       "      <td>3600</td>\n",
       "      <td>0.554400</td>\n",
       "      <td>1.400629</td>\n",
       "      <td>0.958498</td>\n",
       "    </tr>\n",
       "    <tr>\n",
       "      <td>3700</td>\n",
       "      <td>0.300400</td>\n",
       "      <td>1.374085</td>\n",
       "      <td>0.956522</td>\n",
       "    </tr>\n",
       "    <tr>\n",
       "      <td>3800</td>\n",
       "      <td>0.740100</td>\n",
       "      <td>1.453059</td>\n",
       "      <td>0.952569</td>\n",
       "    </tr>\n",
       "    <tr>\n",
       "      <td>3900</td>\n",
       "      <td>0.400800</td>\n",
       "      <td>1.399723</td>\n",
       "      <td>0.954545</td>\n",
       "    </tr>\n",
       "    <tr>\n",
       "      <td>4000</td>\n",
       "      <td>0.930300</td>\n",
       "      <td>1.407554</td>\n",
       "      <td>0.956522</td>\n",
       "    </tr>\n",
       "  </tbody>\n",
       "</table><p>"
      ],
      "text/plain": [
       "<IPython.core.display.HTML object>"
      ]
     },
     "metadata": {},
     "output_type": "display_data"
    },
    {
     "name": "stdout",
     "output_type": "stream",
     "text": [
      "***** train metrics *****\n",
      "  epoch                    =         32.0\n",
      "  total_flos               = 4667548109GF\n",
      "  train_loss               =       2.9419\n",
      "  train_runtime            =   0:30:07.29\n",
      "  train_samples_per_second =       35.784\n",
      "  train_steps_per_second   =        2.249\n"
     ]
    }
   ],
   "source": [
    "train_results = trainer.train(resume_from_checkpoint=last_checkpoint)\n",
    "trainer.save_model()\n",
    "trainer.log_metrics(\"train\", train_results.metrics)\n",
    "trainer.save_metrics(\"train\", train_results.metrics)\n",
    "trainer.save_state()"
   ]
  },
  {
   "cell_type": "code",
   "execution_count": 11,
   "id": "eb181818",
   "metadata": {
    "execution": {
     "iopub.execute_input": "2023-11-30T01:06:43.431038Z",
     "iopub.status.busy": "2023-11-30T01:06:43.430441Z",
     "iopub.status.idle": "2023-11-30T01:06:50.900523Z",
     "shell.execute_reply": "2023-11-30T01:06:50.899808Z"
    },
    "papermill": {
     "duration": 7.480699,
     "end_time": "2023-11-30T01:06:50.902125",
     "exception": false,
     "start_time": "2023-11-30T01:06:43.421426",
     "status": "completed"
    },
    "tags": []
   },
   "outputs": [
    {
     "data": {
      "text/html": [
       "\n",
       "    <div>\n",
       "      \n",
       "      <progress value='64' max='64' style='width:300px; height:20px; vertical-align: middle;'></progress>\n",
       "      [64/64 00:07]\n",
       "    </div>\n",
       "    "
      ],
      "text/plain": [
       "<IPython.core.display.HTML object>"
      ]
     },
     "metadata": {},
     "output_type": "display_data"
    },
    {
     "name": "stdout",
     "output_type": "stream",
     "text": [
      "***** eval metrics *****\n",
      "  epoch                   =       32.0\n",
      "  eval_accuracy           =     0.9565\n",
      "  eval_loss               =     1.3741\n",
      "  eval_runtime            = 0:00:07.44\n",
      "  eval_samples_per_second =     67.926\n",
      "  eval_steps_per_second   =      8.591\n"
     ]
    }
   ],
   "source": [
    "metrics = trainer.evaluate(ds['test'])\n",
    "trainer.log_metrics(\"eval\", metrics)\n",
    "trainer.save_metrics(\"eval\", metrics)"
   ]
  }
 ],
 "metadata": {
  "kernelspec": {
   "display_name": "Python 3 (ipykernel)",
   "language": "python",
   "name": "python3"
  },
  "language_info": {
   "codemirror_mode": {
    "name": "ipython",
    "version": 3
   },
   "file_extension": ".py",
   "mimetype": "text/x-python",
   "name": "python",
   "nbconvert_exporter": "python",
   "pygments_lexer": "ipython3",
   "version": "3.10.13"
  },
  "papermill": {
   "default_parameters": {},
   "duration": 1853.41141,
   "end_time": "2023-11-30T01:06:53.674940",
   "environment_variables": {},
   "exception": null,
   "input_path": "vit-train-ovareg.ipynb",
   "output_path": "vit-train-ovareg-output.ipynb",
   "parameters": {},
   "start_time": "2023-11-30T00:36:00.263530",
   "version": "2.5.0"
  },
  "widgets": {
   "application/vnd.jupyter.widget-state+json": {
    "state": {
     "12468f2410864e9482456cf8b3cd3411": {
      "model_module": "@jupyter-widgets/controls",
      "model_module_version": "2.0.0",
      "model_name": "HTMLStyleModel",
      "state": {
       "_model_module": "@jupyter-widgets/controls",
       "_model_module_version": "2.0.0",
       "_model_name": "HTMLStyleModel",
       "_view_count": null,
       "_view_module": "@jupyter-widgets/base",
       "_view_module_version": "2.0.0",
       "_view_name": "StyleView",
       "background": null,
       "description_width": "",
       "font_size": null,
       "text_color": null
      }
     },
     "5010ff99a7d24ddaa637125704918d3a": {
      "model_module": "@jupyter-widgets/controls",
      "model_module_version": "2.0.0",
      "model_name": "HTMLStyleModel",
      "state": {
       "_model_module": "@jupyter-widgets/controls",
       "_model_module_version": "2.0.0",
       "_model_name": "HTMLStyleModel",
       "_view_count": null,
       "_view_module": "@jupyter-widgets/base",
       "_view_module_version": "2.0.0",
       "_view_name": "StyleView",
       "background": null,
       "description_width": "",
       "font_size": null,
       "text_color": null
      }
     },
     "62927e1acfbf46a7831c49d3c3f18da9": {
      "model_module": "@jupyter-widgets/controls",
      "model_module_version": "2.0.0",
      "model_name": "ProgressStyleModel",
      "state": {
       "_model_module": "@jupyter-widgets/controls",
       "_model_module_version": "2.0.0",
       "_model_name": "ProgressStyleModel",
       "_view_count": null,
       "_view_module": "@jupyter-widgets/base",
       "_view_module_version": "2.0.0",
       "_view_name": "StyleView",
       "bar_color": null,
       "description_width": ""
      }
     },
     "6f55a10f60604bfab743cbc2325ab738": {
      "model_module": "@jupyter-widgets/base",
      "model_module_version": "2.0.0",
      "model_name": "LayoutModel",
      "state": {
       "_model_module": "@jupyter-widgets/base",
       "_model_module_version": "2.0.0",
       "_model_name": "LayoutModel",
       "_view_count": null,
       "_view_module": "@jupyter-widgets/base",
       "_view_module_version": "2.0.0",
       "_view_name": "LayoutView",
       "align_content": null,
       "align_items": null,
       "align_self": null,
       "border_bottom": null,
       "border_left": null,
       "border_right": null,
       "border_top": null,
       "bottom": null,
       "display": null,
       "flex": null,
       "flex_flow": null,
       "grid_area": null,
       "grid_auto_columns": null,
       "grid_auto_flow": null,
       "grid_auto_rows": null,
       "grid_column": null,
       "grid_gap": null,
       "grid_row": null,
       "grid_template_areas": null,
       "grid_template_columns": null,
       "grid_template_rows": null,
       "height": null,
       "justify_content": null,
       "justify_items": null,
       "left": null,
       "margin": null,
       "max_height": null,
       "max_width": null,
       "min_height": null,
       "min_width": null,
       "object_fit": null,
       "object_position": null,
       "order": null,
       "overflow": null,
       "padding": null,
       "right": null,
       "top": null,
       "visibility": null,
       "width": null
      }
     },
     "73443a79cd044d10b4b4e0a4f2f5f1f9": {
      "model_module": "@jupyter-widgets/base",
      "model_module_version": "2.0.0",
      "model_name": "LayoutModel",
      "state": {
       "_model_module": "@jupyter-widgets/base",
       "_model_module_version": "2.0.0",
       "_model_name": "LayoutModel",
       "_view_count": null,
       "_view_module": "@jupyter-widgets/base",
       "_view_module_version": "2.0.0",
       "_view_name": "LayoutView",
       "align_content": null,
       "align_items": null,
       "align_self": null,
       "border_bottom": null,
       "border_left": null,
       "border_right": null,
       "border_top": null,
       "bottom": null,
       "display": null,
       "flex": null,
       "flex_flow": null,
       "grid_area": null,
       "grid_auto_columns": null,
       "grid_auto_flow": null,
       "grid_auto_rows": null,
       "grid_column": null,
       "grid_gap": null,
       "grid_row": null,
       "grid_template_areas": null,
       "grid_template_columns": null,
       "grid_template_rows": null,
       "height": null,
       "justify_content": null,
       "justify_items": null,
       "left": null,
       "margin": null,
       "max_height": null,
       "max_width": null,
       "min_height": null,
       "min_width": null,
       "object_fit": null,
       "object_position": null,
       "order": null,
       "overflow": null,
       "padding": null,
       "right": null,
       "top": null,
       "visibility": null,
       "width": null
      }
     },
     "a747a39868ec4fb0b186af2080a71918": {
      "model_module": "@jupyter-widgets/controls",
      "model_module_version": "2.0.0",
      "model_name": "HTMLModel",
      "state": {
       "_dom_classes": [],
       "_model_module": "@jupyter-widgets/controls",
       "_model_module_version": "2.0.0",
       "_model_name": "HTMLModel",
       "_view_count": null,
       "_view_module": "@jupyter-widgets/controls",
       "_view_module_version": "2.0.0",
       "_view_name": "HTMLView",
       "description": "",
       "description_allow_html": false,
       "layout": "IPY_MODEL_73443a79cd044d10b4b4e0a4f2f5f1f9",
       "placeholder": "​",
       "style": "IPY_MODEL_5010ff99a7d24ddaa637125704918d3a",
       "tabbable": null,
       "tooltip": null,
       "value": " 2527/2527 [00:00&lt;00:00,  4.02it/s]"
      }
     },
     "b3883a39a3e5478789e9f9b774f3e03c": {
      "model_module": "@jupyter-widgets/controls",
      "model_module_version": "2.0.0",
      "model_name": "HBoxModel",
      "state": {
       "_dom_classes": [],
       "_model_module": "@jupyter-widgets/controls",
       "_model_module_version": "2.0.0",
       "_model_name": "HBoxModel",
       "_view_count": null,
       "_view_module": "@jupyter-widgets/controls",
       "_view_module_version": "2.0.0",
       "_view_name": "HBoxView",
       "box_style": "",
       "children": [
        "IPY_MODEL_cf78be8732d748229b77a6a13898ac2c",
        "IPY_MODEL_c054a7cbf6a542bdad6f27b975450bbf",
        "IPY_MODEL_a747a39868ec4fb0b186af2080a71918"
       ],
       "layout": "IPY_MODEL_fd000a3b002748c9850881e79eaccd8d",
       "tabbable": null,
       "tooltip": null
      }
     },
     "c054a7cbf6a542bdad6f27b975450bbf": {
      "model_module": "@jupyter-widgets/controls",
      "model_module_version": "2.0.0",
      "model_name": "FloatProgressModel",
      "state": {
       "_dom_classes": [],
       "_model_module": "@jupyter-widgets/controls",
       "_model_module_version": "2.0.0",
       "_model_name": "FloatProgressModel",
       "_view_count": null,
       "_view_module": "@jupyter-widgets/controls",
       "_view_module_version": "2.0.0",
       "_view_name": "ProgressView",
       "bar_style": "success",
       "description": "",
       "description_allow_html": false,
       "layout": "IPY_MODEL_6f55a10f60604bfab743cbc2325ab738",
       "max": 2527.0,
       "min": 0.0,
       "orientation": "horizontal",
       "style": "IPY_MODEL_62927e1acfbf46a7831c49d3c3f18da9",
       "tabbable": null,
       "tooltip": null,
       "value": 2527.0
      }
     },
     "cf78be8732d748229b77a6a13898ac2c": {
      "model_module": "@jupyter-widgets/controls",
      "model_module_version": "2.0.0",
      "model_name": "HTMLModel",
      "state": {
       "_dom_classes": [],
       "_model_module": "@jupyter-widgets/controls",
       "_model_module_version": "2.0.0",
       "_model_name": "HTMLModel",
       "_view_count": null,
       "_view_module": "@jupyter-widgets/controls",
       "_view_module_version": "2.0.0",
       "_view_name": "HTMLView",
       "description": "",
       "description_allow_html": false,
       "layout": "IPY_MODEL_dbc9360f2556430288b1a3b7d6cea8e6",
       "placeholder": "​",
       "style": "IPY_MODEL_12468f2410864e9482456cf8b3cd3411",
       "tabbable": null,
       "tooltip": null,
       "value": "Resolving data files: 100%"
      }
     },
     "dbc9360f2556430288b1a3b7d6cea8e6": {
      "model_module": "@jupyter-widgets/base",
      "model_module_version": "2.0.0",
      "model_name": "LayoutModel",
      "state": {
       "_model_module": "@jupyter-widgets/base",
       "_model_module_version": "2.0.0",
       "_model_name": "LayoutModel",
       "_view_count": null,
       "_view_module": "@jupyter-widgets/base",
       "_view_module_version": "2.0.0",
       "_view_name": "LayoutView",
       "align_content": null,
       "align_items": null,
       "align_self": null,
       "border_bottom": null,
       "border_left": null,
       "border_right": null,
       "border_top": null,
       "bottom": null,
       "display": null,
       "flex": null,
       "flex_flow": null,
       "grid_area": null,
       "grid_auto_columns": null,
       "grid_auto_flow": null,
       "grid_auto_rows": null,
       "grid_column": null,
       "grid_gap": null,
       "grid_row": null,
       "grid_template_areas": null,
       "grid_template_columns": null,
       "grid_template_rows": null,
       "height": null,
       "justify_content": null,
       "justify_items": null,
       "left": null,
       "margin": null,
       "max_height": null,
       "max_width": null,
       "min_height": null,
       "min_width": null,
       "object_fit": null,
       "object_position": null,
       "order": null,
       "overflow": null,
       "padding": null,
       "right": null,
       "top": null,
       "visibility": null,
       "width": null
      }
     },
     "fd000a3b002748c9850881e79eaccd8d": {
      "model_module": "@jupyter-widgets/base",
      "model_module_version": "2.0.0",
      "model_name": "LayoutModel",
      "state": {
       "_model_module": "@jupyter-widgets/base",
       "_model_module_version": "2.0.0",
       "_model_name": "LayoutModel",
       "_view_count": null,
       "_view_module": "@jupyter-widgets/base",
       "_view_module_version": "2.0.0",
       "_view_name": "LayoutView",
       "align_content": null,
       "align_items": null,
       "align_self": null,
       "border_bottom": null,
       "border_left": null,
       "border_right": null,
       "border_top": null,
       "bottom": null,
       "display": null,
       "flex": null,
       "flex_flow": null,
       "grid_area": null,
       "grid_auto_columns": null,
       "grid_auto_flow": null,
       "grid_auto_rows": null,
       "grid_column": null,
       "grid_gap": null,
       "grid_row": null,
       "grid_template_areas": null,
       "grid_template_columns": null,
       "grid_template_rows": null,
       "height": null,
       "justify_content": null,
       "justify_items": null,
       "left": null,
       "margin": null,
       "max_height": null,
       "max_width": null,
       "min_height": null,
       "min_width": null,
       "object_fit": null,
       "object_position": null,
       "order": null,
       "overflow": null,
       "padding": null,
       "right": null,
       "top": null,
       "visibility": null,
       "width": null
      }
     }
    },
    "version_major": 2,
    "version_minor": 0
   }
  }
 },
 "nbformat": 4,
 "nbformat_minor": 5
}